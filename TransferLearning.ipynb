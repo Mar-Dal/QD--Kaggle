{
 "cells": [
  {
   "cell_type": "code",
   "execution_count": 167,
   "metadata": {},
   "outputs": [],
   "source": [
    "import numpy as np\n",
    "import matplotlib.pyplot as plt\n",
    "import pandas as pd\n",
    "import keras\n",
    "from sklearn.model_selection import train_test_split\n",
    "from keras.preprocessing.image import ImageDataGenerator\n",
    "from keras.models import Sequential\n",
    "from keras.layers import Dense\n",
    "from keras.wrappers.scikit_learn import KerasClassifier\n",
    "from keras.utils import np_utils\n",
    "from sklearn.model_selection import cross_val_score\n",
    "from sklearn.model_selection import KFold\n",
    "from sklearn.preprocessing import OneHotEncoder\n",
    "import matplotlib.pyplot as plt\n",
    "import imageio\n",
    "import cv2\n",
    "from fastai import *\n",
    "from fastai.vision import *\n",
    "from fastai.vision.all import *"
   ]
  },
  {
   "cell_type": "code",
   "execution_count": 3,
   "metadata": {},
   "outputs": [],
   "source": [
    "from keras.applications.resnet50 import ResNet50\n",
    "from keras.applications import MobileNet, MobileNetV2\n",
    "from keras.applications.resnet50 import preprocess_input\n",
    "from sklearn.preprocessing import OneHotEncoder\n",
    "from pathlib import Path\n",
    "import os\n",
    "import imageio"
   ]
  },
  {
   "cell_type": "code",
   "execution_count": 330,
   "metadata": {},
   "outputs": [],
   "source": [
    "from keras.models import Sequential\n",
    "from keras.layers import Dense, Dropout, Flatten, Conv2D, MaxPooling2D\n",
    "from keras.applications.resnet50 import ResNet50\n",
    "from keras.layers import GaussianNoise"
   ]
  },
  {
   "cell_type": "markdown",
   "metadata": {},
   "source": [
    "###   Load training data from npz array"
   ]
  },
  {
   "cell_type": "code",
   "execution_count": 120,
   "metadata": {},
   "outputs": [
    {
     "data": {
      "text/plain": [
       "((1500, 784), (1500,))"
      ]
     },
     "execution_count": 120,
     "metadata": {},
     "output_type": "execute_result"
    }
   ],
   "source": [
    "train_ds = np.load('train.npz')\n",
    "train_x = train_ds['arr_0']\n",
    "train_y = train_ds['arr_1']\n",
    "\n",
    "train_x.shape, train_y.shape"
   ]
  },
  {
   "cell_type": "code",
   "execution_count": 945,
   "metadata": {},
   "outputs": [
    {
     "name": "stdout",
     "output_type": "stream",
     "text": [
      "194\n",
      "195\n",
      "197\n",
      "198\n",
      "203\n",
      "208\n",
      "215\n",
      "223\n",
      "233\n"
     ]
    },
    {
     "data": {
      "image/png": "[encoded data removed]",
      "text/plain": [
       "<Figure size 432x288 with 9 Axes>"
      ]
     },
     "metadata": {
      "needs_background": "light"
     },
     "output_type": "display_data"
    }
   ],
   "source": [
    "# number = random.randint(0, train_x.shape[0])\n",
    "target = 1\n",
    "fig, ax = plt.subplots(nrows=3, ncols=3)\n",
    "number = 190\n",
    "for row in ax:\n",
    "    for col in row:\n",
    "        \n",
    "        while(train_y[number] != target):\n",
    "            number +=1\n",
    "        col.imshow(train_x[number].reshape(28, 28))\n",
    "        print(number)\n",
    "        number += 1\n",
    "\n",
    "plt.show()"
   ]
  },
  {
   "cell_type": "markdown",
   "metadata": {},
   "source": [
    "##### Function to save images (Needed for the flow_from_directory function from ImageDataGenerator)."
   ]
  },
  {
   "cell_type": "code",
   "execution_count": 133,
   "metadata": {},
   "outputs": [],
   "source": [
    "def save_imgs(path:Path, data, labels):\n",
    "    for label in np.unique(labels):\n",
    "        (path/str(label)).mkdir(parents=True,exist_ok=True)\n",
    "    for i in range(len(data)):\n",
    "        if(len(labels)!=0):\n",
    "            imageio.imwrite( str( path/str(labels[i])/(str(i)+'.jpg') ), data[i].reshape(28,28,3))\n",
    "        else:\n",
    "            imageio.imwrite( str( path/(str(i)+'.jpg') ), data[i])"
   ]
  },
  {
   "cell_type": "markdown",
   "metadata": {},
   "source": [
    "### Constant validation set."
   ]
  },
  {
   "cell_type": "code",
   "execution_count": 160,
   "metadata": {},
   "outputs": [],
   "source": [
    "from tensorflow.keras.preprocessing.image import load_img, img_to_array, array_to_img"
   ]
  },
  {
   "cell_type": "code",
   "execution_count": 184,
   "metadata": {},
   "outputs": [],
   "source": [
    "def flipImage(image):\n",
    "    t = array_to_img(image.reshape(28,28,1), scale=True)\n",
    "    t = np.stack((t,)*3, axis=-1).astype(np.uint8)\n",
    "    t = tf.image.flip_left_right(np.array(t))\n",
    "    arr = np.array(img_to_array(t))\n",
    "    return arr.astype(np.uint8)\n",
    "     "
   ]
  },
  {
   "cell_type": "code",
   "execution_count": 871,
   "metadata": {},
   "outputs": [
    {
     "data": {
      "text/plain": [
       "(300,)"
      ]
     },
     "execution_count": 871,
     "metadata": {},
     "output_type": "execute_result"
    }
   ],
   "source": [
    "indexValid = np.concatenate((np.where(train_y == 0)[0][200:], np.where(train_y == 1)[0][200:], np.where(train_y == 2)[0][200:], np.where(train_y == 3)[0][200:], np.where(train_y == 4)[0][200:], np.where(train_y == 5)[0][200:]))\n",
    "indexValid.shape"
   ]
  },
  {
   "cell_type": "code",
   "execution_count": 872,
   "metadata": {},
   "outputs": [
    {
     "data": {
      "text/plain": [
       "(1200,)"
      ]
     },
     "execution_count": 872,
     "metadata": {},
     "output_type": "execute_result"
    }
   ],
   "source": [
    "indexTrain = np.concatenate((np.where(train_y == 0)[0][:200], np.where(train_y == 1)[0][:200], np.where(train_y == 2)[0][:200], np.where(train_y == 3)[0][:200], np.where(train_y == 4)[0][:200], np.where(train_y == 5)[0][:200]))\n",
    "indexTrain.shape"
   ]
  },
  {
   "cell_type": "markdown",
   "metadata": {},
   "source": [
    "####  Validation labels encoding, doubled because we flip the images."
   ]
  },
  {
   "cell_type": "code",
   "execution_count": 873,
   "metadata": {},
   "outputs": [
    {
     "data": {
      "text/plain": [
       "(300, 6)"
      ]
     },
     "execution_count": 873,
     "metadata": {},
     "output_type": "execute_result"
    }
   ],
   "source": [
    "enc = OneHotEncoder()\n",
    "enc.fit(train_y[indexValid].reshape(-1,1))\n",
    "yValid = enc.transform(train_y[indexValid].reshape(-1,1)).toarray()\n",
    "yValid.shape"
   ]
  },
  {
   "cell_type": "code",
   "execution_count": 874,
   "metadata": {},
   "outputs": [],
   "source": [
    "yValid = np.concatenate((yValid, yValid))"
   ]
  },
  {
   "cell_type": "markdown",
   "metadata": {},
   "source": [
    "#### Training Labels Encoding. *(If needed)."
   ]
  },
  {
   "cell_type": "code",
   "execution_count": 876,
   "metadata": {},
   "outputs": [
    {
     "data": {
      "text/plain": [
       "(1200, 6)"
      ]
     },
     "execution_count": 876,
     "metadata": {},
     "output_type": "execute_result"
    }
   ],
   "source": [
    "enc = OneHotEncoder()\n",
    "enc.fit(train_y[indexTrain].reshape(-1,1))\n",
    "yT = enc.transform(train_y[indexTrain].reshape(-1,1)).toarray()\n",
    "yT.shape"
   ]
  },
  {
   "cell_type": "code",
   "execution_count": 877,
   "metadata": {},
   "outputs": [],
   "source": [
    "yT = np.concatenate((yT, yT))"
   ]
  },
  {
   "cell_type": "code",
   "execution_count": 878,
   "metadata": {},
   "outputs": [],
   "source": [
    "def change_size(image):\n",
    "    img = array_to_img(image, scale=True) #returns PIL Image\n",
    "    img = img.resize((128, 128)) #resize image\n",
    "    img = img.convert(mode='RGB') #makes 3 channels\n",
    "    arr = np.array(img_to_array(img)) #convert back to array\n",
    "    return arr.astype(np.uint8)"
   ]
  },
  {
   "cell_type": "markdown",
   "metadata": {},
   "source": [
    "#### Validation set Flipping and Resizing to fit the MobileNet Network"
   ]
  },
  {
   "cell_type": "code",
   "execution_count": 879,
   "metadata": {},
   "outputs": [],
   "source": [
    "xV = train_x[indexValid]\n",
    "xValid = np.zeros((600,  128, 128 ,3))\n",
    "for i in range(300):\n",
    "    #xValid[i] = np.stack((xV[i].reshape(28,28),)*3, axis=-1)\n",
    "    xValid[i] = change_size(xV[i].reshape(28,28,1))\n",
    "for i in range(300):\n",
    "    t = flipImage(xV[i]).reshape(28,28,3)\n",
    "    xValid[i+300] = change_size(t)"
   ]
  },
  {
   "cell_type": "markdown",
   "metadata": {},
   "source": [
    "#### Same for training set. *(if needed)."
   ]
  },
  {
   "cell_type": "code",
   "execution_count": 880,
   "metadata": {},
   "outputs": [],
   "source": [
    "xT = train_x[indexTrain]\n",
    "xTrain = np.zeros((2400,  28, 28 ,3))\n",
    "\n",
    "for i in range(1200):\n",
    "    xTrain[i] = np.stack((xT[i].reshape(28,28),)*3, axis=-1)\n",
    "    \n",
    "for i in range(1200):\n",
    "    t = flipImage(xT[i].reshape(28,28))\n",
    "    xTrain[i+1200] = t"
   ]
  },
  {
   "cell_type": "raw",
   "metadata": {},
   "source": [
    "Testing:"
   ]
  },
  {
   "cell_type": "code",
   "execution_count": 881,
   "metadata": {},
   "outputs": [
    {
     "data": {
      "text/plain": [
       "<matplotlib.image.AxesImage at 0x181414c90>"
      ]
     },
     "execution_count": 881,
     "metadata": {},
     "output_type": "execute_result"
    },
    {
     "data": {
      "image/png": "[encoded data removed]",
      "text/plain": [
       "<Figure size 432x288 with 1 Axes>"
      ]
     },
     "metadata": {
      "needs_background": "light"
     },
     "output_type": "display_data"
    }
   ],
   "source": [
    "plt.imshow(xValid[300] / 255)"
   ]
  },
  {
   "cell_type": "code",
   "execution_count": 882,
   "metadata": {},
   "outputs": [
    {
     "data": {
      "text/plain": [
       "<matplotlib.image.AxesImage at 0x180d39750>"
      ]
     },
     "execution_count": 882,
     "metadata": {},
     "output_type": "execute_result"
    },
    {
     "data": {
      "image/png": "[encoded data removed]",
      "text/plain": [
       "<Figure size 432x288 with 1 Axes>"
      ]
     },
     "metadata": {
      "needs_background": "light"
     },
     "output_type": "display_data"
    }
   ],
   "source": [
    "plt.imshow(xValid[0]/255)"
   ]
  },
  {
   "cell_type": "markdown",
   "metadata": {},
   "source": [
    "##### A bit ugly but it should be better for the preprocessing of the inputs."
   ]
  },
  {
   "cell_type": "code",
   "execution_count": 883,
   "metadata": {},
   "outputs": [
    {
     "data": {
      "text/plain": [
       "(600, 128, 128, 3)"
      ]
     },
     "execution_count": 883,
     "metadata": {},
     "output_type": "execute_result"
    }
   ],
   "source": [
    "xValid.shape"
   ]
  },
  {
   "cell_type": "code",
   "execution_count": null,
   "metadata": {},
   "outputs": [],
   "source": []
  },
  {
   "cell_type": "markdown",
   "metadata": {},
   "source": [
    "### Saving Training Data to directory if not already done.  Skip if otherwise."
   ]
  },
  {
   "cell_type": "markdown",
   "metadata": {},
   "source": [
    "###### Reshaping and saving training data to directory."
   ]
  },
  {
   "cell_type": "code",
   "execution_count": 884,
   "metadata": {},
   "outputs": [],
   "source": [
    "trainingSplit = 1200"
   ]
  },
  {
   "cell_type": "code",
   "execution_count": 885,
   "metadata": {},
   "outputs": [
    {
     "name": "stdout",
     "output_type": "stream",
     "text": [
      "(1500, 784, 3)\n"
     ]
    }
   ],
   "source": [
    "X_train = np.stack((train_x,)*3, axis=-1).astype(np.uint8)\n",
    "print(X_train.shape)"
   ]
  },
  {
   "cell_type": "code",
   "execution_count": null,
   "metadata": {},
   "outputs": [],
   "source": []
  },
  {
   "cell_type": "code",
   "execution_count": 886,
   "metadata": {},
   "outputs": [
    {
     "data": {
      "text/plain": [
       "(1200,)"
      ]
     },
     "execution_count": 886,
     "metadata": {},
     "output_type": "execute_result"
    }
   ],
   "source": [
    "indexTrain = np.concatenate((np.where(train_y == 0)[0][:200], np.where(train_y == 1)[0][:200], np.where(train_y == 2)[0][:200], np.where(train_y == 3)[0][:200], np.where(train_y == 4)[0][:200], np.where(train_y == 5)[0][:200]))\n",
    "indexTrain.shape"
   ]
  },
  {
   "cell_type": "code",
   "execution_count": 887,
   "metadata": {},
   "outputs": [
    {
     "data": {
      "text/plain": [
       "(1200, 784, 3)"
      ]
     },
     "execution_count": 887,
     "metadata": {},
     "output_type": "execute_result"
    }
   ],
   "source": [
    "X_train[indexTrain].shape"
   ]
  },
  {
   "cell_type": "code",
   "execution_count": 888,
   "metadata": {},
   "outputs": [],
   "source": [
    "save_imgs(Path('./train1200Classes/classes'), X_train[indexTrain], train_y[indexTrain])"
   ]
  },
  {
   "cell_type": "code",
   "execution_count": 869,
   "metadata": {},
   "outputs": [
    {
     "data": {
      "text/plain": [
       "(300,)"
      ]
     },
     "execution_count": 869,
     "metadata": {},
     "output_type": "execute_result"
    }
   ],
   "source": [
    "indexValid = np.concatenate((np.where(train_y == 0)[0][200:], np.where(train_y == 1)[0][200:], np.where(train_y == 2)[0][200:], np.where(train_y == 3)[0][200:], np.where(train_y == 4)[0][200:], np.where(train_y == 5)[0][200:]))\n",
    "indexValid.shape"
   ]
  },
  {
   "cell_type": "code",
   "execution_count": null,
   "metadata": {},
   "outputs": [],
   "source": []
  },
  {
   "cell_type": "markdown",
   "metadata": {},
   "source": [
    "#### We should optimize buy having a fully balanced training_set, which the case now: "
   ]
  },
  {
   "cell_type": "code",
   "execution_count": 870,
   "metadata": {},
   "outputs": [
    {
     "name": "stdout",
     "output_type": "stream",
     "text": [
      "[200. 200. 200. 200. 200. 200.]\n"
     ]
    }
   ],
   "source": [
    "t = train_y[indexTrain]\n",
    "count = np.zeros(6)\n",
    "for i in t:\n",
    "    count[i] += 1\n",
    "print(count)"
   ]
  },
  {
   "cell_type": "markdown",
   "metadata": {},
   "source": [
    "### Load Test Data, if we already have them on disc in the good format, you can skip part 1."
   ]
  },
  {
   "cell_type": "markdown",
   "metadata": {},
   "source": [
    "#### Part 1"
   ]
  },
  {
   "cell_type": "code",
   "execution_count": 7,
   "metadata": {},
   "outputs": [
    {
     "data": {
      "text/plain": [
       "(60000, 784)"
      ]
     },
     "execution_count": 7,
     "metadata": {},
     "output_type": "execute_result"
    }
   ],
   "source": [
    "## Not Needed if we already have them on disc with the call (np.load('test128RGB.npy')).\n",
    "test_ds = np.load('test.npz')\n",
    "test_x = test_ds['arr_0']\n",
    "\n",
    "test_x.shape"
   ]
  },
  {
   "cell_type": "code",
   "execution_count": 763,
   "metadata": {},
   "outputs": [],
   "source": [
    "from tensorflow.keras.preprocessing.image import load_img, img_to_array, array_to_img"
   ]
  },
  {
   "cell_type": "code",
   "execution_count": 762,
   "metadata": {},
   "outputs": [],
   "source": [
    "def change_size(image):\n",
    "    img = array_to_img(image, scale=True) #returns PIL Image\n",
    "    img = img.resize((128, 128)) #resize image\n",
    "    img = img.convert(mode='RGB') #makes 3 channels\n",
    "    arr = np.array(img_to_array(img)) #convert back to array\n",
    "    return arr.astype(np.uint8)"
   ]
  },
  {
   "cell_type": "markdown",
   "metadata": {},
   "source": [
    "#### Resizing the test data."
   ]
  },
  {
   "cell_type": "code",
   "execution_count": null,
   "metadata": {},
   "outputs": [],
   "source": [
    "X_train = np.stack((train_x,)*3, axis=-1).astype(np.uint8)\n",
    "print(X_train.shape)"
   ]
  },
  {
   "cell_type": "code",
   "execution_count": 768,
   "metadata": {},
   "outputs": [
    {
     "name": "stdout",
     "output_type": "stream",
     "text": [
      "1 %\n",
      "2 %\n",
      "3 %\n",
      "4 %\n",
      "5 %\n",
      "6 %\n",
      "7 %\n",
      "8 %\n",
      "9 %\n",
      "10 %\n",
      "11 %\n",
      "12 %\n",
      "13 %\n",
      "14 %\n",
      "15 %\n",
      "16 %\n",
      "17 %\n",
      "18 %\n",
      "19 %\n",
      "20 %\n",
      "21 %\n",
      "22 %\n",
      "23 %\n",
      "24 %\n",
      "25 %\n",
      "26 %\n",
      "27 %\n",
      "28 %\n",
      "29 %\n",
      "30 %\n",
      "31 %\n",
      "32 %\n",
      "33 %\n",
      "34 %\n",
      "35 %\n",
      "36 %\n",
      "37 %\n",
      "38 %\n",
      "39 %\n",
      "40 %\n",
      "41 %\n",
      "42 %\n",
      "43 %\n",
      "44 %\n",
      "45 %\n",
      "46 %\n",
      "47 %\n",
      "48 %\n",
      "49 %\n",
      "50 %\n",
      "51 %\n",
      "52 %\n",
      "53 %\n",
      "54 %\n",
      "55 %\n",
      "56 %\n",
      "57 %\n",
      "58 %\n",
      "59 %\n",
      "60 %\n",
      "61 %\n",
      "62 %\n",
      "63 %\n",
      "64 %\n",
      "65 %\n",
      "66 %\n",
      "67 %\n",
      "68 %\n",
      "69 %\n",
      "70 %\n",
      "71 %\n",
      "72 %\n",
      "73 %\n",
      "74 %\n",
      "75 %\n",
      "76 %\n",
      "77 %\n",
      "78 %\n",
      "79 %\n",
      "80 %\n",
      "81 %\n",
      "82 %\n",
      "83 %\n",
      "84 %\n",
      "85 %\n",
      "86 %\n",
      "87 %\n",
      "88 %\n",
      "89 %\n",
      "90 %\n",
      "91 %\n",
      "92 %\n",
      "93 %\n",
      "94 %\n",
      "95 %\n",
      "96 %\n",
      "97 %\n",
      "98 %\n",
      "99 %\n",
      "100 %\n"
     ]
    }
   ],
   "source": [
    "testReshapedX = np.zeros((test_x.shape[0], 128,  128, 3))\n",
    "X_test = np.stack((test_x,)*3, axis=-1).astype(np.uint8)\n",
    "percentage =  60000 /100\n",
    "p = 1\n",
    "for i in range(X_test.shape[0]):\n",
    "    testReshapedX[i] = change_size(X_test[i].reshape(28,28,3))\n",
    "    if i % percentage == 0:\n",
    "        print(p, \"%\")\n",
    "        p +=1\n",
    "    "
   ]
  },
  {
   "cell_type": "markdown",
   "metadata": {},
   "source": [
    "#### Saving  the data in case of crash."
   ]
  },
  {
   "cell_type": "code",
   "execution_count": null,
   "metadata": {},
   "outputs": [],
   "source": [
    "np.save(\"test128RGB.npy\", testReshapedX.astype(np.uint8))"
   ]
  },
  {
   "cell_type": "code",
   "execution_count": null,
   "metadata": {},
   "outputs": [],
   "source": [
    "testReshapedX.shape"
   ]
  },
  {
   "cell_type": "markdown",
   "metadata": {},
   "source": [
    "##### Part 2"
   ]
  },
  {
   "cell_type": "code",
   "execution_count": 9,
   "metadata": {},
   "outputs": [
    {
     "data": {
      "text/plain": [
       "(60000, 128, 128, 3)"
      ]
     },
     "execution_count": 9,
     "metadata": {},
     "output_type": "execute_result"
    }
   ],
   "source": [
    "## Cannot be done if not on disc. (Should load them from the above call).\n",
    "testReshapedX = np.load('test128RGB.npy')\n",
    "testReshapedX.shape"
   ]
  },
  {
   "cell_type": "code",
   "execution_count": 22,
   "metadata": {},
   "outputs": [
    {
     "data": {
      "text/plain": [
       "<matplotlib.image.AxesImage at 0x166461550>"
      ]
     },
     "execution_count": 22,
     "metadata": {},
     "output_type": "execute_result"
    },
    {
     "data": {
      "image/png": "[encoded data removed]",
      "text/plain": [
       "<Figure size 432x288 with 1 Axes>"
      ]
     },
     "metadata": {
      "needs_background": "light"
     },
     "output_type": "display_data"
    }
   ],
   "source": [
    "plt.imshow(testReshapedX[30000] /255)  "
   ]
  },
  {
   "cell_type": "markdown",
   "metadata": {},
   "source": []
  },
  {
   "cell_type": "markdown",
   "metadata": {},
   "source": [
    "### MobileNet Transfer Modle"
   ]
  },
  {
   "cell_type": "markdown",
   "metadata": {},
   "source": [
    "##### Prepocess the validation set. * I often made mistakes because of that haha."
   ]
  },
  {
   "cell_type": "code",
   "execution_count": 896,
   "metadata": {},
   "outputs": [],
   "source": [
    "xValid = keras.applications.mobilenet.preprocess_input(xValid)"
   ]
  },
  {
   "cell_type": "code",
   "execution_count": 897,
   "metadata": {},
   "outputs": [
    {
     "data": {
      "text/plain": [
       "1.0"
      ]
     },
     "execution_count": 897,
     "metadata": {},
     "output_type": "execute_result"
    }
   ],
   "source": [
    "xValid[0].max()"
   ]
  },
  {
   "cell_type": "code",
   "execution_count": 675,
   "metadata": {},
   "outputs": [
    {
     "data": {
      "text/plain": [
       "(600, 128, 128, 3)"
      ]
     },
     "execution_count": 675,
     "metadata": {},
     "output_type": "execute_result"
    }
   ],
   "source": [
    "xValid.shape"
   ]
  },
  {
   "cell_type": "code",
   "execution_count": 788,
   "metadata": {},
   "outputs": [
    {
     "name": "stderr",
     "output_type": "stream",
     "text": [
      "Clipping input data to the valid range for imshow with RGB data ([0..1] for floats or [0..255] for integers).\n"
     ]
    },
    {
     "data": {
      "text/plain": [
       "<matplotlib.image.AxesImage at 0x17e139590>"
      ]
     },
     "execution_count": 788,
     "metadata": {},
     "output_type": "execute_result"
    },
    {
     "data": {
      "image/png": "[encoded data removed]",
      "text/plain": [
       "<Figure size 432x288 with 1 Axes>"
      ]
     },
     "metadata": {
      "needs_background": "light"
     },
     "output_type": "display_data"
    }
   ],
   "source": [
    "plt.imshow(xValid[0] )"
   ]
  },
  {
   "cell_type": "markdown",
   "metadata": {},
   "source": [
    "#### Train Image Generator, from the directory created above."
   ]
  },
  {
   "cell_type": "code",
   "execution_count": 804,
   "metadata": {},
   "outputs": [],
   "source": [
    "from keras.applications import MobileNet, MobileNetV2"
   ]
  },
  {
   "cell_type": "code",
   "execution_count": 889,
   "metadata": {},
   "outputs": [
    {
     "name": "stdout",
     "output_type": "stream",
     "text": [
      "Found 1200 images belonging to 6 classes.\n"
     ]
    }
   ],
   "source": [
    "from keras.applications.resnet50 import preprocess_input\n",
    "import tensorflow as tf\n",
    "\n",
    "train_datagen=tf.keras.preprocessing.image.ImageDataGenerator(preprocessing_function=keras.applications.mobilenet.preprocess_input, horizontal_flip=True, width_shift_range=0.17, zoom_range=0.1,\n",
    "    height_shift_range=0.17, shear_range=0.01, rotation_range=25, fill_mode=\"constant\", validation_split=0.00)\n",
    "train_generator = train_datagen.flow_from_directory('./train1200Classes/classes', class_mode='categorical', target_size=(128,128), subset='training')\n",
    "#valid_generator = train_datagen.flow_from_directory('./train1200A/classes', class_mode='categorical', target_size=(128,128), subset='validation')"
   ]
  },
  {
   "cell_type": "code",
   "execution_count": 890,
   "metadata": {},
   "outputs": [
    {
     "name": "stdout",
     "output_type": "stream",
     "text": [
      "(32, 128, 128, 3)\n",
      "(32, 6)\n"
     ]
    }
   ],
   "source": [
    "## Checking\n",
    "x, y = train_generator[0]\n",
    "print(x.shape)\n",
    "print(y.shape)"
   ]
  },
  {
   "cell_type": "code",
   "execution_count": 891,
   "metadata": {},
   "outputs": [
    {
     "data": {
      "text/plain": [
       "1.0"
      ]
     },
     "execution_count": 891,
     "metadata": {},
     "output_type": "execute_result"
    }
   ],
   "source": [
    "x[22].max()"
   ]
  },
  {
   "cell_type": "code",
   "execution_count": 899,
   "metadata": {},
   "outputs": [
    {
     "name": "stderr",
     "output_type": "stream",
     "text": [
      "Clipping input data to the valid range for imshow with RGB data ([0..1] for floats or [0..255] for integers).\n"
     ]
    },
    {
     "data": {
      "text/plain": [
       "<matplotlib.image.AxesImage at 0x17da670d0>"
      ]
     },
     "execution_count": 899,
     "metadata": {},
     "output_type": "execute_result"
    },
    {
     "data": {
      "image/png": "[encoded data removed]",
      "text/plain": [
       "<Figure size 432x288 with 1 Axes>"
      ]
     },
     "metadata": {
      "needs_background": "light"
     },
     "output_type": "display_data"
    }
   ],
   "source": [
    "plt.imshow(x[22])"
   ]
  },
  {
   "cell_type": "code",
   "execution_count": 814,
   "metadata": {},
   "outputs": [
    {
     "data": {
      "text/plain": [
       "(32, 128, 128, 3)"
      ]
     },
     "execution_count": 814,
     "metadata": {},
     "output_type": "execute_result"
    }
   ],
   "source": [
    "x.shape"
   ]
  },
  {
   "cell_type": "markdown",
   "metadata": {},
   "source": [
    "### Model, not sure whether to freeze the upper model. Currently, don't think we should."
   ]
  },
  {
   "cell_type": "code",
   "execution_count": 920,
   "metadata": {},
   "outputs": [],
   "source": [
    "model = Sequential()\n",
    "\n",
    "\n",
    "model.add(MobileNet(input_shape=(128,128, 3),  include_top = False, pooling = 'avg', weights = 'imagenet'))\n",
    "model.add(Dropout(0.5))\n",
    "model.add(Dense(128, activation='relu'))\n",
    "model.add(Dense(6, activation = 'softmax'))\n",
    "\n",
    "model.layers[0].trainable = False"
   ]
  },
  {
   "cell_type": "code",
   "execution_count": 921,
   "metadata": {},
   "outputs": [
    {
     "name": "stdout",
     "output_type": "stream",
     "text": [
      "Model: \"sequential_43\"\n",
      "_________________________________________________________________\n",
      "Layer (type)                 Output Shape              Param #   \n",
      "=================================================================\n",
      "mobilenet_1.00_128 (Function (None, 1024)              3228864   \n",
      "_________________________________________________________________\n",
      "dropout_45 (Dropout)         (None, 1024)              0         \n",
      "_________________________________________________________________\n",
      "dense_100 (Dense)            (None, 128)               131200    \n",
      "_________________________________________________________________\n",
      "dense_101 (Dense)            (None, 6)                 774       \n",
      "=================================================================\n",
      "Total params: 3,360,838\n",
      "Trainable params: 131,974\n",
      "Non-trainable params: 3,228,864\n",
      "_________________________________________________________________\n"
     ]
    }
   ],
   "source": [
    "model.summary()"
   ]
  },
  {
   "cell_type": "markdown",
   "metadata": {},
   "source": [
    "### Unfreeze the model."
   ]
  },
  {
   "cell_type": "code",
   "execution_count": 922,
   "metadata": {},
   "outputs": [],
   "source": [
    "model.trainable = True\n",
    "model.layers[0].trainable = True\n",
    "model.layers[1].trainable = True"
   ]
  },
  {
   "cell_type": "code",
   "execution_count": 923,
   "metadata": {},
   "outputs": [
    {
     "name": "stdout",
     "output_type": "stream",
     "text": [
      "Model: \"sequential_43\"\n",
      "_________________________________________________________________\n",
      "Layer (type)                 Output Shape              Param #   \n",
      "=================================================================\n",
      "mobilenet_1.00_128 (Function (None, 1024)              3228864   \n",
      "_________________________________________________________________\n",
      "dropout_45 (Dropout)         (None, 1024)              0         \n",
      "_________________________________________________________________\n",
      "dense_100 (Dense)            (None, 128)               131200    \n",
      "_________________________________________________________________\n",
      "dense_101 (Dense)            (None, 6)                 774       \n",
      "=================================================================\n",
      "Total params: 3,360,838\n",
      "Trainable params: 3,338,950\n",
      "Non-trainable params: 21,888\n",
      "_________________________________________________________________\n"
     ]
    }
   ],
   "source": [
    "model.summary()"
   ]
  },
  {
   "cell_type": "markdown",
   "metadata": {},
   "source": [
    "### Compile with very small learning rate."
   ]
  },
  {
   "cell_type": "code",
   "execution_count": 924,
   "metadata": {},
   "outputs": [],
   "source": [
    "model.compile(optimizer=keras.optimizers.Adam(1e-5), loss='categorical_crossentropy', metrics=['accuracy'])"
   ]
  },
  {
   "cell_type": "code",
   "execution_count": 925,
   "metadata": {},
   "outputs": [
    {
     "name": "stdout",
     "output_type": "stream",
     "text": [
      "Epoch 1/1000\n",
      "38/38 [==============================] - 51s 1s/step - loss: 3.0965 - accuracy: 0.1725 - val_loss: 2.5192 - val_accuracy: 0.2133\n",
      "Epoch 2/1000\n",
      "38/38 [==============================] - 45s 1s/step - loss: 2.6424 - accuracy: 0.2033 - val_loss: 2.1494 - val_accuracy: 0.2067\n",
      "Epoch 3/1000\n",
      "38/38 [==============================] - 45s 1s/step - loss: 2.3856 - accuracy: 0.2283 - val_loss: 1.8849 - val_accuracy: 0.2283\n",
      "Epoch 4/1000\n",
      "38/38 [==============================] - 45s 1s/step - loss: 2.0986 - accuracy: 0.2650 - val_loss: 1.7334 - val_accuracy: 0.2950\n",
      "Epoch 5/1000\n",
      "38/38 [==============================] - 45s 1s/step - loss: 1.8733 - accuracy: 0.3167 - val_loss: 1.6675 - val_accuracy: 0.3483\n",
      "Epoch 6/1000\n",
      "38/38 [==============================] - 55s 1s/step - loss: 1.7762 - accuracy: 0.3492 - val_loss: 1.6131 - val_accuracy: 0.3567\n",
      "Epoch 7/1000\n",
      "38/38 [==============================] - 48s 1s/step - loss: 1.7431 - accuracy: 0.3742 - val_loss: 1.5699 - val_accuracy: 0.3733\n",
      "Epoch 8/1000\n",
      "38/38 [==============================] - 47s 1s/step - loss: 1.6105 - accuracy: 0.3892 - val_loss: 1.5466 - val_accuracy: 0.3967\n",
      "Epoch 9/1000\n",
      "38/38 [==============================] - 47s 1s/step - loss: 1.6079 - accuracy: 0.4108 - val_loss: 1.4891 - val_accuracy: 0.4233\n",
      "Epoch 10/1000\n",
      "38/38 [==============================] - 46s 1s/step - loss: 1.4939 - accuracy: 0.4458 - val_loss: 1.4864 - val_accuracy: 0.4283\n",
      "Epoch 11/1000\n",
      "38/38 [==============================] - 46s 1s/step - loss: 1.4768 - accuracy: 0.4592 - val_loss: 1.4476 - val_accuracy: 0.4467\n",
      "Epoch 12/1000\n",
      "38/38 [==============================] - 45s 1s/step - loss: 1.4829 - accuracy: 0.4525 - val_loss: 1.4111 - val_accuracy: 0.4600\n",
      "Epoch 13/1000\n",
      "38/38 [==============================] - 46s 1s/step - loss: 1.4155 - accuracy: 0.4658 - val_loss: 1.3573 - val_accuracy: 0.4833\n",
      "Epoch 14/1000\n",
      "38/38 [==============================] - 46s 1s/step - loss: 1.2874 - accuracy: 0.5283 - val_loss: 1.2855 - val_accuracy: 0.5117\n",
      "Epoch 15/1000\n",
      "38/38 [==============================] - 41s 1s/step - loss: 1.3175 - accuracy: 0.5158 - val_loss: 1.2207 - val_accuracy: 0.5300\n",
      "Epoch 16/1000\n",
      "38/38 [==============================] - 41s 1s/step - loss: 1.2382 - accuracy: 0.5425 - val_loss: 1.1794 - val_accuracy: 0.5183\n",
      "Epoch 17/1000\n",
      "38/38 [==============================] - 40s 1s/step - loss: 1.2636 - accuracy: 0.5317 - val_loss: 1.1427 - val_accuracy: 0.5567\n",
      "Epoch 18/1000\n",
      "38/38 [==============================] - 42s 1s/step - loss: 1.2431 - accuracy: 0.5475 - val_loss: 1.1044 - val_accuracy: 0.5883\n",
      "Epoch 19/1000\n",
      "38/38 [==============================] - 40s 1s/step - loss: 1.1461 - accuracy: 0.5742 - val_loss: 1.0873 - val_accuracy: 0.5933\n",
      "Epoch 20/1000\n",
      "38/38 [==============================] - 42s 1s/step - loss: 1.1493 - accuracy: 0.5667 - val_loss: 1.0640 - val_accuracy: 0.6117\n",
      "Epoch 21/1000\n",
      "38/38 [==============================] - 41s 1s/step - loss: 1.1259 - accuracy: 0.5850 - val_loss: 1.0450 - val_accuracy: 0.6167\n",
      "Epoch 22/1000\n",
      "38/38 [==============================] - 44s 1s/step - loss: 1.0867 - accuracy: 0.6067 - val_loss: 0.9888 - val_accuracy: 0.6450\n",
      "Epoch 23/1000\n",
      "38/38 [==============================] - 44s 1s/step - loss: 1.1082 - accuracy: 0.5892 - val_loss: 0.9822 - val_accuracy: 0.6483\n",
      "Epoch 24/1000\n",
      "38/38 [==============================] - 41s 1s/step - loss: 1.0925 - accuracy: 0.6117 - val_loss: 0.9590 - val_accuracy: 0.6433\n",
      "Epoch 25/1000\n",
      "38/38 [==============================] - 44s 1s/step - loss: 0.9836 - accuracy: 0.6325 - val_loss: 1.0017 - val_accuracy: 0.6250\n",
      "Epoch 26/1000\n",
      "38/38 [==============================] - 41s 1s/step - loss: 1.0446 - accuracy: 0.6233 - val_loss: 0.9857 - val_accuracy: 0.6250\n",
      "Epoch 27/1000\n",
      "38/38 [==============================] - 40s 1s/step - loss: 0.9924 - accuracy: 0.6233 - val_loss: 0.9710 - val_accuracy: 0.6433\n",
      "Epoch 28/1000\n",
      "38/38 [==============================] - 40s 1s/step - loss: 0.9536 - accuracy: 0.6667 - val_loss: 0.9478 - val_accuracy: 0.6533\n",
      "Epoch 29/1000\n",
      "38/38 [==============================] - 40s 1s/step - loss: 0.9654 - accuracy: 0.6575 - val_loss: 0.9398 - val_accuracy: 0.6600\n",
      "Epoch 30/1000\n",
      "38/38 [==============================] - 39s 1s/step - loss: 0.9522 - accuracy: 0.6617 - val_loss: 0.9014 - val_accuracy: 0.6667\n",
      "Epoch 31/1000\n",
      "38/38 [==============================] - 40s 1s/step - loss: 0.9213 - accuracy: 0.6658 - val_loss: 0.8799 - val_accuracy: 0.6767\n",
      "Epoch 32/1000\n",
      "38/38 [==============================] - 39s 1s/step - loss: 0.8978 - accuracy: 0.6625 - val_loss: 0.8431 - val_accuracy: 0.6983\n",
      "Epoch 33/1000\n",
      "38/38 [==============================] - 40s 1s/step - loss: 0.9081 - accuracy: 0.6842 - val_loss: 0.8382 - val_accuracy: 0.7033\n",
      "Epoch 34/1000\n",
      "38/38 [==============================] - 39s 1s/step - loss: 0.8923 - accuracy: 0.6725 - val_loss: 0.8190 - val_accuracy: 0.7100\n",
      "Epoch 35/1000\n",
      "38/38 [==============================] - 40s 1s/step - loss: 0.8949 - accuracy: 0.6842 - val_loss: 0.8008 - val_accuracy: 0.7150\n",
      "Epoch 36/1000\n",
      "38/38 [==============================] - 39s 1s/step - loss: 0.8679 - accuracy: 0.6800 - val_loss: 0.7719 - val_accuracy: 0.7333\n",
      "Epoch 37/1000\n",
      "38/38 [==============================] - 39s 1s/step - loss: 0.8369 - accuracy: 0.7008 - val_loss: 0.7661 - val_accuracy: 0.7417\n",
      "Epoch 38/1000\n",
      "38/38 [==============================] - 39s 1s/step - loss: 0.8449 - accuracy: 0.7008 - val_loss: 0.7405 - val_accuracy: 0.7617\n",
      "Epoch 39/1000\n",
      "38/38 [==============================] - 41s 1s/step - loss: 0.8335 - accuracy: 0.7017 - val_loss: 0.7306 - val_accuracy: 0.7533\n",
      "Epoch 40/1000\n",
      "38/38 [==============================] - 40s 1s/step - loss: 0.7881 - accuracy: 0.7250 - val_loss: 0.7382 - val_accuracy: 0.7517\n",
      "Epoch 41/1000\n",
      "38/38 [==============================] - 54s 1s/step - loss: 0.8113 - accuracy: 0.7100 - val_loss: 0.7221 - val_accuracy: 0.7667\n",
      "Epoch 42/1000\n",
      "38/38 [==============================] - 53s 1s/step - loss: 0.8100 - accuracy: 0.7125 - val_loss: 0.7626 - val_accuracy: 0.7350\n",
      "Epoch 43/1000\n",
      "38/38 [==============================] - 49s 1s/step - loss: 0.7753 - accuracy: 0.7250 - val_loss: 0.7116 - val_accuracy: 0.7617\n",
      "Epoch 44/1000\n",
      "38/38 [==============================] - 44s 1s/step - loss: 0.7600 - accuracy: 0.7350 - val_loss: 0.7039 - val_accuracy: 0.7633\n",
      "Epoch 45/1000\n",
      "38/38 [==============================] - 42s 1s/step - loss: 0.7241 - accuracy: 0.7350 - val_loss: 0.6895 - val_accuracy: 0.7783\n",
      "Epoch 46/1000\n",
      "38/38 [==============================] - 47s 1s/step - loss: 0.7753 - accuracy: 0.7142 - val_loss: 0.6889 - val_accuracy: 0.7683\n",
      "Epoch 47/1000\n",
      "38/38 [==============================] - 41s 1s/step - loss: 0.7747 - accuracy: 0.7375 - val_loss: 0.6792 - val_accuracy: 0.7683\n",
      "Epoch 48/1000\n",
      "38/38 [==============================] - 41s 1s/step - loss: 0.7537 - accuracy: 0.7400 - val_loss: 0.7217 - val_accuracy: 0.7500\n",
      "Epoch 49/1000\n",
      "38/38 [==============================] - 41s 1s/step - loss: 0.7401 - accuracy: 0.7292 - val_loss: 0.6713 - val_accuracy: 0.7833\n",
      "Epoch 50/1000\n",
      "38/38 [==============================] - 41s 1s/step - loss: 0.6928 - accuracy: 0.7425 - val_loss: 0.6768 - val_accuracy: 0.7833\n",
      "Epoch 51/1000\n",
      "38/38 [==============================] - 40s 1s/step - loss: 0.6963 - accuracy: 0.7500 - val_loss: 0.6970 - val_accuracy: 0.7683\n",
      "Epoch 52/1000\n",
      "38/38 [==============================] - 40s 1s/step - loss: 0.7342 - accuracy: 0.7408 - val_loss: 0.6546 - val_accuracy: 0.7883\n",
      "Epoch 53/1000\n",
      "38/38 [==============================] - 39s 1s/step - loss: 0.7291 - accuracy: 0.7483 - val_loss: 0.6389 - val_accuracy: 0.7950\n",
      "Epoch 54/1000\n",
      "38/38 [==============================] - 39s 1s/step - loss: 0.7172 - accuracy: 0.7417 - val_loss: 0.6366 - val_accuracy: 0.7883\n",
      "Epoch 55/1000\n",
      "38/38 [==============================] - 39s 1s/step - loss: 0.6410 - accuracy: 0.7767 - val_loss: 0.6088 - val_accuracy: 0.7950\n",
      "Epoch 56/1000\n",
      "38/38 [==============================] - 40s 1s/step - loss: 0.6581 - accuracy: 0.7608 - val_loss: 0.6040 - val_accuracy: 0.7950\n",
      "Epoch 57/1000\n",
      "38/38 [==============================] - 40s 1s/step - loss: 0.6868 - accuracy: 0.7483 - val_loss: 0.5924 - val_accuracy: 0.8033\n",
      "Epoch 58/1000\n",
      "38/38 [==============================] - 40s 1s/step - loss: 0.6806 - accuracy: 0.7575 - val_loss: 0.6010 - val_accuracy: 0.8017\n",
      "Epoch 59/1000\n",
      "38/38 [==============================] - 40s 1s/step - loss: 0.6294 - accuracy: 0.7808 - val_loss: 0.5919 - val_accuracy: 0.8100\n",
      "Epoch 60/1000\n",
      "38/38 [==============================] - 39s 1s/step - loss: 0.6569 - accuracy: 0.7725 - val_loss: 0.5773 - val_accuracy: 0.8100\n",
      "Epoch 61/1000\n",
      "38/38 [==============================] - 39s 1s/step - loss: 0.6151 - accuracy: 0.7958 - val_loss: 0.5739 - val_accuracy: 0.8133\n",
      "Epoch 62/1000\n",
      "38/38 [==============================] - 40s 1s/step - loss: 0.6353 - accuracy: 0.7800 - val_loss: 0.5702 - val_accuracy: 0.8183\n",
      "Epoch 63/1000\n",
      "38/38 [==============================] - 40s 1s/step - loss: 0.6238 - accuracy: 0.7750 - val_loss: 0.5602 - val_accuracy: 0.8250\n",
      "Epoch 64/1000\n",
      "38/38 [==============================] - 41s 1s/step - loss: 0.6303 - accuracy: 0.7792 - val_loss: 0.5900 - val_accuracy: 0.8117\n",
      "Epoch 65/1000\n",
      "38/38 [==============================] - 43s 1s/step - loss: 0.6351 - accuracy: 0.7842 - val_loss: 0.5608 - val_accuracy: 0.8233\n",
      "Epoch 66/1000\n",
      "38/38 [==============================] - 43s 1s/step - loss: 0.6283 - accuracy: 0.7558 - val_loss: 0.5566 - val_accuracy: 0.8250\n",
      "Epoch 67/1000\n",
      "38/38 [==============================] - 48s 1s/step - loss: 0.5471 - accuracy: 0.8142 - val_loss: 0.5556 - val_accuracy: 0.8183\n",
      "Epoch 68/1000\n",
      "38/38 [==============================] - 40s 1s/step - loss: 0.6133 - accuracy: 0.7783 - val_loss: 0.5597 - val_accuracy: 0.8250\n",
      "Epoch 69/1000\n",
      "38/38 [==============================] - 44s 1s/step - loss: 0.5958 - accuracy: 0.7825 - val_loss: 0.5540 - val_accuracy: 0.8167\n",
      "Epoch 70/1000\n",
      "38/38 [==============================] - 45s 1s/step - loss: 0.5542 - accuracy: 0.8083 - val_loss: 0.5546 - val_accuracy: 0.8200\n",
      "Epoch 71/1000\n",
      "38/38 [==============================] - 45s 1s/step - loss: 0.5793 - accuracy: 0.7867 - val_loss: 0.5554 - val_accuracy: 0.8283\n",
      "Epoch 72/1000\n",
      "38/38 [==============================] - 43s 1s/step - loss: 0.5542 - accuracy: 0.7942 - val_loss: 0.5463 - val_accuracy: 0.8283\n",
      "Epoch 73/1000\n",
      "38/38 [==============================] - 46s 1s/step - loss: 0.5605 - accuracy: 0.7942 - val_loss: 0.5377 - val_accuracy: 0.8333\n",
      "Epoch 74/1000\n",
      "38/38 [==============================] - 53s 1s/step - loss: 0.5684 - accuracy: 0.7917 - val_loss: 0.5844 - val_accuracy: 0.8183\n",
      "Epoch 75/1000\n",
      "38/38 [==============================] - 46s 1s/step - loss: 0.5442 - accuracy: 0.8050 - val_loss: 0.5345 - val_accuracy: 0.8383\n",
      "Epoch 76/1000\n",
      "38/38 [==============================] - 47s 1s/step - loss: 0.5697 - accuracy: 0.7942 - val_loss: 0.5479 - val_accuracy: 0.8300\n",
      "Epoch 77/1000\n",
      "38/38 [==============================] - 48s 1s/step - loss: 0.5632 - accuracy: 0.8008 - val_loss: 0.5318 - val_accuracy: 0.8433\n",
      "Epoch 78/1000\n",
      "38/38 [==============================] - 42s 1s/step - loss: 0.5459 - accuracy: 0.8083 - val_loss: 0.5470 - val_accuracy: 0.8333\n",
      "Epoch 79/1000\n",
      "38/38 [==============================] - 44s 1s/step - loss: 0.5413 - accuracy: 0.8108 - val_loss: 0.5411 - val_accuracy: 0.8350\n",
      "Epoch 80/1000\n",
      "38/38 [==============================] - 45s 1s/step - loss: 0.5517 - accuracy: 0.7967 - val_loss: 0.5223 - val_accuracy: 0.8350\n",
      "Epoch 81/1000\n",
      "38/38 [==============================] - 41s 1s/step - loss: 0.5290 - accuracy: 0.8000 - val_loss: 0.5175 - val_accuracy: 0.8367\n",
      "Epoch 82/1000\n",
      "38/38 [==============================] - 40s 1s/step - loss: 0.5070 - accuracy: 0.8167 - val_loss: 0.5253 - val_accuracy: 0.8433\n",
      "Epoch 83/1000\n",
      "38/38 [==============================] - 40s 1s/step - loss: 0.5139 - accuracy: 0.8150 - val_loss: 0.5147 - val_accuracy: 0.8417\n",
      "Epoch 84/1000\n",
      "38/38 [==============================] - 40s 1s/step - loss: 0.5256 - accuracy: 0.8100 - val_loss: 0.5015 - val_accuracy: 0.8417\n",
      "Epoch 85/1000\n",
      "38/38 [==============================] - 44s 1s/step - loss: 0.5460 - accuracy: 0.8008 - val_loss: 0.5044 - val_accuracy: 0.8383\n",
      "Epoch 86/1000\n",
      "38/38 [==============================] - 42s 1s/step - loss: 0.5200 - accuracy: 0.8125 - val_loss: 0.5080 - val_accuracy: 0.8433\n",
      "Epoch 87/1000\n",
      "38/38 [==============================] - 41s 1s/step - loss: 0.5180 - accuracy: 0.8158 - val_loss: 0.5069 - val_accuracy: 0.8317\n",
      "Epoch 88/1000\n",
      "38/38 [==============================] - 42s 1s/step - loss: 0.5188 - accuracy: 0.8142 - val_loss: 0.4937 - val_accuracy: 0.8367\n",
      "Epoch 89/1000\n",
      "38/38 [==============================] - 40s 1s/step - loss: 0.4882 - accuracy: 0.8292 - val_loss: 0.4883 - val_accuracy: 0.8400\n",
      "Epoch 90/1000\n",
      "38/38 [==============================] - 40s 1s/step - loss: 0.4627 - accuracy: 0.8358 - val_loss: 0.4981 - val_accuracy: 0.8383\n",
      "Epoch 91/1000\n",
      "38/38 [==============================] - 47s 1s/step - loss: 0.4919 - accuracy: 0.8142 - val_loss: 0.4915 - val_accuracy: 0.8350\n",
      "Epoch 92/1000\n",
      "38/38 [==============================] - 46s 1s/step - loss: 0.5048 - accuracy: 0.8117 - val_loss: 0.4828 - val_accuracy: 0.8400\n",
      "Epoch 93/1000\n",
      "38/38 [==============================] - 47s 1s/step - loss: 0.4456 - accuracy: 0.8467 - val_loss: 0.4830 - val_accuracy: 0.8450\n",
      "Epoch 94/1000\n",
      "38/38 [==============================] - 46s 1s/step - loss: 0.4748 - accuracy: 0.8292 - val_loss: 0.4851 - val_accuracy: 0.8400\n",
      "Epoch 95/1000\n",
      "38/38 [==============================] - 50s 1s/step - loss: 0.4818 - accuracy: 0.8233 - val_loss: 0.4757 - val_accuracy: 0.8450\n",
      "Epoch 96/1000\n",
      "38/38 [==============================] - 47s 1s/step - loss: 0.4380 - accuracy: 0.8408 - val_loss: 0.4712 - val_accuracy: 0.8467\n",
      "Epoch 97/1000\n",
      "38/38 [==============================] - 47s 1s/step - loss: 0.4310 - accuracy: 0.8467 - val_loss: 0.4680 - val_accuracy: 0.8467\n",
      "Epoch 98/1000\n",
      "38/38 [==============================] - 50s 1s/step - loss: 0.4336 - accuracy: 0.8425 - val_loss: 0.4618 - val_accuracy: 0.8500\n",
      "Epoch 99/1000\n",
      "38/38 [==============================] - 49s 1s/step - loss: 0.4576 - accuracy: 0.8367 - val_loss: 0.4700 - val_accuracy: 0.8450\n",
      "Epoch 100/1000\n",
      "38/38 [==============================] - 46s 1s/step - loss: 0.4602 - accuracy: 0.8300 - val_loss: 0.5090 - val_accuracy: 0.8433\n",
      "Epoch 101/1000\n",
      "38/38 [==============================] - 43s 1s/step - loss: 0.4297 - accuracy: 0.8475 - val_loss: 0.4851 - val_accuracy: 0.8467\n",
      "Epoch 102/1000\n",
      "38/38 [==============================] - 45s 1s/step - loss: 0.4529 - accuracy: 0.8392 - val_loss: 0.4950 - val_accuracy: 0.8483\n",
      "Epoch 103/1000\n",
      "38/38 [==============================] - 47s 1s/step - loss: 0.4507 - accuracy: 0.8367 - val_loss: 0.4883 - val_accuracy: 0.8550\n",
      "Epoch 104/1000\n",
      "38/38 [==============================] - 51s 1s/step - loss: 0.4391 - accuracy: 0.8317 - val_loss: 0.4871 - val_accuracy: 0.8550\n",
      "Epoch 105/1000\n",
      "38/38 [==============================] - 47s 1s/step - loss: 0.4307 - accuracy: 0.8408 - val_loss: 0.4844 - val_accuracy: 0.8533\n",
      "Epoch 106/1000\n",
      "38/38 [==============================] - 57s 1s/step - loss: 0.4291 - accuracy: 0.8392 - val_loss: 0.4661 - val_accuracy: 0.8517\n",
      "Epoch 107/1000\n",
      "38/38 [==============================] - 58s 2s/step - loss: 0.4387 - accuracy: 0.8550 - val_loss: 0.4564 - val_accuracy: 0.8533\n",
      "Epoch 108/1000\n",
      "38/38 [==============================] - 53s 1s/step - loss: 0.4204 - accuracy: 0.8517 - val_loss: 0.4551 - val_accuracy: 0.8517\n",
      "Epoch 109/1000\n",
      "38/38 [==============================] - 47s 1s/step - loss: 0.4341 - accuracy: 0.8408 - val_loss: 0.4513 - val_accuracy: 0.8583\n",
      "Epoch 110/1000\n",
      "38/38 [==============================] - 47s 1s/step - loss: 0.4447 - accuracy: 0.8317 - val_loss: 0.4703 - val_accuracy: 0.8550\n",
      "Epoch 111/1000\n",
      "38/38 [==============================] - 45s 1s/step - loss: 0.4114 - accuracy: 0.8567 - val_loss: 0.4521 - val_accuracy: 0.8600\n",
      "Epoch 112/1000\n",
      "38/38 [==============================] - 42s 1s/step - loss: 0.4137 - accuracy: 0.8508 - val_loss: 0.4575 - val_accuracy: 0.8633\n",
      "Epoch 113/1000\n",
      "38/38 [==============================] - 43s 1s/step - loss: 0.3745 - accuracy: 0.8567 - val_loss: 0.4529 - val_accuracy: 0.8617\n",
      "Epoch 114/1000\n",
      "38/38 [==============================] - 40s 1s/step - loss: 0.3848 - accuracy: 0.8633 - val_loss: 0.4655 - val_accuracy: 0.8500\n",
      "Epoch 115/1000\n"
     ]
    },
    {
     "name": "stdout",
     "output_type": "stream",
     "text": [
      "38/38 [==============================] - 41s 1s/step - loss: 0.3809 - accuracy: 0.8642 - val_loss: 0.4589 - val_accuracy: 0.8550\n",
      "Epoch 116/1000\n",
      "38/38 [==============================] - 41s 1s/step - loss: 0.3783 - accuracy: 0.8675 - val_loss: 0.4653 - val_accuracy: 0.8583\n",
      "Epoch 117/1000\n",
      "38/38 [==============================] - 41s 1s/step - loss: 0.3967 - accuracy: 0.8600 - val_loss: 0.4533 - val_accuracy: 0.8533\n",
      "Epoch 118/1000\n",
      "38/38 [==============================] - 42s 1s/step - loss: 0.3751 - accuracy: 0.8692 - val_loss: 0.4532 - val_accuracy: 0.8533\n",
      "Epoch 119/1000\n",
      "38/38 [==============================] - 40s 1s/step - loss: 0.3940 - accuracy: 0.8483 - val_loss: 0.4567 - val_accuracy: 0.8567\n",
      "Epoch 120/1000\n",
      "38/38 [==============================] - 40s 1s/step - loss: 0.3635 - accuracy: 0.8675 - val_loss: 0.4489 - val_accuracy: 0.8600\n",
      "Epoch 121/1000\n",
      "38/38 [==============================] - 40s 1s/step - loss: 0.3706 - accuracy: 0.8683 - val_loss: 0.4462 - val_accuracy: 0.8617\n",
      "Epoch 122/1000\n",
      "38/38 [==============================] - 40s 1s/step - loss: 0.3829 - accuracy: 0.8600 - val_loss: 0.4350 - val_accuracy: 0.8667\n",
      "Epoch 123/1000\n",
      "38/38 [==============================] - 44s 1s/step - loss: 0.3711 - accuracy: 0.8692 - val_loss: 0.4390 - val_accuracy: 0.8650\n",
      "Epoch 124/1000\n",
      "38/38 [==============================] - 44s 1s/step - loss: 0.3646 - accuracy: 0.8608 - val_loss: 0.4395 - val_accuracy: 0.8700\n",
      "Epoch 125/1000\n",
      "38/38 [==============================] - 43s 1s/step - loss: 0.3648 - accuracy: 0.8650 - val_loss: 0.4490 - val_accuracy: 0.8683\n",
      "Epoch 126/1000\n",
      "38/38 [==============================] - 41s 1s/step - loss: 0.3419 - accuracy: 0.8600 - val_loss: 0.4351 - val_accuracy: 0.8683\n",
      "Epoch 127/1000\n",
      "38/38 [==============================] - 41s 1s/step - loss: 0.3641 - accuracy: 0.8625 - val_loss: 0.4557 - val_accuracy: 0.8683\n",
      "Epoch 128/1000\n",
      "38/38 [==============================] - 42s 1s/step - loss: 0.3747 - accuracy: 0.8700 - val_loss: 0.4525 - val_accuracy: 0.8700\n",
      "Epoch 129/1000\n",
      "38/38 [==============================] - 41s 1s/step - loss: 0.3439 - accuracy: 0.8858 - val_loss: 0.4387 - val_accuracy: 0.8700\n",
      "Epoch 130/1000\n",
      "38/38 [==============================] - 45s 1s/step - loss: 0.3333 - accuracy: 0.8800 - val_loss: 0.4321 - val_accuracy: 0.8650\n",
      "Epoch 131/1000\n",
      "38/38 [==============================] - 46s 1s/step - loss: 0.3333 - accuracy: 0.8783 - val_loss: 0.4295 - val_accuracy: 0.8667\n",
      "Epoch 132/1000\n",
      "38/38 [==============================] - 44s 1s/step - loss: 0.3537 - accuracy: 0.8792 - val_loss: 0.4257 - val_accuracy: 0.8683\n",
      "Epoch 133/1000\n",
      "38/38 [==============================] - 45s 1s/step - loss: 0.3585 - accuracy: 0.8775 - val_loss: 0.4219 - val_accuracy: 0.8717\n",
      "Epoch 134/1000\n",
      "38/38 [==============================] - 48s 1s/step - loss: 0.3311 - accuracy: 0.8783 - val_loss: 0.4161 - val_accuracy: 0.8750\n",
      "Epoch 135/1000\n",
      "38/38 [==============================] - 45s 1s/step - loss: 0.3318 - accuracy: 0.8775 - val_loss: 0.4168 - val_accuracy: 0.8700\n",
      "Epoch 136/1000\n",
      "38/38 [==============================] - 51s 1s/step - loss: 0.3236 - accuracy: 0.8767 - val_loss: 0.4198 - val_accuracy: 0.8733\n",
      "Epoch 137/1000\n",
      "38/38 [==============================] - 50s 1s/step - loss: 0.3157 - accuracy: 0.8842 - val_loss: 0.4188 - val_accuracy: 0.8800\n",
      "Epoch 138/1000\n",
      "38/38 [==============================] - 43s 1s/step - loss: 0.3623 - accuracy: 0.8692 - val_loss: 0.4108 - val_accuracy: 0.8817\n",
      "Epoch 139/1000\n",
      "38/38 [==============================] - 47s 1s/step - loss: 0.3496 - accuracy: 0.8708 - val_loss: 0.4054 - val_accuracy: 0.8883\n",
      "Epoch 140/1000\n",
      "38/38 [==============================] - 47s 1s/step - loss: 0.2916 - accuracy: 0.8883 - val_loss: 0.4064 - val_accuracy: 0.8800\n",
      "Epoch 141/1000\n",
      "38/38 [==============================] - 43s 1s/step - loss: 0.2982 - accuracy: 0.9017 - val_loss: 0.4032 - val_accuracy: 0.8867\n",
      "Epoch 142/1000\n",
      "38/38 [==============================] - 44s 1s/step - loss: 0.3475 - accuracy: 0.8633 - val_loss: 0.4129 - val_accuracy: 0.8833\n",
      "Epoch 143/1000\n",
      "38/38 [==============================] - 45s 1s/step - loss: 0.2888 - accuracy: 0.8975 - val_loss: 0.4200 - val_accuracy: 0.8767\n",
      "Epoch 144/1000\n",
      "38/38 [==============================] - 43s 1s/step - loss: 0.3117 - accuracy: 0.8842 - val_loss: 0.4118 - val_accuracy: 0.8800\n",
      "Epoch 145/1000\n",
      "38/38 [==============================] - 43s 1s/step - loss: 0.2914 - accuracy: 0.8883 - val_loss: 0.4167 - val_accuracy: 0.8783\n",
      "Epoch 146/1000\n",
      "38/38 [==============================] - 45s 1s/step - loss: 0.2815 - accuracy: 0.8942 - val_loss: 0.4187 - val_accuracy: 0.8783\n",
      "Epoch 147/1000\n",
      "38/38 [==============================] - 44s 1s/step - loss: 0.3044 - accuracy: 0.8925 - val_loss: 0.4241 - val_accuracy: 0.8783\n",
      "Epoch 148/1000\n",
      "38/38 [==============================] - 43s 1s/step - loss: 0.2900 - accuracy: 0.8983 - val_loss: 0.4273 - val_accuracy: 0.8783\n",
      "Epoch 149/1000\n",
      "38/38 [==============================] - 43s 1s/step - loss: 0.2672 - accuracy: 0.9050 - val_loss: 0.4359 - val_accuracy: 0.8750\n",
      "Epoch 150/1000\n",
      "38/38 [==============================] - 44s 1s/step - loss: 0.2733 - accuracy: 0.9042 - val_loss: 0.4322 - val_accuracy: 0.8733\n",
      "Epoch 151/1000\n",
      "38/38 [==============================] - 43s 1s/step - loss: 0.2638 - accuracy: 0.8967 - val_loss: 0.4202 - val_accuracy: 0.8733\n",
      "Epoch 152/1000\n",
      "38/38 [==============================] - 41s 1s/step - loss: 0.2751 - accuracy: 0.9050 - val_loss: 0.4089 - val_accuracy: 0.8800\n",
      "Epoch 153/1000\n",
      "38/38 [==============================] - 48s 1s/step - loss: 0.3017 - accuracy: 0.8908 - val_loss: 0.3990 - val_accuracy: 0.8833\n",
      "Epoch 154/1000\n",
      "38/38 [==============================] - 45s 1s/step - loss: 0.2589 - accuracy: 0.9033 - val_loss: 0.3986 - val_accuracy: 0.8867\n",
      "Epoch 155/1000\n",
      "38/38 [==============================] - 42s 1s/step - loss: 0.2618 - accuracy: 0.8983 - val_loss: 0.4012 - val_accuracy: 0.8817\n",
      "Epoch 156/1000\n",
      "38/38 [==============================] - 42s 1s/step - loss: 0.2506 - accuracy: 0.9067 - val_loss: 0.4046 - val_accuracy: 0.8817\n",
      "Epoch 157/1000\n",
      "38/38 [==============================] - 43s 1s/step - loss: 0.3102 - accuracy: 0.8767 - val_loss: 0.4021 - val_accuracy: 0.8800\n",
      "Epoch 158/1000\n",
      "38/38 [==============================] - 41s 1s/step - loss: 0.2419 - accuracy: 0.9142 - val_loss: 0.4020 - val_accuracy: 0.8817\n",
      "Epoch 159/1000\n",
      "38/38 [==============================] - 42s 1s/step - loss: 0.2272 - accuracy: 0.9250 - val_loss: 0.3976 - val_accuracy: 0.8867\n",
      "Epoch 160/1000\n",
      "38/38 [==============================] - 43s 1s/step - loss: 0.2959 - accuracy: 0.8925 - val_loss: 0.3920 - val_accuracy: 0.8867\n",
      "Epoch 161/1000\n",
      "38/38 [==============================] - 41s 1s/step - loss: 0.2347 - accuracy: 0.9167 - val_loss: 0.3977 - val_accuracy: 0.8817\n",
      "Epoch 162/1000\n",
      "38/38 [==============================] - 40s 1s/step - loss: 0.2631 - accuracy: 0.8925 - val_loss: 0.3877 - val_accuracy: 0.8883\n",
      "Epoch 163/1000\n",
      "38/38 [==============================] - 40s 1s/step - loss: 0.2599 - accuracy: 0.8958 - val_loss: 0.3918 - val_accuracy: 0.8883\n",
      "Epoch 164/1000\n",
      "38/38 [==============================] - 40s 1s/step - loss: 0.2795 - accuracy: 0.8942 - val_loss: 0.3945 - val_accuracy: 0.8883\n",
      "Epoch 165/1000\n",
      "38/38 [==============================] - 43s 1s/step - loss: 0.2643 - accuracy: 0.9025 - val_loss: 0.3964 - val_accuracy: 0.8850\n",
      "Epoch 166/1000\n",
      "38/38 [==============================] - 40s 1s/step - loss: 0.2486 - accuracy: 0.9092 - val_loss: 0.3965 - val_accuracy: 0.8750\n",
      "Epoch 167/1000\n",
      "38/38 [==============================] - 45s 1s/step - loss: 0.2306 - accuracy: 0.9150 - val_loss: 0.3974 - val_accuracy: 0.8750\n",
      "Epoch 168/1000\n",
      "38/38 [==============================] - 51s 1s/step - loss: 0.2202 - accuracy: 0.9183 - val_loss: 0.4053 - val_accuracy: 0.8733\n",
      "Epoch 169/1000\n",
      "38/38 [==============================] - 52s 1s/step - loss: 0.2500 - accuracy: 0.9117 - val_loss: 0.4070 - val_accuracy: 0.8733\n",
      "Epoch 170/1000\n",
      "38/38 [==============================] - 51s 1s/step - loss: 0.2329 - accuracy: 0.9192 - val_loss: 0.4242 - val_accuracy: 0.8733\n",
      "Epoch 171/1000\n",
      "38/38 [==============================] - 49s 1s/step - loss: 0.2439 - accuracy: 0.8992 - val_loss: 0.4041 - val_accuracy: 0.8750\n"
     ]
    },
    {
     "name": "stdout",
     "output_type": "stream",
     "text": [
      "Epoch 172/1000\n",
      "38/38 [==============================] - 49s 1s/step - loss: 0.2234 - accuracy: 0.9200 - val_loss: 0.3998 - val_accuracy: 0.8850\n",
      "Epoch 173/1000\n",
      "38/38 [==============================] - 44s 1s/step - loss: 0.2748 - accuracy: 0.9000 - val_loss: 0.3973 - val_accuracy: 0.8883\n",
      "Epoch 174/1000\n",
      "38/38 [==============================] - 45s 1s/step - loss: 0.2324 - accuracy: 0.9225 - val_loss: 0.3955 - val_accuracy: 0.8850\n",
      "Epoch 175/1000\n",
      "38/38 [==============================] - 42s 1s/step - loss: 0.2316 - accuracy: 0.9208 - val_loss: 0.3914 - val_accuracy: 0.8850\n",
      "Epoch 176/1000\n",
      "38/38 [==============================] - 44s 1s/step - loss: 0.2093 - accuracy: 0.9292 - val_loss: 0.3891 - val_accuracy: 0.8850\n",
      "Epoch 177/1000\n",
      "38/38 [==============================] - 41s 1s/step - loss: 0.2261 - accuracy: 0.9267 - val_loss: 0.3883 - val_accuracy: 0.8883\n",
      "Epoch 178/1000\n",
      "38/38 [==============================] - 41s 1s/step - loss: 0.2605 - accuracy: 0.9058 - val_loss: 0.4044 - val_accuracy: 0.8767\n",
      "Epoch 179/1000\n",
      "38/38 [==============================] - 42s 1s/step - loss: 0.2167 - accuracy: 0.9183 - val_loss: 0.4512 - val_accuracy: 0.8683\n",
      "Epoch 180/1000\n",
      "38/38 [==============================] - 43s 1s/step - loss: 0.2351 - accuracy: 0.9208 - val_loss: 0.4413 - val_accuracy: 0.8683\n",
      "Epoch 181/1000\n",
      "38/38 [==============================] - 42s 1s/step - loss: 0.1992 - accuracy: 0.9275 - val_loss: 0.4249 - val_accuracy: 0.8733\n",
      "Epoch 182/1000\n",
      "38/38 [==============================] - 43s 1s/step - loss: 0.1983 - accuracy: 0.9283 - val_loss: 0.3994 - val_accuracy: 0.8767\n",
      "Epoch 183/1000\n",
      "38/38 [==============================] - 44s 1s/step - loss: 0.2006 - accuracy: 0.9367 - val_loss: 0.4064 - val_accuracy: 0.8767\n",
      "Epoch 184/1000\n",
      "38/38 [==============================] - 51s 1s/step - loss: 0.2106 - accuracy: 0.9233 - val_loss: 0.3962 - val_accuracy: 0.8833\n",
      "Epoch 185/1000\n",
      "38/38 [==============================] - 50s 1s/step - loss: 0.2118 - accuracy: 0.9192 - val_loss: 0.3987 - val_accuracy: 0.8900\n",
      "Epoch 186/1000\n",
      "38/38 [==============================] - 43s 1s/step - loss: 0.2298 - accuracy: 0.9158 - val_loss: 0.4007 - val_accuracy: 0.8917\n",
      "Epoch 187/1000\n",
      "38/38 [==============================] - 42s 1s/step - loss: 0.1992 - accuracy: 0.9250 - val_loss: 0.3940 - val_accuracy: 0.8867\n",
      "Epoch 188/1000\n",
      "38/38 [==============================] - 45s 1s/step - loss: 0.2103 - accuracy: 0.9183 - val_loss: 0.3889 - val_accuracy: 0.8933\n",
      "Epoch 189/1000\n",
      "38/38 [==============================] - 44s 1s/step - loss: 0.1910 - accuracy: 0.9342 - val_loss: 0.3933 - val_accuracy: 0.8900\n",
      "Epoch 190/1000\n",
      "38/38 [==============================] - 41s 1s/step - loss: 0.1843 - accuracy: 0.9383 - val_loss: 0.3958 - val_accuracy: 0.8817\n",
      "Epoch 191/1000\n",
      "38/38 [==============================] - 40s 1s/step - loss: 0.1575 - accuracy: 0.9375 - val_loss: 0.4118 - val_accuracy: 0.8733\n",
      "Epoch 192/1000\n",
      "38/38 [==============================] - 45s 1s/step - loss: 0.2095 - accuracy: 0.9275 - val_loss: 0.4122 - val_accuracy: 0.8767\n"
     ]
    },
    {
     "data": {
      "text/plain": [
       "<tensorflow.python.keras.callbacks.History at 0x182d77bd0>"
      ]
     },
     "execution_count": 925,
     "metadata": {},
     "output_type": "execute_result"
    }
   ],
   "source": [
    "callback = keras.callbacks.EarlyStopping(monitor='val_loss', patience=30, restore_best_weights=True)\n",
    "model.fit_generator(generator=train_generator,epochs=1000,validation_data=(xValid , yValid), callbacks=[callback])"
   ]
  },
  {
   "cell_type": "code",
   "execution_count": 928,
   "metadata": {},
   "outputs": [
    {
     "name": "stdout",
     "output_type": "stream",
     "text": [
      "Found 1200 images belonging to 6 classes.\n"
     ]
    }
   ],
   "source": [
    "import tensorflow as tf\n",
    "\n",
    "train_datagen=tf.keras.preprocessing.image.ImageDataGenerator(preprocessing_function=keras.applications.mobilenet.preprocess_input, horizontal_flip=True, width_shift_range=0.17, zoom_range=0.1,\n",
    "    height_shift_range=0.18, shear_range=0.01, rotation_range=35, fill_mode=\"constant\", validation_split=0.00)\n",
    "train_generator2 = train_datagen.flow_from_directory('./train1200Classes/classes', class_mode='categorical', target_size=(128,128), subset='training')\n",
    "#valid_generator = train_datagen.flow_from_directory('./train1200A/classes', class_mode='categorical', target_size=(128,128), subset='validation')"
   ]
  },
  {
   "cell_type": "code",
   "execution_count": 929,
   "metadata": {},
   "outputs": [
    {
     "name": "stdout",
     "output_type": "stream",
     "text": [
      "Epoch 1/1000\n",
      "38/38 [==============================] - 48s 1s/step - loss: 0.3153 - accuracy: 0.8900 - val_loss: 0.3824 - val_accuracy: 0.8850\n",
      "Epoch 2/1000\n",
      "38/38 [==============================] - 43s 1s/step - loss: 0.2891 - accuracy: 0.9008 - val_loss: 0.3864 - val_accuracy: 0.8900\n",
      "Epoch 3/1000\n",
      "38/38 [==============================] - 42s 1s/step - loss: 0.3134 - accuracy: 0.8858 - val_loss: 0.3940 - val_accuracy: 0.8850\n",
      "Epoch 4/1000\n",
      "38/38 [==============================] - 42s 1s/step - loss: 0.3397 - accuracy: 0.8675 - val_loss: 0.3990 - val_accuracy: 0.8817\n",
      "Epoch 5/1000\n",
      "38/38 [==============================] - 42s 1s/step - loss: 0.2874 - accuracy: 0.8958 - val_loss: 0.4040 - val_accuracy: 0.8783\n",
      "Epoch 6/1000\n",
      "38/38 [==============================] - 45s 1s/step - loss: 0.2818 - accuracy: 0.8958 - val_loss: 0.4016 - val_accuracy: 0.8767\n",
      "Epoch 7/1000\n",
      "38/38 [==============================] - 46s 1s/step - loss: 0.3305 - accuracy: 0.8792 - val_loss: 0.4126 - val_accuracy: 0.8717\n"
     ]
    },
    {
     "data": {
      "text/plain": [
       "<tensorflow.python.keras.callbacks.History at 0x17c6ba990>"
      ]
     },
     "execution_count": 929,
     "metadata": {},
     "output_type": "execute_result"
    }
   ],
   "source": [
    "callback = keras.callbacks.EarlyStopping(monitor='val_loss', patience=6, restore_best_weights=True)\n",
    "model.fit_generator(generator=train_generator2,epochs=1000,validation_data=(xValid , yValid), callbacks=[callback])"
   ]
  },
  {
   "cell_type": "code",
   "execution_count": 833,
   "metadata": {},
   "outputs": [
    {
     "name": "stdout",
     "output_type": "stream",
     "text": [
      "Found 1200 images belonging to 6 classes.\n"
     ]
    }
   ],
   "source": [
    "import tensorflow as tf\n",
    "\n",
    "train_datagen=tf.keras.preprocessing.image.ImageDataGenerator(preprocessing_function=keras.applications.mobilenet.preprocess_input, horizontal_flip=True, width_shift_range=0.22, zoom_range=0.1,\n",
    "    height_shift_range=0.22, shear_range=0.01, rotation_range=45, fill_mode=\"constant\", validation_split=0.00)\n",
    "train_generator3 = train_datagen.flow_from_directory('./train1200Classes/Classes', class_mode='categorical', target_size=(128,128), subset='training')\n",
    "#valid_generator = train_datagen.flow_from_directory('./train1200A/classes', class_mode='categorical', target_size=(128,128), subset='validation')"
   ]
  },
  {
   "cell_type": "code",
   "execution_count": 911,
   "metadata": {},
   "outputs": [
    {
     "name": "stdout",
     "output_type": "stream",
     "text": [
      "Epoch 1/1000\n",
      "38/38 [==============================] - 41s 1s/step - loss: 0.3497 - accuracy: 0.8717 - val_loss: 0.3706 - val_accuracy: 0.8833\n",
      "Epoch 2/1000\n",
      "38/38 [==============================] - 42s 1s/step - loss: 0.3969 - accuracy: 0.8567 - val_loss: 0.3763 - val_accuracy: 0.8833\n",
      "Epoch 3/1000\n",
      "38/38 [==============================] - 49s 1s/step - loss: 0.4130 - accuracy: 0.8575 - val_loss: 0.3750 - val_accuracy: 0.8850\n",
      "Epoch 4/1000\n",
      "38/38 [==============================] - 44s 1s/step - loss: 0.4105 - accuracy: 0.8517 - val_loss: 0.3763 - val_accuracy: 0.8817\n",
      "Epoch 5/1000\n",
      "38/38 [==============================] - 43s 1s/step - loss: 0.3744 - accuracy: 0.8558 - val_loss: 0.3713 - val_accuracy: 0.8850\n",
      "Epoch 6/1000\n",
      "38/38 [==============================] - 43s 1s/step - loss: 0.3884 - accuracy: 0.8658 - val_loss: 0.3635 - val_accuracy: 0.8850\n",
      "Epoch 7/1000\n",
      "38/38 [==============================] - 42s 1s/step - loss: 0.3691 - accuracy: 0.8692 - val_loss: 0.3637 - val_accuracy: 0.8817\n",
      "Epoch 8/1000\n",
      "38/38 [==============================] - 41s 1s/step - loss: 0.3777 - accuracy: 0.8700 - val_loss: 0.3662 - val_accuracy: 0.8850\n",
      "Epoch 9/1000\n",
      "38/38 [==============================] - 44s 1s/step - loss: 0.3977 - accuracy: 0.8575 - val_loss: 0.3682 - val_accuracy: 0.8833\n",
      "Epoch 10/1000\n",
      "38/38 [==============================] - 41s 1s/step - loss: 0.3689 - accuracy: 0.8675 - val_loss: 0.3777 - val_accuracy: 0.8833\n",
      "Epoch 11/1000\n",
      "38/38 [==============================] - 41s 1s/step - loss: 0.3681 - accuracy: 0.8683 - val_loss: 0.3741 - val_accuracy: 0.8817\n",
      "Epoch 12/1000\n",
      "38/38 [==============================] - 41s 1s/step - loss: 0.3810 - accuracy: 0.8717 - val_loss: 0.3746 - val_accuracy: 0.8817\n",
      "Epoch 13/1000\n",
      "38/38 [==============================] - 41s 1s/step - loss: 0.3452 - accuracy: 0.8758 - val_loss: 0.3734 - val_accuracy: 0.8800\n",
      "Epoch 14/1000\n",
      "38/38 [==============================] - 41s 1s/step - loss: 0.3764 - accuracy: 0.8658 - val_loss: 0.3724 - val_accuracy: 0.8833\n"
     ]
    },
    {
     "data": {
      "text/plain": [
       "<tensorflow.python.keras.callbacks.History at 0x187740750>"
      ]
     },
     "execution_count": 911,
     "metadata": {},
     "output_type": "execute_result"
    }
   ],
   "source": [
    "callback = keras.callbacks.EarlyStopping(monitor='val_loss', patience=8, restore_best_weights=True)\n",
    "model.fit_generator(generator=train_generator3,epochs=1000,validation_data=(xValid , yValid), callbacks=[callback])"
   ]
  },
  {
   "cell_type": "markdown",
   "metadata": {},
   "source": [
    "### Following might be a bit risky, training only on validation data. (Maybe we should do it in anothe image data generator to avoiid overfiting."
   ]
  },
  {
   "cell_type": "code",
   "execution_count": 754,
   "metadata": {},
   "outputs": [
    {
     "name": "stdout",
     "output_type": "stream",
     "text": [
      "Epoch 1/10\n",
      "19/19 [==============================] - 18s 943ms/step - loss: 0.1653 - accuracy: 0.9450\n",
      "Epoch 2/10\n",
      "19/19 [==============================] - 18s 948ms/step - loss: 0.1516 - accuracy: 0.9533\n",
      "Epoch 3/10\n",
      "19/19 [==============================] - 18s 949ms/step - loss: 0.1266 - accuracy: 0.9600\n",
      "Epoch 4/10\n",
      "19/19 [==============================] - 17s 907ms/step - loss: 0.1058 - accuracy: 0.9633\n",
      "Epoch 5/10\n",
      "19/19 [==============================] - 17s 918ms/step - loss: 0.1020 - accuracy: 0.9667\n",
      "Epoch 6/10\n",
      "19/19 [==============================] - 17s 920ms/step - loss: 0.1045 - accuracy: 0.9717\n",
      "Epoch 7/10\n",
      "19/19 [==============================] - 18s 931ms/step - loss: 0.0837 - accuracy: 0.9883\n",
      "Epoch 8/10\n",
      "19/19 [==============================] - 17s 915ms/step - loss: 0.0667 - accuracy: 0.9767\n",
      "Epoch 9/10\n",
      "19/19 [==============================] - 18s 973ms/step - loss: 0.0851 - accuracy: 0.9833\n",
      "Epoch 10/10\n",
      "19/19 [==============================] - 19s 974ms/step - loss: 0.0701 - accuracy: 0.9833\n"
     ]
    },
    {
     "data": {
      "text/plain": [
       "<tensorflow.python.keras.callbacks.History at 0x17d119a90>"
      ]
     },
     "execution_count": 754,
     "metadata": {},
     "output_type": "execute_result"
    }
   ],
   "source": [
    "callback = keras.callbacks.EarlyStopping(monitor='loss', patience=5, restore_best_weights=True)\n",
    "model.fit(xValid , yValid,epochs=2, callbacks=[callback])"
   ]
  },
  {
   "cell_type": "markdown",
   "metadata": {},
   "source": [
    "#### Save the model"
   ]
  },
  {
   "cell_type": "code",
   "execution_count": 926,
   "metadata": {},
   "outputs": [],
   "source": [
    "model.save_weights('./checkpoints/my_checkpoint')"
   ]
  },
  {
   "cell_type": "code",
   "execution_count": 946,
   "metadata": {},
   "outputs": [
    {
     "name": "stdout",
     "output_type": "stream",
     "text": [
      "INFO:tensorflow:Assets written to: saved_model/my_model8/assets\n"
     ]
    },
    {
     "name": "stderr",
     "output_type": "stream",
     "text": [
      "INFO:tensorflow:Assets written to: saved_model/my_model8/assets\n"
     ]
    }
   ],
   "source": [
    "!mkdir -p saved_model\n",
    "model.save('saved_model/my_model8')"
   ]
  },
  {
   "cell_type": "markdown",
   "metadata": {},
   "source": [
    "#### Load the saved model (If wanted)."
   ]
  },
  {
   "cell_type": "code",
   "execution_count": null,
   "metadata": {},
   "outputs": [],
   "source": [
    "mo1 = keras.models.load_model('saved_model/my_model4')"
   ]
  },
  {
   "cell_type": "markdown",
   "metadata": {},
   "source": [
    "#### Preprocess the test set to fit the one passed with the training set. "
   ]
  },
  {
   "cell_type": "code",
   "execution_count": null,
   "metadata": {},
   "outputs": [],
   "source": [
    "reshapedTestPreprocessed = keras.applications.mobilenet.preprocess_input(testReshapedX)"
   ]
  },
  {
   "cell_type": "markdown",
   "metadata": {},
   "source": [
    "#### Make predictions"
   ]
  },
  {
   "cell_type": "code",
   "execution_count": 933,
   "metadata": {},
   "outputs": [],
   "source": [
    "p6 = model.predict(reshapedTestPreprocessed)"
   ]
  },
  {
   "cell_type": "markdown",
   "metadata": {},
   "source": [
    "#### Check the uniformity."
   ]
  },
  {
   "cell_type": "code",
   "execution_count": 932,
   "metadata": {},
   "outputs": [
    {
     "data": {
      "text/plain": [
       "array([[3.5366074e-06, 1.0109969e-05, 9.9997783e-01, 1.7497619e-07,\n",
       "        4.3879591e-06, 4.0033797e-06],\n",
       "       [7.8312763e-07, 3.7874979e-06, 9.9999499e-01, 2.7511371e-09,\n",
       "        2.5645474e-07, 1.9849668e-07],\n",
       "       [8.1936613e-04, 3.5620792e-04, 1.2101792e-03, 3.1458385e-02,\n",
       "        9.6198946e-01, 4.1663754e-03],\n",
       "       ...,\n",
       "       [7.8578756e-07, 2.0418297e-04, 3.2544065e-06, 2.2660107e-08,\n",
       "        7.9142546e-06, 9.9978381e-01],\n",
       "       [1.7275155e-04, 3.8914832e-01, 1.2770750e-01, 7.5033848e-04,\n",
       "        4.6253806e-01, 1.9683031e-02],\n",
       "       [1.4065078e-02, 1.2698229e-03, 3.5135562e-03, 1.1184219e-02,\n",
       "        9.6800953e-01, 1.9577942e-03]], dtype=float32)"
      ]
     },
     "execution_count": 932,
     "metadata": {},
     "output_type": "execute_result"
    }
   ],
   "source": [
    "p5"
   ]
  },
  {
   "cell_type": "code",
   "execution_count": 938,
   "metadata": {},
   "outputs": [
    {
     "name": "stdout",
     "output_type": "stream",
     "text": [
      "[ 9032.  9962. 10546. 10299. 10340.  9821.]\n"
     ]
    }
   ],
   "source": [
    "count = np.zeros(6)\n",
    "for i in p6:\n",
    "    count[np.argmax(i)] += 1\n",
    "print(count)"
   ]
  },
  {
   "cell_type": "code",
   "execution_count": 837,
   "metadata": {},
   "outputs": [
    {
     "name": "stdout",
     "output_type": "stream",
     "text": [
      "[ 9796. 10292. 10241. 10205.  9648.  9818.]\n"
     ]
    }
   ],
   "source": [
    "count = np.zeros(6)\n",
    "for i in p5:\n",
    "    count[np.argmax(i)] += 1\n",
    "print(count)"
   ]
  },
  {
   "cell_type": "code",
   "execution_count": 913,
   "metadata": {},
   "outputs": [
    {
     "name": "stdout",
     "output_type": "stream",
     "text": [
      "[ 9557.  9669. 10183.  9625. 10709. 10257.]\n"
     ]
    }
   ],
   "source": [
    "count = np.zeros(6)\n",
    "for i in p5:\n",
    "    count[np.argmax(i)] += 1\n",
    "print(count)"
   ]
  },
  {
   "cell_type": "code",
   "execution_count": 935,
   "metadata": {},
   "outputs": [],
   "source": [
    "predictions = np.argmax(p6,  axis=1)\n",
    "pred6 = pd.DataFrame(predictions)\n",
    "pred6.index.name = \"Id\"\n",
    "pred6 = pred6.rename(columns={0: \"Category\"})\n"
   ]
  },
  {
   "cell_type": "code",
   "execution_count": 936,
   "metadata": {},
   "outputs": [
    {
     "data": {
      "text/html": [
       "<div>\n",
       "<style scoped>\n",
       "    .dataframe tbody tr th:only-of-type {\n",
       "        vertical-align: middle;\n",
       "    }\n",
       "\n",
       "    .dataframe tbody tr th {\n",
       "        vertical-align: top;\n",
       "    }\n",
       "\n",
       "    .dataframe thead th {\n",
       "        text-align: right;\n",
       "    }\n",
       "</style>\n",
       "<table border=\"1\" class=\"dataframe\">\n",
       "  <thead>\n",
       "    <tr style=\"text-align: right;\">\n",
       "      <th></th>\n",
       "      <th>Category</th>\n",
       "    </tr>\n",
       "    <tr>\n",
       "      <th>Id</th>\n",
       "      <th></th>\n",
       "    </tr>\n",
       "  </thead>\n",
       "  <tbody>\n",
       "    <tr>\n",
       "      <th>0</th>\n",
       "      <td>2</td>\n",
       "    </tr>\n",
       "    <tr>\n",
       "      <th>1</th>\n",
       "      <td>2</td>\n",
       "    </tr>\n",
       "    <tr>\n",
       "      <th>2</th>\n",
       "      <td>4</td>\n",
       "    </tr>\n",
       "    <tr>\n",
       "      <th>3</th>\n",
       "      <td>0</td>\n",
       "    </tr>\n",
       "    <tr>\n",
       "      <th>4</th>\n",
       "      <td>1</td>\n",
       "    </tr>\n",
       "    <tr>\n",
       "      <th>5</th>\n",
       "      <td>2</td>\n",
       "    </tr>\n",
       "    <tr>\n",
       "      <th>6</th>\n",
       "      <td>2</td>\n",
       "    </tr>\n",
       "    <tr>\n",
       "      <th>7</th>\n",
       "      <td>4</td>\n",
       "    </tr>\n",
       "    <tr>\n",
       "      <th>8</th>\n",
       "      <td>5</td>\n",
       "    </tr>\n",
       "    <tr>\n",
       "      <th>9</th>\n",
       "      <td>5</td>\n",
       "    </tr>\n",
       "    <tr>\n",
       "      <th>10</th>\n",
       "      <td>4</td>\n",
       "    </tr>\n",
       "    <tr>\n",
       "      <th>11</th>\n",
       "      <td>1</td>\n",
       "    </tr>\n",
       "    <tr>\n",
       "      <th>12</th>\n",
       "      <td>1</td>\n",
       "    </tr>\n",
       "    <tr>\n",
       "      <th>13</th>\n",
       "      <td>1</td>\n",
       "    </tr>\n",
       "    <tr>\n",
       "      <th>14</th>\n",
       "      <td>3</td>\n",
       "    </tr>\n",
       "    <tr>\n",
       "      <th>15</th>\n",
       "      <td>3</td>\n",
       "    </tr>\n",
       "    <tr>\n",
       "      <th>16</th>\n",
       "      <td>4</td>\n",
       "    </tr>\n",
       "    <tr>\n",
       "      <th>17</th>\n",
       "      <td>3</td>\n",
       "    </tr>\n",
       "    <tr>\n",
       "      <th>18</th>\n",
       "      <td>0</td>\n",
       "    </tr>\n",
       "    <tr>\n",
       "      <th>19</th>\n",
       "      <td>3</td>\n",
       "    </tr>\n",
       "  </tbody>\n",
       "</table>\n",
       "</div>"
      ],
      "text/plain": [
       "    Category\n",
       "Id          \n",
       "0          2\n",
       "1          2\n",
       "2          4\n",
       "3          0\n",
       "4          1\n",
       "5          2\n",
       "6          2\n",
       "7          4\n",
       "8          5\n",
       "9          5\n",
       "10         4\n",
       "11         1\n",
       "12         1\n",
       "13         1\n",
       "14         3\n",
       "15         3\n",
       "16         4\n",
       "17         3\n",
       "18         0\n",
       "19         3"
      ]
     },
     "execution_count": 936,
     "metadata": {},
     "output_type": "execute_result"
    }
   ],
   "source": [
    "pred6[:20]"
   ]
  },
  {
   "cell_type": "code",
   "execution_count": 915,
   "metadata": {},
   "outputs": [
    {
     "data": {
      "text/html": [
       "<div>\n",
       "<style scoped>\n",
       "    .dataframe tbody tr th:only-of-type {\n",
       "        vertical-align: middle;\n",
       "    }\n",
       "\n",
       "    .dataframe tbody tr th {\n",
       "        vertical-align: top;\n",
       "    }\n",
       "\n",
       "    .dataframe thead th {\n",
       "        text-align: right;\n",
       "    }\n",
       "</style>\n",
       "<table border=\"1\" class=\"dataframe\">\n",
       "  <thead>\n",
       "    <tr style=\"text-align: right;\">\n",
       "      <th></th>\n",
       "      <th>Category</th>\n",
       "    </tr>\n",
       "    <tr>\n",
       "      <th>Id</th>\n",
       "      <th></th>\n",
       "    </tr>\n",
       "  </thead>\n",
       "  <tbody>\n",
       "    <tr>\n",
       "      <th>0</th>\n",
       "      <td>2</td>\n",
       "    </tr>\n",
       "    <tr>\n",
       "      <th>1</th>\n",
       "      <td>2</td>\n",
       "    </tr>\n",
       "    <tr>\n",
       "      <th>2</th>\n",
       "      <td>4</td>\n",
       "    </tr>\n",
       "    <tr>\n",
       "      <th>3</th>\n",
       "      <td>0</td>\n",
       "    </tr>\n",
       "    <tr>\n",
       "      <th>4</th>\n",
       "      <td>2</td>\n",
       "    </tr>\n",
       "    <tr>\n",
       "      <th>5</th>\n",
       "      <td>2</td>\n",
       "    </tr>\n",
       "    <tr>\n",
       "      <th>6</th>\n",
       "      <td>2</td>\n",
       "    </tr>\n",
       "    <tr>\n",
       "      <th>7</th>\n",
       "      <td>4</td>\n",
       "    </tr>\n",
       "    <tr>\n",
       "      <th>8</th>\n",
       "      <td>5</td>\n",
       "    </tr>\n",
       "    <tr>\n",
       "      <th>9</th>\n",
       "      <td>5</td>\n",
       "    </tr>\n",
       "    <tr>\n",
       "      <th>10</th>\n",
       "      <td>1</td>\n",
       "    </tr>\n",
       "    <tr>\n",
       "      <th>11</th>\n",
       "      <td>1</td>\n",
       "    </tr>\n",
       "    <tr>\n",
       "      <th>12</th>\n",
       "      <td>1</td>\n",
       "    </tr>\n",
       "    <tr>\n",
       "      <th>13</th>\n",
       "      <td>1</td>\n",
       "    </tr>\n",
       "    <tr>\n",
       "      <th>14</th>\n",
       "      <td>4</td>\n",
       "    </tr>\n",
       "    <tr>\n",
       "      <th>15</th>\n",
       "      <td>3</td>\n",
       "    </tr>\n",
       "    <tr>\n",
       "      <th>16</th>\n",
       "      <td>2</td>\n",
       "    </tr>\n",
       "    <tr>\n",
       "      <th>17</th>\n",
       "      <td>3</td>\n",
       "    </tr>\n",
       "    <tr>\n",
       "      <th>18</th>\n",
       "      <td>0</td>\n",
       "    </tr>\n",
       "    <tr>\n",
       "      <th>19</th>\n",
       "      <td>3</td>\n",
       "    </tr>\n",
       "  </tbody>\n",
       "</table>\n",
       "</div>"
      ],
      "text/plain": [
       "    Category\n",
       "Id          \n",
       "0          2\n",
       "1          2\n",
       "2          4\n",
       "3          0\n",
       "4          2\n",
       "5          2\n",
       "6          2\n",
       "7          4\n",
       "8          5\n",
       "9          5\n",
       "10         1\n",
       "11         1\n",
       "12         1\n",
       "13         1\n",
       "14         4\n",
       "15         3\n",
       "16         2\n",
       "17         3\n",
       "18         0\n",
       "19         3"
      ]
     },
     "execution_count": 915,
     "metadata": {},
     "output_type": "execute_result"
    }
   ],
   "source": [
    "pred5[:20]"
   ]
  },
  {
   "cell_type": "code",
   "execution_count": 839,
   "metadata": {},
   "outputs": [
    {
     "data": {
      "text/html": [
       "<div>\n",
       "<style scoped>\n",
       "    .dataframe tbody tr th:only-of-type {\n",
       "        vertical-align: middle;\n",
       "    }\n",
       "\n",
       "    .dataframe tbody tr th {\n",
       "        vertical-align: top;\n",
       "    }\n",
       "\n",
       "    .dataframe thead th {\n",
       "        text-align: right;\n",
       "    }\n",
       "</style>\n",
       "<table border=\"1\" class=\"dataframe\">\n",
       "  <thead>\n",
       "    <tr style=\"text-align: right;\">\n",
       "      <th></th>\n",
       "      <th>Category</th>\n",
       "    </tr>\n",
       "    <tr>\n",
       "      <th>Id</th>\n",
       "      <th></th>\n",
       "    </tr>\n",
       "  </thead>\n",
       "  <tbody>\n",
       "    <tr>\n",
       "      <th>0</th>\n",
       "      <td>2</td>\n",
       "    </tr>\n",
       "    <tr>\n",
       "      <th>1</th>\n",
       "      <td>2</td>\n",
       "    </tr>\n",
       "    <tr>\n",
       "      <th>2</th>\n",
       "      <td>4</td>\n",
       "    </tr>\n",
       "    <tr>\n",
       "      <th>3</th>\n",
       "      <td>0</td>\n",
       "    </tr>\n",
       "    <tr>\n",
       "      <th>4</th>\n",
       "      <td>1</td>\n",
       "    </tr>\n",
       "    <tr>\n",
       "      <th>5</th>\n",
       "      <td>2</td>\n",
       "    </tr>\n",
       "    <tr>\n",
       "      <th>6</th>\n",
       "      <td>2</td>\n",
       "    </tr>\n",
       "    <tr>\n",
       "      <th>7</th>\n",
       "      <td>4</td>\n",
       "    </tr>\n",
       "    <tr>\n",
       "      <th>8</th>\n",
       "      <td>5</td>\n",
       "    </tr>\n",
       "    <tr>\n",
       "      <th>9</th>\n",
       "      <td>5</td>\n",
       "    </tr>\n",
       "    <tr>\n",
       "      <th>10</th>\n",
       "      <td>4</td>\n",
       "    </tr>\n",
       "    <tr>\n",
       "      <th>11</th>\n",
       "      <td>1</td>\n",
       "    </tr>\n",
       "    <tr>\n",
       "      <th>12</th>\n",
       "      <td>1</td>\n",
       "    </tr>\n",
       "    <tr>\n",
       "      <th>13</th>\n",
       "      <td>1</td>\n",
       "    </tr>\n",
       "    <tr>\n",
       "      <th>14</th>\n",
       "      <td>3</td>\n",
       "    </tr>\n",
       "    <tr>\n",
       "      <th>15</th>\n",
       "      <td>3</td>\n",
       "    </tr>\n",
       "    <tr>\n",
       "      <th>16</th>\n",
       "      <td>2</td>\n",
       "    </tr>\n",
       "    <tr>\n",
       "      <th>17</th>\n",
       "      <td>3</td>\n",
       "    </tr>\n",
       "    <tr>\n",
       "      <th>18</th>\n",
       "      <td>0</td>\n",
       "    </tr>\n",
       "    <tr>\n",
       "      <th>19</th>\n",
       "      <td>3</td>\n",
       "    </tr>\n",
       "  </tbody>\n",
       "</table>\n",
       "</div>"
      ],
      "text/plain": [
       "    Category\n",
       "Id          \n",
       "0          2\n",
       "1          2\n",
       "2          4\n",
       "3          0\n",
       "4          1\n",
       "5          2\n",
       "6          2\n",
       "7          4\n",
       "8          5\n",
       "9          5\n",
       "10         4\n",
       "11         1\n",
       "12         1\n",
       "13         1\n",
       "14         3\n",
       "15         3\n",
       "16         2\n",
       "17         3\n",
       "18         0\n",
       "19         3"
      ]
     },
     "execution_count": 839,
     "metadata": {},
     "output_type": "execute_result"
    }
   ],
   "source": [
    "pred5[:20]"
   ]
  },
  {
   "cell_type": "code",
   "execution_count": 937,
   "metadata": {},
   "outputs": [
    {
     "data": {
      "text/plain": [
       "<matplotlib.image.AxesImage at 0x1842f1810>"
      ]
     },
     "execution_count": 937,
     "metadata": {},
     "output_type": "execute_result"
    },
    {
     "data": {
      "image/png": "[encoded data removed]",
      "text/plain": [
       "<Figure size 432x288 with 1 Axes>"
      ]
     },
     "metadata": {
      "needs_background": "light"
     },
     "output_type": "display_data"
    }
   ],
   "source": [
    "plt.imshow(testReshapedX[14]/255)"
   ]
  },
  {
   "cell_type": "markdown",
   "metadata": {},
   "source": [
    "#### Output CSV"
   ]
  },
  {
   "cell_type": "code",
   "execution_count": 939,
   "metadata": {},
   "outputs": [],
   "source": [
    "pred6.to_csv('mobileNetTransferPredictions6.csv')"
   ]
  },
  {
   "cell_type": "code",
   "execution_count": null,
   "metadata": {},
   "outputs": [],
   "source": []
  },
  {
   "cell_type": "markdown",
   "metadata": {},
   "source": [
    "### Le reste est un bit gibberish mais je vais les garder juste pour que je me retrouve haha et me donner une baseline."
   ]
  },
  {
   "cell_type": "code",
   "execution_count": 733,
   "metadata": {},
   "outputs": [
    {
     "name": "stdout",
     "output_type": "stream",
     "text": [
      "[ 8223. 10101. 10083.  8820. 11698. 11075.]\n"
     ]
    }
   ],
   "source": [
    "count = np.zeros(6)\n",
    "for i in p:\n",
    "    count[np.argmax(i)] += 1\n",
    "print(count)"
   ]
  },
  {
   "cell_type": "code",
   "execution_count": 731,
   "metadata": {},
   "outputs": [
    {
     "name": "stdout",
     "output_type": "stream",
     "text": [
      "[ 9502.  9781. 10185. 10192. 10757.  9583.]\n"
     ]
    }
   ],
   "source": [
    "count = np.zeros(6)\n",
    "for i in p:\n",
    "    count[np.argmax(i)] += 1\n",
    "print(count)"
   ]
  },
  {
   "cell_type": "code",
   "execution_count": 745,
   "metadata": {},
   "outputs": [
    {
     "name": "stdout",
     "output_type": "stream",
     "text": [
      "[ 9618.  8898.  9717.  9593. 11937. 10237.]\n"
     ]
    }
   ],
   "source": [
    "count = np.zeros(6)\n",
    "for i in p2:\n",
    "    count[np.argmax(i)] += 1\n",
    "print(count)"
   ]
  },
  {
   "cell_type": "code",
   "execution_count": 746,
   "metadata": {},
   "outputs": [],
   "source": [
    "predictions = np.argmax(p2,  axis=1)\n",
    "pred2 = pd.DataFrame(predictions)\n",
    "pred2.index.name = \"Id\"\n",
    "pred2 = pred2.rename(columns={0: \"Category\"})\n"
   ]
  },
  {
   "cell_type": "code",
   "execution_count": 846,
   "metadata": {},
   "outputs": [
    {
     "data": {
      "text/html": [
       "<div>\n",
       "<style scoped>\n",
       "    .dataframe tbody tr th:only-of-type {\n",
       "        vertical-align: middle;\n",
       "    }\n",
       "\n",
       "    .dataframe tbody tr th {\n",
       "        vertical-align: top;\n",
       "    }\n",
       "\n",
       "    .dataframe thead th {\n",
       "        text-align: right;\n",
       "    }\n",
       "</style>\n",
       "<table border=\"1\" class=\"dataframe\">\n",
       "  <thead>\n",
       "    <tr style=\"text-align: right;\">\n",
       "      <th></th>\n",
       "      <th>Category</th>\n",
       "    </tr>\n",
       "    <tr>\n",
       "      <th>Id</th>\n",
       "      <th></th>\n",
       "    </tr>\n",
       "  </thead>\n",
       "  <tbody>\n",
       "    <tr>\n",
       "      <th>0</th>\n",
       "      <td>2</td>\n",
       "    </tr>\n",
       "    <tr>\n",
       "      <th>1</th>\n",
       "      <td>2</td>\n",
       "    </tr>\n",
       "    <tr>\n",
       "      <th>2</th>\n",
       "      <td>4</td>\n",
       "    </tr>\n",
       "    <tr>\n",
       "      <th>3</th>\n",
       "      <td>0</td>\n",
       "    </tr>\n",
       "    <tr>\n",
       "      <th>4</th>\n",
       "      <td>1</td>\n",
       "    </tr>\n",
       "    <tr>\n",
       "      <th>5</th>\n",
       "      <td>2</td>\n",
       "    </tr>\n",
       "    <tr>\n",
       "      <th>6</th>\n",
       "      <td>2</td>\n",
       "    </tr>\n",
       "    <tr>\n",
       "      <th>7</th>\n",
       "      <td>4</td>\n",
       "    </tr>\n",
       "    <tr>\n",
       "      <th>8</th>\n",
       "      <td>5</td>\n",
       "    </tr>\n",
       "    <tr>\n",
       "      <th>9</th>\n",
       "      <td>5</td>\n",
       "    </tr>\n",
       "    <tr>\n",
       "      <th>10</th>\n",
       "      <td>4</td>\n",
       "    </tr>\n",
       "    <tr>\n",
       "      <th>11</th>\n",
       "      <td>1</td>\n",
       "    </tr>\n",
       "    <tr>\n",
       "      <th>12</th>\n",
       "      <td>1</td>\n",
       "    </tr>\n",
       "    <tr>\n",
       "      <th>13</th>\n",
       "      <td>1</td>\n",
       "    </tr>\n",
       "    <tr>\n",
       "      <th>14</th>\n",
       "      <td>3</td>\n",
       "    </tr>\n",
       "    <tr>\n",
       "      <th>15</th>\n",
       "      <td>3</td>\n",
       "    </tr>\n",
       "    <tr>\n",
       "      <th>16</th>\n",
       "      <td>2</td>\n",
       "    </tr>\n",
       "    <tr>\n",
       "      <th>17</th>\n",
       "      <td>3</td>\n",
       "    </tr>\n",
       "    <tr>\n",
       "      <th>18</th>\n",
       "      <td>0</td>\n",
       "    </tr>\n",
       "    <tr>\n",
       "      <th>19</th>\n",
       "      <td>3</td>\n",
       "    </tr>\n",
       "  </tbody>\n",
       "</table>\n",
       "</div>"
      ],
      "text/plain": [
       "    Category\n",
       "Id          \n",
       "0          2\n",
       "1          2\n",
       "2          4\n",
       "3          0\n",
       "4          1\n",
       "5          2\n",
       "6          2\n",
       "7          4\n",
       "8          5\n",
       "9          5\n",
       "10         4\n",
       "11         1\n",
       "12         1\n",
       "13         1\n",
       "14         3\n",
       "15         3\n",
       "16         2\n",
       "17         3\n",
       "18         0\n",
       "19         3"
      ]
     },
     "execution_count": 846,
     "metadata": {},
     "output_type": "execute_result"
    }
   ],
   "source": [
    "pred5[:20]"
   ]
  },
  {
   "cell_type": "code",
   "execution_count": 739,
   "metadata": {},
   "outputs": [
    {
     "data": {
      "text/html": [
       "<div>\n",
       "<style scoped>\n",
       "    .dataframe tbody tr th:only-of-type {\n",
       "        vertical-align: middle;\n",
       "    }\n",
       "\n",
       "    .dataframe tbody tr th {\n",
       "        vertical-align: top;\n",
       "    }\n",
       "\n",
       "    .dataframe thead th {\n",
       "        text-align: right;\n",
       "    }\n",
       "</style>\n",
       "<table border=\"1\" class=\"dataframe\">\n",
       "  <thead>\n",
       "    <tr style=\"text-align: right;\">\n",
       "      <th></th>\n",
       "      <th>Category</th>\n",
       "    </tr>\n",
       "    <tr>\n",
       "      <th>Id</th>\n",
       "      <th></th>\n",
       "    </tr>\n",
       "  </thead>\n",
       "  <tbody>\n",
       "    <tr>\n",
       "      <th>0</th>\n",
       "      <td>2</td>\n",
       "    </tr>\n",
       "    <tr>\n",
       "      <th>1</th>\n",
       "      <td>2</td>\n",
       "    </tr>\n",
       "    <tr>\n",
       "      <th>2</th>\n",
       "      <td>4</td>\n",
       "    </tr>\n",
       "    <tr>\n",
       "      <th>3</th>\n",
       "      <td>0</td>\n",
       "    </tr>\n",
       "    <tr>\n",
       "      <th>4</th>\n",
       "      <td>4</td>\n",
       "    </tr>\n",
       "    <tr>\n",
       "      <th>5</th>\n",
       "      <td>2</td>\n",
       "    </tr>\n",
       "    <tr>\n",
       "      <th>6</th>\n",
       "      <td>2</td>\n",
       "    </tr>\n",
       "    <tr>\n",
       "      <th>7</th>\n",
       "      <td>4</td>\n",
       "    </tr>\n",
       "    <tr>\n",
       "      <th>8</th>\n",
       "      <td>5</td>\n",
       "    </tr>\n",
       "    <tr>\n",
       "      <th>9</th>\n",
       "      <td>5</td>\n",
       "    </tr>\n",
       "    <tr>\n",
       "      <th>10</th>\n",
       "      <td>0</td>\n",
       "    </tr>\n",
       "    <tr>\n",
       "      <th>11</th>\n",
       "      <td>1</td>\n",
       "    </tr>\n",
       "    <tr>\n",
       "      <th>12</th>\n",
       "      <td>1</td>\n",
       "    </tr>\n",
       "    <tr>\n",
       "      <th>13</th>\n",
       "      <td>1</td>\n",
       "    </tr>\n",
       "    <tr>\n",
       "      <th>14</th>\n",
       "      <td>5</td>\n",
       "    </tr>\n",
       "    <tr>\n",
       "      <th>15</th>\n",
       "      <td>5</td>\n",
       "    </tr>\n",
       "    <tr>\n",
       "      <th>16</th>\n",
       "      <td>4</td>\n",
       "    </tr>\n",
       "    <tr>\n",
       "      <th>17</th>\n",
       "      <td>3</td>\n",
       "    </tr>\n",
       "    <tr>\n",
       "      <th>18</th>\n",
       "      <td>0</td>\n",
       "    </tr>\n",
       "    <tr>\n",
       "      <th>19</th>\n",
       "      <td>3</td>\n",
       "    </tr>\n",
       "  </tbody>\n",
       "</table>\n",
       "</div>"
      ],
      "text/plain": [
       "    Category\n",
       "Id          \n",
       "0          2\n",
       "1          2\n",
       "2          4\n",
       "3          0\n",
       "4          4\n",
       "5          2\n",
       "6          2\n",
       "7          4\n",
       "8          5\n",
       "9          5\n",
       "10         0\n",
       "11         1\n",
       "12         1\n",
       "13         1\n",
       "14         5\n",
       "15         5\n",
       "16         4\n",
       "17         3\n",
       "18         0\n",
       "19         3"
      ]
     },
     "execution_count": 739,
     "metadata": {},
     "output_type": "execute_result"
    }
   ],
   "source": [
    "preds[:20]"
   ]
  },
  {
   "cell_type": "code",
   "execution_count": 710,
   "metadata": {},
   "outputs": [],
   "source": [
    "predictions = np.argmax(p,  axis=1)\n",
    "pred = pd.DataFrame(predictions)\n",
    "pred.index.name = \"Id\"\n",
    "pred = pred.rename(columns={0: \"Category\"})\n"
   ]
  },
  {
   "cell_type": "code",
   "execution_count": 749,
   "metadata": {},
   "outputs": [
    {
     "data": {
      "text/html": [
       "<div>\n",
       "<style scoped>\n",
       "    .dataframe tbody tr th:only-of-type {\n",
       "        vertical-align: middle;\n",
       "    }\n",
       "\n",
       "    .dataframe tbody tr th {\n",
       "        vertical-align: top;\n",
       "    }\n",
       "\n",
       "    .dataframe thead th {\n",
       "        text-align: right;\n",
       "    }\n",
       "</style>\n",
       "<table border=\"1\" class=\"dataframe\">\n",
       "  <thead>\n",
       "    <tr style=\"text-align: right;\">\n",
       "      <th></th>\n",
       "      <th>Category</th>\n",
       "    </tr>\n",
       "    <tr>\n",
       "      <th>Id</th>\n",
       "      <th></th>\n",
       "    </tr>\n",
       "  </thead>\n",
       "  <tbody>\n",
       "    <tr>\n",
       "      <th>0</th>\n",
       "      <td>2</td>\n",
       "    </tr>\n",
       "    <tr>\n",
       "      <th>1</th>\n",
       "      <td>2</td>\n",
       "    </tr>\n",
       "    <tr>\n",
       "      <th>2</th>\n",
       "      <td>4</td>\n",
       "    </tr>\n",
       "    <tr>\n",
       "      <th>3</th>\n",
       "      <td>0</td>\n",
       "    </tr>\n",
       "    <tr>\n",
       "      <th>4</th>\n",
       "      <td>2</td>\n",
       "    </tr>\n",
       "    <tr>\n",
       "      <th>5</th>\n",
       "      <td>2</td>\n",
       "    </tr>\n",
       "    <tr>\n",
       "      <th>6</th>\n",
       "      <td>2</td>\n",
       "    </tr>\n",
       "    <tr>\n",
       "      <th>7</th>\n",
       "      <td>4</td>\n",
       "    </tr>\n",
       "    <tr>\n",
       "      <th>8</th>\n",
       "      <td>3</td>\n",
       "    </tr>\n",
       "  </tbody>\n",
       "</table>\n",
       "</div>"
      ],
      "text/plain": [
       "    Category\n",
       "Id          \n",
       "0          2\n",
       "1          2\n",
       "2          4\n",
       "3          0\n",
       "4          2\n",
       "5          2\n",
       "6          2\n",
       "7          4\n",
       "8          3"
      ]
     },
     "execution_count": 749,
     "metadata": {},
     "output_type": "execute_result"
    }
   ],
   "source": [
    "pred[:9]"
   ]
  },
  {
   "cell_type": "code",
   "execution_count": 697,
   "metadata": {},
   "outputs": [
    {
     "data": {
      "text/html": [
       "<div>\n",
       "<style scoped>\n",
       "    .dataframe tbody tr th:only-of-type {\n",
       "        vertical-align: middle;\n",
       "    }\n",
       "\n",
       "    .dataframe tbody tr th {\n",
       "        vertical-align: top;\n",
       "    }\n",
       "\n",
       "    .dataframe thead th {\n",
       "        text-align: right;\n",
       "    }\n",
       "</style>\n",
       "<table border=\"1\" class=\"dataframe\">\n",
       "  <thead>\n",
       "    <tr style=\"text-align: right;\">\n",
       "      <th></th>\n",
       "      <th>Category</th>\n",
       "    </tr>\n",
       "    <tr>\n",
       "      <th>Id</th>\n",
       "      <th></th>\n",
       "    </tr>\n",
       "  </thead>\n",
       "  <tbody>\n",
       "    <tr>\n",
       "      <th>0</th>\n",
       "      <td>2</td>\n",
       "    </tr>\n",
       "    <tr>\n",
       "      <th>1</th>\n",
       "      <td>2</td>\n",
       "    </tr>\n",
       "    <tr>\n",
       "      <th>2</th>\n",
       "      <td>4</td>\n",
       "    </tr>\n",
       "    <tr>\n",
       "      <th>3</th>\n",
       "      <td>0</td>\n",
       "    </tr>\n",
       "    <tr>\n",
       "      <th>4</th>\n",
       "      <td>4</td>\n",
       "    </tr>\n",
       "    <tr>\n",
       "      <th>5</th>\n",
       "      <td>2</td>\n",
       "    </tr>\n",
       "    <tr>\n",
       "      <th>6</th>\n",
       "      <td>2</td>\n",
       "    </tr>\n",
       "    <tr>\n",
       "      <th>7</th>\n",
       "      <td>4</td>\n",
       "    </tr>\n",
       "    <tr>\n",
       "      <th>8</th>\n",
       "      <td>5</td>\n",
       "    </tr>\n",
       "    <tr>\n",
       "      <th>9</th>\n",
       "      <td>0</td>\n",
       "    </tr>\n",
       "    <tr>\n",
       "      <th>10</th>\n",
       "      <td>1</td>\n",
       "    </tr>\n",
       "    <tr>\n",
       "      <th>11</th>\n",
       "      <td>1</td>\n",
       "    </tr>\n",
       "    <tr>\n",
       "      <th>12</th>\n",
       "      <td>1</td>\n",
       "    </tr>\n",
       "    <tr>\n",
       "      <th>13</th>\n",
       "      <td>1</td>\n",
       "    </tr>\n",
       "    <tr>\n",
       "      <th>14</th>\n",
       "      <td>3</td>\n",
       "    </tr>\n",
       "    <tr>\n",
       "      <th>15</th>\n",
       "      <td>3</td>\n",
       "    </tr>\n",
       "    <tr>\n",
       "      <th>16</th>\n",
       "      <td>4</td>\n",
       "    </tr>\n",
       "    <tr>\n",
       "      <th>17</th>\n",
       "      <td>3</td>\n",
       "    </tr>\n",
       "    <tr>\n",
       "      <th>18</th>\n",
       "      <td>4</td>\n",
       "    </tr>\n",
       "    <tr>\n",
       "      <th>19</th>\n",
       "      <td>3</td>\n",
       "    </tr>\n",
       "  </tbody>\n",
       "</table>\n",
       "</div>"
      ],
      "text/plain": [
       "    Category\n",
       "Id          \n",
       "0          2\n",
       "1          2\n",
       "2          4\n",
       "3          0\n",
       "4          4\n",
       "5          2\n",
       "6          2\n",
       "7          4\n",
       "8          5\n",
       "9          0\n",
       "10         1\n",
       "11         1\n",
       "12         1\n",
       "13         1\n",
       "14         3\n",
       "15         3\n",
       "16         4\n",
       "17         3\n",
       "18         4\n",
       "19         3"
      ]
     },
     "execution_count": 697,
     "metadata": {},
     "output_type": "execute_result"
    }
   ],
   "source": [
    "pred[:20]"
   ]
  },
  {
   "cell_type": "code",
   "execution_count": 750,
   "metadata": {},
   "outputs": [
    {
     "data": {
      "text/plain": [
       "<matplotlib.image.AxesImage at 0x17d09e490>"
      ]
     },
     "execution_count": 750,
     "metadata": {},
     "output_type": "execute_result"
    },
    {
     "data": {
      "image/png": "[encoded data removed]",
      "text/plain": [
       "<Figure size 432x288 with 1 Axes>"
      ]
     },
     "metadata": {
      "needs_background": "light"
     },
     "output_type": "display_data"
    }
   ],
   "source": [
    "plt.imshow(testReshapedX[9])"
   ]
  },
  {
   "cell_type": "code",
   "execution_count": 753,
   "metadata": {},
   "outputs": [],
   "source": [
    "preds.to_csv('mobileNetTransferPredictions2.csv')"
   ]
  },
  {
   "cell_type": "markdown",
   "metadata": {},
   "source": [
    "# MNIST"
   ]
  },
  {
   "cell_type": "code",
   "execution_count": 318,
   "metadata": {},
   "outputs": [],
   "source": [
    "import pickle\n",
    "import numpy as np\n",
    "import gzip\n",
    "\n",
    "\n",
    "def one_hot(y, n_classes=6):\n",
    "    return np.eye(n_classes)[y]\n",
    "\n",
    "def load_mnist():\n",
    "    data_file = gzip.open(\"mnist.pkl.gz\", \"rb\")\n",
    "    train_data, val_data, test_data = pickle.load(data_file, encoding=\"latin1\")\n",
    "    data_file.close()\n",
    "\n",
    "    train_inputs = [np.reshape(x, (784, 1)) for x in train_data[0]]\n",
    "    train_results = [one_hot(y, 10) for y in train_data[1]]\n",
    "    train_data = np.array(train_inputs).reshape(-1, 784), np.array(train_results).reshape(-1, 10)\n",
    "\n",
    "    val_inputs = [np.reshape(x, (784, 1)) for x in val_data[0]]\n",
    "    val_results = [one_hot(y, 10) for y in val_data[1]]\n",
    "    val_data = np.array(val_inputs).reshape(-1, 784), np.array(val_results).reshape(-1, 10)\n",
    "\n",
    "    test_inputs = [np.reshape(x, (784, 1)) for x in test_data[0]]\n",
    "    test_data = list(zip(test_inputs, test_data[1]))\n",
    "\n",
    "    return train_data, val_data, test_data"
   ]
  },
  {
   "cell_type": "code",
   "execution_count": 319,
   "metadata": {},
   "outputs": [],
   "source": [
    "trainM, valM, testM = load_mnist()"
   ]
  },
  {
   "cell_type": "code",
   "execution_count": 320,
   "metadata": {},
   "outputs": [],
   "source": [
    "trainM_x, trainMy = trainM\n",
    "validM_x, validMy = valM"
   ]
  },
  {
   "cell_type": "code",
   "execution_count": 321,
   "metadata": {},
   "outputs": [
    {
     "data": {
      "text/plain": [
       "(50000, 784)"
      ]
     },
     "execution_count": 321,
     "metadata": {},
     "output_type": "execute_result"
    }
   ],
   "source": [
    "trainM_x.shape"
   ]
  },
  {
   "cell_type": "code",
   "execution_count": 322,
   "metadata": {},
   "outputs": [],
   "source": [
    "trainM_y = np.argmax(trainMy, axis=1)\n",
    "validM_y = np.argmax(validMy,  axis=1)"
   ]
  },
  {
   "cell_type": "code",
   "execution_count": 323,
   "metadata": {},
   "outputs": [],
   "source": [
    "result = np.where((trainM_y > 3))[0]\n",
    "resultV = np.where((validM_y > 3))[0]"
   ]
  },
  {
   "cell_type": "code",
   "execution_count": 385,
   "metadata": {},
   "outputs": [],
   "source": [
    "trainMX = trainM_x[result] \n",
    "trainMY = one_hot(trainM_y[result]-4) \n",
    "\n",
    "validMX = validM_x[resultV] \n",
    "validMY = one_hot(validM_y[resultV]-4)\n",
    "\n",
    "trainMX = trainMX.reshape(-1, 28, 28, 1)\n",
    "validMX = validMX.reshape(-1, 28, 28, 1)\n",
    "\n",
    "\n",
    "trainMX = np.stack((trainMX.reshape(-1, 28,28),)*3, axis=-1)\n",
    "validMX = np.stack((validMX.reshape(-1, 28,28),)*3, axis=-1)"
   ]
  },
  {
   "cell_type": "code",
   "execution_count": 383,
   "metadata": {},
   "outputs": [
    {
     "data": {
      "text/plain": [
       "(29321, 28, 28, 3)"
      ]
     },
     "execution_count": 383,
     "metadata": {},
     "output_type": "execute_result"
    }
   ],
   "source": [
    "trainMX.shape"
   ]
  },
  {
   "cell_type": "code",
   "execution_count": 376,
   "metadata": {},
   "outputs": [
    {
     "data": {
      "text/plain": [
       "<matplotlib.image.AxesImage at 0x17602d8d0>"
      ]
     },
     "execution_count": 376,
     "metadata": {},
     "output_type": "execute_result"
    },
    {
     "data": {
      "image/png": "[encoded data removed]",
      "text/plain": [
       "<Figure size 432x288 with 1 Axes>"
      ]
     },
     "metadata": {
      "needs_background": "light"
     },
     "output_type": "display_data"
    }
   ],
   "source": [
    "plt.imshow(trainMX[2].reshape(28,28))"
   ]
  },
  {
   "cell_type": "code",
   "execution_count": 384,
   "metadata": {},
   "outputs": [
    {
     "data": {
      "text/plain": [
       "<matplotlib.image.AxesImage at 0x1760f6190>"
      ]
     },
     "execution_count": 384,
     "metadata": {},
     "output_type": "execute_result"
    },
    {
     "data": {
      "image/png": "[encoded data removed]",
      "text/plain": [
       "<Figure size 432x288 with 1 Axes>"
      ]
     },
     "metadata": {
      "needs_background": "light"
     },
     "output_type": "display_data"
    }
   ],
   "source": [
    "plt.imshow(trainMX[2])"
   ]
  },
  {
   "cell_type": "code",
   "execution_count": 568,
   "metadata": {},
   "outputs": [],
   "source": [
    "from keras.layers.normalization import BatchNormalization"
   ]
  },
  {
   "cell_type": "code",
   "execution_count": 614,
   "metadata": {},
   "outputs": [],
   "source": [
    "# define the CNN model\n",
    "def cnn_model():\n",
    "    # create model\n",
    "    model = Sequential()\n",
    "    \n",
    "    model.add(Conv2D(32, kernel_size=(3, 3), input_shape=(28, 28, 3), strides=(1, 1), activation='relu'))\n",
    "    model.add(MaxPooling2D(pool_size=(2, 2)))\n",
    "    model.add(Conv2D(64, kernel_size=(3, 3), activation='relu', strides=(1, 1)))\n",
    "    model.add(MaxPooling2D(pool_size=(2, 2)))\n",
    "    model.add(Conv2D(64, kernel_size=(3, 3), activation='relu', strides=(1, 1)))\n",
    "    model.add(MaxPooling2D(pool_size=(2, 2)))\n",
    "\n",
    "    model.add(Flatten())\n",
    "    model.add(Dense(128, activation='relu'))\n",
    "    model.add(Dropout(0.2))\n",
    "    model.add(Dense(32, activation='relu'))\n",
    "    model.add(Dense(6, activation='softmax'))\n",
    "    \n",
    "    # Compile model\n",
    "    model.compile(loss='categorical_crossentropy', optimizer='adam', metrics=['accuracy'])\n",
    "    return model"
   ]
  },
  {
   "cell_type": "code",
   "execution_count": 615,
   "metadata": {},
   "outputs": [
    {
     "name": "stdout",
     "output_type": "stream",
     "text": [
      "Model: \"sequential_32\"\n",
      "_________________________________________________________________\n",
      "Layer (type)                 Output Shape              Param #   \n",
      "=================================================================\n",
      "conv2d_27 (Conv2D)           (None, 26, 26, 32)        896       \n",
      "_________________________________________________________________\n",
      "max_pooling2d_23 (MaxPooling (None, 13, 13, 32)        0         \n",
      "_________________________________________________________________\n",
      "conv2d_28 (Conv2D)           (None, 11, 11, 64)        18496     \n",
      "_________________________________________________________________\n",
      "max_pooling2d_24 (MaxPooling (None, 5, 5, 64)          0         \n",
      "_________________________________________________________________\n",
      "conv2d_29 (Conv2D)           (None, 3, 3, 64)          36928     \n",
      "_________________________________________________________________\n",
      "max_pooling2d_25 (MaxPooling (None, 1, 1, 64)          0         \n",
      "_________________________________________________________________\n",
      "flatten_10 (Flatten)         (None, 64)                0         \n",
      "_________________________________________________________________\n",
      "dense_70 (Dense)             (None, 128)               8320      \n",
      "_________________________________________________________________\n",
      "dropout_33 (Dropout)         (None, 128)               0         \n",
      "_________________________________________________________________\n",
      "dense_71 (Dense)             (None, 32)                4128      \n",
      "_________________________________________________________________\n",
      "dense_72 (Dense)             (None, 6)                 198       \n",
      "=================================================================\n",
      "Total params: 68,966\n",
      "Trainable params: 68,966\n",
      "Non-trainable params: 0\n",
      "_________________________________________________________________\n"
     ]
    }
   ],
   "source": [
    "m = cnn_model()\n",
    "m.summary()"
   ]
  },
  {
   "cell_type": "code",
   "execution_count": 616,
   "metadata": {},
   "outputs": [
    {
     "name": "stdout",
     "output_type": "stream",
     "text": [
      "Epoch 1/6\n",
      "917/917 [==============================] - 16s 18ms/step - loss: 0.2280 - accuracy: 0.9203 - val_loss: 0.0742 - val_accuracy: 0.9796\n",
      "Epoch 2/6\n",
      "917/917 [==============================] - 16s 18ms/step - loss: 0.0636 - accuracy: 0.9800 - val_loss: 0.0459 - val_accuracy: 0.9863\n",
      "Epoch 3/6\n",
      "917/917 [==============================] - 17s 19ms/step - loss: 0.0446 - accuracy: 0.9859 - val_loss: 0.0512 - val_accuracy: 0.9855\n",
      "Epoch 4/6\n",
      "917/917 [==============================] - 13s 15ms/step - loss: 0.0352 - accuracy: 0.9885 - val_loss: 0.0411 - val_accuracy: 0.9884\n",
      "Epoch 5/6\n",
      "917/917 [==============================] - 14s 15ms/step - loss: 0.0277 - accuracy: 0.9912 - val_loss: 0.0586 - val_accuracy: 0.9840\n",
      "Epoch 6/6\n",
      "917/917 [==============================] - 14s 16ms/step - loss: 0.0220 - accuracy: 0.9925 - val_loss: 0.0700 - val_accuracy: 0.9831\n"
     ]
    },
    {
     "data": {
      "text/plain": [
       "<tensorflow.python.keras.callbacks.History at 0x178cc7650>"
      ]
     },
     "execution_count": 616,
     "metadata": {},
     "output_type": "execute_result"
    }
   ],
   "source": [
    "m.fit(trainMX, trainMY,\n",
    "          epochs=6,\n",
    "          batch_size=32,\n",
    "          validation_data=(validMX, validMY))"
   ]
  },
  {
   "cell_type": "code",
   "execution_count": 617,
   "metadata": {},
   "outputs": [],
   "source": [
    "m.trainable = True"
   ]
  },
  {
   "cell_type": "code",
   "execution_count": 618,
   "metadata": {},
   "outputs": [],
   "source": [
    "for (idx, l) in enumerate(m.layers):  \n",
    "    l.trainable = False\n",
    "    if idx > 4:\n",
    "        l.trainable = True"
   ]
  },
  {
   "cell_type": "code",
   "execution_count": 619,
   "metadata": {},
   "outputs": [
    {
     "name": "stdout",
     "output_type": "stream",
     "text": [
      "Model: \"sequential_32\"\n",
      "_________________________________________________________________\n",
      "Layer (type)                 Output Shape              Param #   \n",
      "=================================================================\n",
      "conv2d_27 (Conv2D)           (None, 26, 26, 32)        896       \n",
      "_________________________________________________________________\n",
      "max_pooling2d_23 (MaxPooling (None, 13, 13, 32)        0         \n",
      "_________________________________________________________________\n",
      "conv2d_28 (Conv2D)           (None, 11, 11, 64)        18496     \n",
      "_________________________________________________________________\n",
      "max_pooling2d_24 (MaxPooling (None, 5, 5, 64)          0         \n",
      "_________________________________________________________________\n",
      "conv2d_29 (Conv2D)           (None, 3, 3, 64)          36928     \n",
      "_________________________________________________________________\n",
      "max_pooling2d_25 (MaxPooling (None, 1, 1, 64)          0         \n",
      "_________________________________________________________________\n",
      "flatten_10 (Flatten)         (None, 64)                0         \n",
      "_________________________________________________________________\n",
      "dense_70 (Dense)             (None, 128)               8320      \n",
      "_________________________________________________________________\n",
      "dropout_33 (Dropout)         (None, 128)               0         \n",
      "_________________________________________________________________\n",
      "dense_71 (Dense)             (None, 32)                4128      \n",
      "_________________________________________________________________\n",
      "dense_72 (Dense)             (None, 6)                 198       \n",
      "=================================================================\n",
      "Total params: 68,966\n",
      "Trainable params: 12,646\n",
      "Non-trainable params: 56,320\n",
      "_________________________________________________________________\n"
     ]
    }
   ],
   "source": [
    "m.summary()"
   ]
  },
  {
   "cell_type": "code",
   "execution_count": null,
   "metadata": {},
   "outputs": [],
   "source": []
  },
  {
   "cell_type": "code",
   "execution_count": null,
   "metadata": {},
   "outputs": [],
   "source": []
  },
  {
   "cell_type": "code",
   "execution_count": 620,
   "metadata": {},
   "outputs": [
    {
     "name": "stdout",
     "output_type": "stream",
     "text": [
      "Found 1200 images belonging to 6 classes.\n",
      "Found 0 images belonging to 6 classes.\n"
     ]
    }
   ],
   "source": [
    "\n",
    "train_datagen=tf.keras.preprocessing.image.ImageDataGenerator(\n",
    "    horizontal_flip=True, width_shift_range=0.1, zoom_range=0.1,\n",
    "    height_shift_range=0.1, shear_range=0.01, rotation_range=15, fill_mode=\"constant\", rescale=1./255, validation_split=0.00)\n",
    "train_gen = train_datagen.flow_from_directory('./train1200A/classes', class_mode='categorical', target_size=(28,28), subset='training')\n",
    "valid_gen = train_datagen.flow_from_directory('./train1200A/classes', class_mode='categorical', target_size=(28,28), subset='validation')"
   ]
  },
  {
   "cell_type": "code",
   "execution_count": 621,
   "metadata": {},
   "outputs": [
    {
     "name": "stdout",
     "output_type": "stream",
     "text": [
      "(32, 28, 28, 3)\n",
      "(32, 6)\n"
     ]
    }
   ],
   "source": [
    "x, y = train_generator[0]\n",
    "print(x.shape)\n",
    "print(y.shape)"
   ]
  },
  {
   "cell_type": "code",
   "execution_count": 622,
   "metadata": {},
   "outputs": [
    {
     "name": "stdout",
     "output_type": "stream",
     "text": [
      "[0. 1. 0. 0. 0. 0.]\n"
     ]
    }
   ],
   "source": [
    "print(y[21])"
   ]
  },
  {
   "cell_type": "code",
   "execution_count": 623,
   "metadata": {},
   "outputs": [
    {
     "data": {
      "text/plain": [
       "0.99609375"
      ]
     },
     "execution_count": 623,
     "metadata": {},
     "output_type": "execute_result"
    }
   ],
   "source": [
    "trainMX[21].max()"
   ]
  },
  {
   "cell_type": "code",
   "execution_count": 578,
   "metadata": {},
   "outputs": [
    {
     "data": {
      "text/plain": [
       "0.99762714"
      ]
     },
     "execution_count": 578,
     "metadata": {},
     "output_type": "execute_result"
    }
   ],
   "source": [
    "x[21].max()"
   ]
  },
  {
   "cell_type": "code",
   "execution_count": 597,
   "metadata": {},
   "outputs": [
    {
     "data": {
      "text/plain": [
       "<matplotlib.image.AxesImage at 0x1788f4390>"
      ]
     },
     "execution_count": 597,
     "metadata": {},
     "output_type": "execute_result"
    },
    {
     "data": {
      "image/png": "[encoded data removed]",
      "text/plain": [
       "<Figure size 432x288 with 1 Axes>"
      ]
     },
     "metadata": {
      "needs_background": "light"
     },
     "output_type": "display_data"
    }
   ],
   "source": [
    "plt.imshow(x[20])  "
   ]
  },
  {
   "cell_type": "code",
   "execution_count": 580,
   "metadata": {},
   "outputs": [
    {
     "data": {
      "text/plain": [
       "(600, 28, 28, 3)"
      ]
     },
     "execution_count": 580,
     "metadata": {},
     "output_type": "execute_result"
    }
   ],
   "source": [
    "xValid.shape"
   ]
  },
  {
   "cell_type": "code",
   "execution_count": 581,
   "metadata": {},
   "outputs": [
    {
     "data": {
      "text/plain": [
       "(600, 6)"
      ]
     },
     "execution_count": 581,
     "metadata": {},
     "output_type": "execute_result"
    }
   ],
   "source": [
    "yValid.shape"
   ]
  },
  {
   "cell_type": "code",
   "execution_count": 605,
   "metadata": {},
   "outputs": [],
   "source": [
    "# datagen = ImageDataGenerator(preprocessing_function=preprocess_input,\n",
    "#         rotation_range=15,\n",
    "#         width_shift_range=0.15,\n",
    "#         height_shift_range=0.15,\n",
    "#         shear_range=0.00,\n",
    "#         zoom_range=0.1,\n",
    "#         rescale=1./255,\n",
    "#         horizontal_flip=True,\n",
    "#         fill_mode='constant')"
   ]
  },
  {
   "cell_type": "code",
   "execution_count": 606,
   "metadata": {},
   "outputs": [],
   "source": [
    "# it = datagen.flow(xTrain, yT, batch_size=32)"
   ]
  },
  {
   "cell_type": "code",
   "execution_count": 607,
   "metadata": {},
   "outputs": [
    {
     "data": {
      "text/plain": [
       "(32, 28, 28, 3)"
      ]
     },
     "execution_count": 607,
     "metadata": {},
     "output_type": "execute_result"
    }
   ],
   "source": [
    "# x, y = it[0]\n",
    "# x.shape"
   ]
  },
  {
   "cell_type": "code",
   "execution_count": 624,
   "metadata": {},
   "outputs": [
    {
     "name": "stdout",
     "output_type": "stream",
     "text": [
      "Epoch 1/100\n",
      "38/38 [==============================] - 2s 46ms/step - loss: 2.0956 - accuracy: 0.2217 - val_loss: 1.7477 - val_accuracy: 0.2567\n",
      "Epoch 2/100\n",
      "38/38 [==============================] - 1s 37ms/step - loss: 1.6888 - accuracy: 0.2808 - val_loss: 1.6232 - val_accuracy: 0.3317\n",
      "Epoch 3/100\n",
      "38/38 [==============================] - 1s 37ms/step - loss: 1.6038 - accuracy: 0.3225 - val_loss: 1.5808 - val_accuracy: 0.3700\n",
      "Epoch 4/100\n",
      "38/38 [==============================] - 1s 38ms/step - loss: 1.5128 - accuracy: 0.3542 - val_loss: 1.4620 - val_accuracy: 0.3733\n",
      "Epoch 5/100\n",
      "38/38 [==============================] - 1s 37ms/step - loss: 1.4694 - accuracy: 0.3858 - val_loss: 1.4510 - val_accuracy: 0.4317\n",
      "Epoch 6/100\n",
      "38/38 [==============================] - 1s 34ms/step - loss: 1.4153 - accuracy: 0.4192 - val_loss: 1.3898 - val_accuracy: 0.4450\n",
      "Epoch 7/100\n",
      "38/38 [==============================] - 1s 35ms/step - loss: 1.4094 - accuracy: 0.4258 - val_loss: 1.3894 - val_accuracy: 0.4450\n",
      "Epoch 8/100\n",
      "38/38 [==============================] - 1s 36ms/step - loss: 1.3902 - accuracy: 0.4392 - val_loss: 1.3412 - val_accuracy: 0.4633\n",
      "Epoch 9/100\n",
      "38/38 [==============================] - 1s 38ms/step - loss: 1.3133 - accuracy: 0.4700 - val_loss: 1.4408 - val_accuracy: 0.4417\n",
      "Epoch 10/100\n",
      "38/38 [==============================] - 1s 38ms/step - loss: 1.2503 - accuracy: 0.4883 - val_loss: 1.2829 - val_accuracy: 0.5150\n",
      "Epoch 11/100\n",
      "38/38 [==============================] - 1s 39ms/step - loss: 1.2837 - accuracy: 0.5033 - val_loss: 1.1886 - val_accuracy: 0.5550\n",
      "Epoch 12/100\n",
      "38/38 [==============================] - 2s 40ms/step - loss: 1.1657 - accuracy: 0.5467 - val_loss: 1.1650 - val_accuracy: 0.5700\n",
      "Epoch 13/100\n",
      "38/38 [==============================] - 1s 35ms/step - loss: 1.1503 - accuracy: 0.5492 - val_loss: 1.0958 - val_accuracy: 0.5983\n",
      "Epoch 14/100\n",
      "38/38 [==============================] - 1s 37ms/step - loss: 1.0938 - accuracy: 0.5792 - val_loss: 1.1513 - val_accuracy: 0.5900\n",
      "Epoch 15/100\n",
      "38/38 [==============================] - 1s 36ms/step - loss: 1.1506 - accuracy: 0.5675 - val_loss: 1.0369 - val_accuracy: 0.6017\n",
      "Epoch 16/100\n",
      "38/38 [==============================] - 1s 37ms/step - loss: 1.0910 - accuracy: 0.5917 - val_loss: 1.0371 - val_accuracy: 0.6367\n",
      "Epoch 17/100\n",
      "38/38 [==============================] - 1s 38ms/step - loss: 1.0336 - accuracy: 0.6083 - val_loss: 1.0130 - val_accuracy: 0.6400\n",
      "Epoch 18/100\n",
      "38/38 [==============================] - 1s 37ms/step - loss: 1.0331 - accuracy: 0.6183 - val_loss: 0.9985 - val_accuracy: 0.6300\n",
      "Epoch 19/100\n",
      "38/38 [==============================] - 1s 37ms/step - loss: 1.0198 - accuracy: 0.6117 - val_loss: 0.9613 - val_accuracy: 0.6300\n",
      "Epoch 20/100\n",
      "38/38 [==============================] - 1s 36ms/step - loss: 0.9710 - accuracy: 0.6350 - val_loss: 0.9686 - val_accuracy: 0.6333\n",
      "Epoch 21/100\n",
      "38/38 [==============================] - 1s 35ms/step - loss: 0.9397 - accuracy: 0.6567 - val_loss: 0.9799 - val_accuracy: 0.6233\n",
      "Epoch 22/100\n",
      "38/38 [==============================] - 1s 36ms/step - loss: 0.9663 - accuracy: 0.6467 - val_loss: 0.9581 - val_accuracy: 0.6467\n",
      "Epoch 23/100\n",
      "38/38 [==============================] - 1s 37ms/step - loss: 0.9453 - accuracy: 0.6500 - val_loss: 0.9853 - val_accuracy: 0.6717\n",
      "Epoch 24/100\n",
      "38/38 [==============================] - 2s 40ms/step - loss: 0.9102 - accuracy: 0.6800 - val_loss: 0.9873 - val_accuracy: 0.6517\n",
      "Epoch 25/100\n",
      "38/38 [==============================] - 2s 47ms/step - loss: 0.9089 - accuracy: 0.6683 - val_loss: 1.0552 - val_accuracy: 0.6417\n",
      "Epoch 26/100\n",
      "38/38 [==============================] - 1s 38ms/step - loss: 0.9014 - accuracy: 0.6917 - val_loss: 0.9226 - val_accuracy: 0.6650\n",
      "Epoch 27/100\n",
      "38/38 [==============================] - 1s 37ms/step - loss: 0.9160 - accuracy: 0.6583 - val_loss: 0.8926 - val_accuracy: 0.6800\n",
      "Epoch 28/100\n",
      "38/38 [==============================] - 1s 37ms/step - loss: 0.8558 - accuracy: 0.6825 - val_loss: 0.9207 - val_accuracy: 0.6833\n",
      "Epoch 29/100\n",
      "38/38 [==============================] - 1s 37ms/step - loss: 0.8295 - accuracy: 0.6867 - val_loss: 0.9112 - val_accuracy: 0.6817\n",
      "Epoch 30/100\n",
      "38/38 [==============================] - 1s 36ms/step - loss: 0.8591 - accuracy: 0.6800 - val_loss: 1.0058 - val_accuracy: 0.6583\n",
      "Epoch 31/100\n",
      "38/38 [==============================] - 2s 41ms/step - loss: 0.8215 - accuracy: 0.7017 - val_loss: 0.9982 - val_accuracy: 0.6683\n",
      "Epoch 32/100\n",
      "38/38 [==============================] - 2s 40ms/step - loss: 0.8207 - accuracy: 0.7117 - val_loss: 0.9087 - val_accuracy: 0.6783\n",
      "Epoch 33/100\n",
      "38/38 [==============================] - 1s 37ms/step - loss: 0.8129 - accuracy: 0.7158 - val_loss: 0.9412 - val_accuracy: 0.6733\n",
      "Epoch 34/100\n",
      "38/38 [==============================] - 1s 38ms/step - loss: 0.7686 - accuracy: 0.7308 - val_loss: 0.8995 - val_accuracy: 0.6967\n",
      "Epoch 35/100\n",
      "38/38 [==============================] - 1s 36ms/step - loss: 0.8196 - accuracy: 0.6992 - val_loss: 0.9049 - val_accuracy: 0.6883\n",
      "Epoch 36/100\n",
      "38/38 [==============================] - 1s 36ms/step - loss: 0.7735 - accuracy: 0.7192 - val_loss: 0.9526 - val_accuracy: 0.6967\n",
      "Epoch 37/100\n",
      "38/38 [==============================] - 1s 37ms/step - loss: 0.7191 - accuracy: 0.7292 - val_loss: 0.8973 - val_accuracy: 0.6950\n",
      "Epoch 38/100\n",
      "38/38 [==============================] - 1s 37ms/step - loss: 0.7411 - accuracy: 0.7308 - val_loss: 0.9241 - val_accuracy: 0.6917\n",
      "Epoch 39/100\n",
      "38/38 [==============================] - 1s 34ms/step - loss: 0.7389 - accuracy: 0.7358 - val_loss: 0.9935 - val_accuracy: 0.7083\n",
      "Epoch 40/100\n",
      "38/38 [==============================] - 1s 38ms/step - loss: 0.7301 - accuracy: 0.7350 - val_loss: 0.9169 - val_accuracy: 0.7100\n",
      "Epoch 41/100\n",
      "38/38 [==============================] - 1s 37ms/step - loss: 0.7249 - accuracy: 0.7317 - val_loss: 0.9665 - val_accuracy: 0.6867\n",
      "Epoch 42/100\n",
      "38/38 [==============================] - 1s 37ms/step - loss: 0.7359 - accuracy: 0.7400 - val_loss: 0.8864 - val_accuracy: 0.7033\n",
      "Epoch 43/100\n",
      "38/38 [==============================] - 1s 36ms/step - loss: 0.7625 - accuracy: 0.7275 - val_loss: 0.9033 - val_accuracy: 0.6950\n",
      "Epoch 44/100\n",
      "38/38 [==============================] - 1s 35ms/step - loss: 0.7258 - accuracy: 0.7508 - val_loss: 0.9601 - val_accuracy: 0.6833\n",
      "Epoch 45/100\n",
      "38/38 [==============================] - 1s 37ms/step - loss: 0.7083 - accuracy: 0.7475 - val_loss: 0.8687 - val_accuracy: 0.7183\n",
      "Epoch 46/100\n",
      "38/38 [==============================] - 1s 38ms/step - loss: 0.7422 - accuracy: 0.7233 - val_loss: 0.8412 - val_accuracy: 0.7083\n",
      "Epoch 47/100\n",
      "38/38 [==============================] - 2s 42ms/step - loss: 0.7542 - accuracy: 0.7275 - val_loss: 0.9100 - val_accuracy: 0.6867\n",
      "Epoch 48/100\n",
      "38/38 [==============================] - 2s 40ms/step - loss: 0.7129 - accuracy: 0.7450 - val_loss: 0.9162 - val_accuracy: 0.6983\n",
      "Epoch 49/100\n",
      "38/38 [==============================] - 1s 38ms/step - loss: 0.6941 - accuracy: 0.7450 - val_loss: 0.9658 - val_accuracy: 0.6800\n",
      "Epoch 50/100\n",
      "38/38 [==============================] - 1s 36ms/step - loss: 0.6800 - accuracy: 0.7475 - val_loss: 0.8520 - val_accuracy: 0.7100\n",
      "Epoch 51/100\n",
      "38/38 [==============================] - 1s 37ms/step - loss: 0.6648 - accuracy: 0.7567 - val_loss: 0.9262 - val_accuracy: 0.7067\n",
      "Epoch 52/100\n",
      "38/38 [==============================] - 2s 41ms/step - loss: 0.7199 - accuracy: 0.7375 - val_loss: 0.8770 - val_accuracy: 0.7100\n",
      "Epoch 53/100\n",
      "38/38 [==============================] - 2s 44ms/step - loss: 0.6792 - accuracy: 0.7575 - val_loss: 0.9740 - val_accuracy: 0.6700\n",
      "Epoch 54/100\n",
      "38/38 [==============================] - 2s 43ms/step - loss: 0.6965 - accuracy: 0.7467 - val_loss: 0.9077 - val_accuracy: 0.7150\n",
      "Epoch 55/100\n",
      "38/38 [==============================] - 2s 40ms/step - loss: 0.6616 - accuracy: 0.7617 - val_loss: 0.8490 - val_accuracy: 0.7250\n",
      "Epoch 56/100\n",
      "38/38 [==============================] - 1s 37ms/step - loss: 0.6676 - accuracy: 0.7592 - val_loss: 0.8477 - val_accuracy: 0.7133\n",
      "Epoch 57/100\n",
      "38/38 [==============================] - 2s 40ms/step - loss: 0.6651 - accuracy: 0.7633 - val_loss: 0.8333 - val_accuracy: 0.7167\n",
      "Epoch 58/100\n",
      "38/38 [==============================] - 1s 38ms/step - loss: 0.6473 - accuracy: 0.7800 - val_loss: 0.8471 - val_accuracy: 0.7250\n",
      "Epoch 59/100\n",
      "38/38 [==============================] - 2s 41ms/step - loss: 0.6526 - accuracy: 0.7550 - val_loss: 0.8707 - val_accuracy: 0.7167\n",
      "Epoch 60/100\n",
      "38/38 [==============================] - 1s 38ms/step - loss: 0.6684 - accuracy: 0.7550 - val_loss: 0.8633 - val_accuracy: 0.7183\n",
      "Epoch 61/100\n",
      "38/38 [==============================] - 1s 38ms/step - loss: 0.6385 - accuracy: 0.7658 - val_loss: 0.9033 - val_accuracy: 0.7000\n",
      "Epoch 62/100\n",
      "38/38 [==============================] - 1s 36ms/step - loss: 0.6013 - accuracy: 0.7825 - val_loss: 0.8764 - val_accuracy: 0.7233\n",
      "Epoch 63/100\n",
      "38/38 [==============================] - 1s 35ms/step - loss: 0.6182 - accuracy: 0.7617 - val_loss: 0.8167 - val_accuracy: 0.7233\n",
      "Epoch 64/100\n",
      "38/38 [==============================] - 1s 38ms/step - loss: 0.6338 - accuracy: 0.7742 - val_loss: 0.8736 - val_accuracy: 0.7067\n",
      "Epoch 65/100\n",
      "38/38 [==============================] - 1s 38ms/step - loss: 0.5955 - accuracy: 0.7950 - val_loss: 0.9170 - val_accuracy: 0.6983\n",
      "Epoch 66/100\n",
      "38/38 [==============================] - 1s 36ms/step - loss: 0.6276 - accuracy: 0.7742 - val_loss: 1.0310 - val_accuracy: 0.6967\n",
      "Epoch 67/100\n",
      "38/38 [==============================] - 2s 40ms/step - loss: 0.6383 - accuracy: 0.7692 - val_loss: 0.8996 - val_accuracy: 0.7067\n",
      "Epoch 68/100\n",
      "38/38 [==============================] - 2s 41ms/step - loss: 0.5954 - accuracy: 0.7867 - val_loss: 0.8752 - val_accuracy: 0.7183\n",
      "Epoch 69/100\n",
      "38/38 [==============================] - 2s 43ms/step - loss: 0.6257 - accuracy: 0.7725 - val_loss: 0.8776 - val_accuracy: 0.7283\n",
      "Epoch 70/100\n",
      "38/38 [==============================] - 2s 41ms/step - loss: 0.5753 - accuracy: 0.7925 - val_loss: 0.9160 - val_accuracy: 0.7200\n",
      "Epoch 71/100\n",
      "38/38 [==============================] - 1s 38ms/step - loss: 0.6226 - accuracy: 0.7725 - val_loss: 0.8892 - val_accuracy: 0.7267\n",
      "Epoch 72/100\n",
      "38/38 [==============================] - 1s 34ms/step - loss: 0.5935 - accuracy: 0.7875 - val_loss: 0.8757 - val_accuracy: 0.7250\n",
      "Epoch 73/100\n",
      "38/38 [==============================] - 1s 39ms/step - loss: 0.5968 - accuracy: 0.7983 - val_loss: 0.8674 - val_accuracy: 0.7367\n",
      "Epoch 74/100\n",
      "38/38 [==============================] - 2s 40ms/step - loss: 0.6207 - accuracy: 0.7883 - val_loss: 0.9311 - val_accuracy: 0.7000\n",
      "Epoch 75/100\n",
      "38/38 [==============================] - 1s 39ms/step - loss: 0.6148 - accuracy: 0.7783 - val_loss: 0.8697 - val_accuracy: 0.7100\n",
      "Epoch 76/100\n",
      "38/38 [==============================] - 1s 33ms/step - loss: 0.5630 - accuracy: 0.7983 - val_loss: 0.8576 - val_accuracy: 0.7383\n",
      "Epoch 77/100\n",
      "38/38 [==============================] - 1s 36ms/step - loss: 0.5516 - accuracy: 0.7925 - val_loss: 0.8758 - val_accuracy: 0.7233\n",
      "Epoch 78/100\n",
      "38/38 [==============================] - 2s 40ms/step - loss: 0.5517 - accuracy: 0.8042 - val_loss: 0.8700 - val_accuracy: 0.7133\n"
     ]
    },
    {
     "data": {
      "text/plain": [
       "<tensorflow.python.keras.callbacks.History at 0x178ec4050>"
      ]
     },
     "execution_count": 624,
     "metadata": {},
     "output_type": "execute_result"
    }
   ],
   "source": [
    "callback = keras.callbacks.EarlyStopping(monitor='val_loss', patience=15, restore_best_weights=True)\n",
    "m.fit_generator(generator=train_generator,epochs=100, validation_data=(xValid /255, yValid), callbacks=[callback])\n"
   ]
  },
  {
   "cell_type": "code",
   "execution_count": 563,
   "metadata": {},
   "outputs": [
    {
     "name": "stdout",
     "output_type": "stream",
     "text": [
      "Epoch 1/100\n",
      "38/38 [==============================] - 2s 42ms/step - loss: 0.5486 - accuracy: 0.8092 - val_loss: 0.7434 - val_accuracy: 0.7967\n",
      "Epoch 2/100\n",
      "38/38 [==============================] - 1s 33ms/step - loss: 0.5189 - accuracy: 0.8058 - val_loss: 0.7437 - val_accuracy: 0.7967\n",
      "Epoch 3/100\n",
      "38/38 [==============================] - 2s 41ms/step - loss: 0.4819 - accuracy: 0.8192 - val_loss: 0.7436 - val_accuracy: 0.7967\n",
      "Epoch 4/100\n",
      "38/38 [==============================] - 2s 41ms/step - loss: 0.5141 - accuracy: 0.8125 - val_loss: 0.7441 - val_accuracy: 0.7967\n",
      "Epoch 5/100\n",
      "38/38 [==============================] - 2s 40ms/step - loss: 0.4834 - accuracy: 0.8267 - val_loss: 0.7445 - val_accuracy: 0.7967\n",
      "Epoch 6/100\n",
      "38/38 [==============================] - 2s 40ms/step - loss: 0.5031 - accuracy: 0.8258 - val_loss: 0.7449 - val_accuracy: 0.7983\n",
      "Epoch 7/100\n",
      "38/38 [==============================] - 1s 39ms/step - loss: 0.5409 - accuracy: 0.8100 - val_loss: 0.7448 - val_accuracy: 0.7950\n",
      "Epoch 8/100\n",
      "38/38 [==============================] - 2s 44ms/step - loss: 0.4928 - accuracy: 0.8325 - val_loss: 0.7449 - val_accuracy: 0.7950\n",
      "Epoch 9/100\n",
      "38/38 [==============================] - 2s 41ms/step - loss: 0.5268 - accuracy: 0.8158 - val_loss: 0.7447 - val_accuracy: 0.7950\n",
      "Epoch 10/100\n",
      " 3/38 [=>............................] - ETA: 0s - loss: 0.4635 - accuracy: 0.8438"
     ]
    },
    {
     "ename": "KeyboardInterrupt",
     "evalue": "",
     "output_type": "error",
     "traceback": [
      "\u001b[0;31m---------------------------------------------------------------------------\u001b[0m",
      "\u001b[0;31mKeyboardInterrupt\u001b[0m                         Traceback (most recent call last)",
      "\u001b[0;32m<ipython-input-563-5b23079930fa>\u001b[0m in \u001b[0;36m<module>\u001b[0;34m\u001b[0m\n\u001b[1;32m      1\u001b[0m \u001b[0mcallback\u001b[0m \u001b[0;34m=\u001b[0m \u001b[0mkeras\u001b[0m\u001b[0;34m.\u001b[0m\u001b[0mcallbacks\u001b[0m\u001b[0;34m.\u001b[0m\u001b[0mEarlyStopping\u001b[0m\u001b[0;34m(\u001b[0m\u001b[0mmonitor\u001b[0m\u001b[0;34m=\u001b[0m\u001b[0;34m'val_loss'\u001b[0m\u001b[0;34m,\u001b[0m \u001b[0mpatience\u001b[0m\u001b[0;34m=\u001b[0m\u001b[0;36m15\u001b[0m\u001b[0;34m,\u001b[0m \u001b[0mrestore_best_weights\u001b[0m\u001b[0;34m=\u001b[0m\u001b[0;32mTrue\u001b[0m\u001b[0;34m)\u001b[0m\u001b[0;34m\u001b[0m\u001b[0;34m\u001b[0m\u001b[0m\n\u001b[0;32m----> 2\u001b[0;31m \u001b[0mm\u001b[0m\u001b[0;34m.\u001b[0m\u001b[0mfit_generator\u001b[0m\u001b[0;34m(\u001b[0m\u001b[0mgenerator\u001b[0m\u001b[0;34m=\u001b[0m\u001b[0mtrain_generator\u001b[0m\u001b[0;34m,\u001b[0m\u001b[0mepochs\u001b[0m\u001b[0;34m=\u001b[0m\u001b[0;36m100\u001b[0m\u001b[0;34m,\u001b[0m \u001b[0mvalidation_data\u001b[0m\u001b[0;34m=\u001b[0m\u001b[0;34m(\u001b[0m\u001b[0mxValid\u001b[0m \u001b[0;34m/\u001b[0m\u001b[0;36m255\u001b[0m\u001b[0;34m,\u001b[0m \u001b[0myValid\u001b[0m\u001b[0;34m)\u001b[0m\u001b[0;34m,\u001b[0m \u001b[0mcallbacks\u001b[0m\u001b[0;34m=\u001b[0m\u001b[0;34m[\u001b[0m\u001b[0mcallback\u001b[0m\u001b[0;34m]\u001b[0m\u001b[0;34m)\u001b[0m\u001b[0;34m\u001b[0m\u001b[0;34m\u001b[0m\u001b[0m\n\u001b[0m",
      "\u001b[0;32m/usr/local/lib/python3.7/site-packages/tensorflow/python/util/deprecation.py\u001b[0m in \u001b[0;36mnew_func\u001b[0;34m(*args, **kwargs)\u001b[0m\n\u001b[1;32m    322\u001b[0m               \u001b[0;34m'in a future version'\u001b[0m \u001b[0;32mif\u001b[0m \u001b[0mdate\u001b[0m \u001b[0;32mis\u001b[0m \u001b[0;32mNone\u001b[0m \u001b[0;32melse\u001b[0m \u001b[0;34m(\u001b[0m\u001b[0;34m'after %s'\u001b[0m \u001b[0;34m%\u001b[0m \u001b[0mdate\u001b[0m\u001b[0;34m)\u001b[0m\u001b[0;34m,\u001b[0m\u001b[0;34m\u001b[0m\u001b[0;34m\u001b[0m\u001b[0m\n\u001b[1;32m    323\u001b[0m               instructions)\n\u001b[0;32m--> 324\u001b[0;31m       \u001b[0;32mreturn\u001b[0m \u001b[0mfunc\u001b[0m\u001b[0;34m(\u001b[0m\u001b[0;34m*\u001b[0m\u001b[0margs\u001b[0m\u001b[0;34m,\u001b[0m \u001b[0;34m**\u001b[0m\u001b[0mkwargs\u001b[0m\u001b[0;34m)\u001b[0m\u001b[0;34m\u001b[0m\u001b[0;34m\u001b[0m\u001b[0m\n\u001b[0m\u001b[1;32m    325\u001b[0m     return tf_decorator.make_decorator(\n\u001b[1;32m    326\u001b[0m         \u001b[0mfunc\u001b[0m\u001b[0;34m,\u001b[0m \u001b[0mnew_func\u001b[0m\u001b[0;34m,\u001b[0m \u001b[0;34m'deprecated'\u001b[0m\u001b[0;34m,\u001b[0m\u001b[0;34m\u001b[0m\u001b[0;34m\u001b[0m\u001b[0m\n",
      "\u001b[0;32m/usr/local/lib/python3.7/site-packages/tensorflow/python/keras/engine/training.py\u001b[0m in \u001b[0;36mfit_generator\u001b[0;34m(self, generator, steps_per_epoch, epochs, verbose, callbacks, validation_data, validation_steps, validation_freq, class_weight, max_queue_size, workers, use_multiprocessing, shuffle, initial_epoch)\u001b[0m\n\u001b[1;32m   1827\u001b[0m         \u001b[0muse_multiprocessing\u001b[0m\u001b[0;34m=\u001b[0m\u001b[0muse_multiprocessing\u001b[0m\u001b[0;34m,\u001b[0m\u001b[0;34m\u001b[0m\u001b[0;34m\u001b[0m\u001b[0m\n\u001b[1;32m   1828\u001b[0m         \u001b[0mshuffle\u001b[0m\u001b[0;34m=\u001b[0m\u001b[0mshuffle\u001b[0m\u001b[0;34m,\u001b[0m\u001b[0;34m\u001b[0m\u001b[0;34m\u001b[0m\u001b[0m\n\u001b[0;32m-> 1829\u001b[0;31m         initial_epoch=initial_epoch)\n\u001b[0m\u001b[1;32m   1830\u001b[0m \u001b[0;34m\u001b[0m\u001b[0m\n\u001b[1;32m   1831\u001b[0m   @deprecation.deprecated(\n",
      "\u001b[0;32m/usr/local/lib/python3.7/site-packages/tensorflow/python/keras/engine/training.py\u001b[0m in \u001b[0;36m_method_wrapper\u001b[0;34m(self, *args, **kwargs)\u001b[0m\n\u001b[1;32m    106\u001b[0m   \u001b[0;32mdef\u001b[0m \u001b[0m_method_wrapper\u001b[0m\u001b[0;34m(\u001b[0m\u001b[0mself\u001b[0m\u001b[0;34m,\u001b[0m \u001b[0;34m*\u001b[0m\u001b[0margs\u001b[0m\u001b[0;34m,\u001b[0m \u001b[0;34m**\u001b[0m\u001b[0mkwargs\u001b[0m\u001b[0;34m)\u001b[0m\u001b[0;34m:\u001b[0m\u001b[0;34m\u001b[0m\u001b[0;34m\u001b[0m\u001b[0m\n\u001b[1;32m    107\u001b[0m     \u001b[0;32mif\u001b[0m \u001b[0;32mnot\u001b[0m \u001b[0mself\u001b[0m\u001b[0;34m.\u001b[0m\u001b[0m_in_multi_worker_mode\u001b[0m\u001b[0;34m(\u001b[0m\u001b[0;34m)\u001b[0m\u001b[0;34m:\u001b[0m  \u001b[0;31m# pylint: disable=protected-access\u001b[0m\u001b[0;34m\u001b[0m\u001b[0;34m\u001b[0m\u001b[0m\n\u001b[0;32m--> 108\u001b[0;31m       \u001b[0;32mreturn\u001b[0m \u001b[0mmethod\u001b[0m\u001b[0;34m(\u001b[0m\u001b[0mself\u001b[0m\u001b[0;34m,\u001b[0m \u001b[0;34m*\u001b[0m\u001b[0margs\u001b[0m\u001b[0;34m,\u001b[0m \u001b[0;34m**\u001b[0m\u001b[0mkwargs\u001b[0m\u001b[0;34m)\u001b[0m\u001b[0;34m\u001b[0m\u001b[0;34m\u001b[0m\u001b[0m\n\u001b[0m\u001b[1;32m    109\u001b[0m \u001b[0;34m\u001b[0m\u001b[0m\n\u001b[1;32m    110\u001b[0m     \u001b[0;31m# Running inside `run_distribute_coordinator` already.\u001b[0m\u001b[0;34m\u001b[0m\u001b[0;34m\u001b[0m\u001b[0;34m\u001b[0m\u001b[0m\n",
      "\u001b[0;32m/usr/local/lib/python3.7/site-packages/tensorflow/python/keras/engine/training.py\u001b[0m in \u001b[0;36mfit\u001b[0;34m(self, x, y, batch_size, epochs, verbose, callbacks, validation_split, validation_data, shuffle, class_weight, sample_weight, initial_epoch, steps_per_epoch, validation_steps, validation_batch_size, validation_freq, max_queue_size, workers, use_multiprocessing)\u001b[0m\n\u001b[1;32m   1096\u001b[0m                 batch_size=batch_size):\n\u001b[1;32m   1097\u001b[0m               \u001b[0mcallbacks\u001b[0m\u001b[0;34m.\u001b[0m\u001b[0mon_train_batch_begin\u001b[0m\u001b[0;34m(\u001b[0m\u001b[0mstep\u001b[0m\u001b[0;34m)\u001b[0m\u001b[0;34m\u001b[0m\u001b[0;34m\u001b[0m\u001b[0m\n\u001b[0;32m-> 1098\u001b[0;31m               \u001b[0mtmp_logs\u001b[0m \u001b[0;34m=\u001b[0m \u001b[0mtrain_function\u001b[0m\u001b[0;34m(\u001b[0m\u001b[0miterator\u001b[0m\u001b[0;34m)\u001b[0m\u001b[0;34m\u001b[0m\u001b[0;34m\u001b[0m\u001b[0m\n\u001b[0m\u001b[1;32m   1099\u001b[0m               \u001b[0;32mif\u001b[0m \u001b[0mdata_handler\u001b[0m\u001b[0;34m.\u001b[0m\u001b[0mshould_sync\u001b[0m\u001b[0;34m:\u001b[0m\u001b[0;34m\u001b[0m\u001b[0;34m\u001b[0m\u001b[0m\n\u001b[1;32m   1100\u001b[0m                 \u001b[0mcontext\u001b[0m\u001b[0;34m.\u001b[0m\u001b[0masync_wait\u001b[0m\u001b[0;34m(\u001b[0m\u001b[0;34m)\u001b[0m\u001b[0;34m\u001b[0m\u001b[0;34m\u001b[0m\u001b[0m\n",
      "\u001b[0;32m/usr/local/lib/python3.7/site-packages/tensorflow/python/eager/def_function.py\u001b[0m in \u001b[0;36m__call__\u001b[0;34m(self, *args, **kwds)\u001b[0m\n\u001b[1;32m    778\u001b[0m       \u001b[0;32melse\u001b[0m\u001b[0;34m:\u001b[0m\u001b[0;34m\u001b[0m\u001b[0;34m\u001b[0m\u001b[0m\n\u001b[1;32m    779\u001b[0m         \u001b[0mcompiler\u001b[0m \u001b[0;34m=\u001b[0m \u001b[0;34m\"nonXla\"\u001b[0m\u001b[0;34m\u001b[0m\u001b[0;34m\u001b[0m\u001b[0m\n\u001b[0;32m--> 780\u001b[0;31m         \u001b[0mresult\u001b[0m \u001b[0;34m=\u001b[0m \u001b[0mself\u001b[0m\u001b[0;34m.\u001b[0m\u001b[0m_call\u001b[0m\u001b[0;34m(\u001b[0m\u001b[0;34m*\u001b[0m\u001b[0margs\u001b[0m\u001b[0;34m,\u001b[0m \u001b[0;34m**\u001b[0m\u001b[0mkwds\u001b[0m\u001b[0;34m)\u001b[0m\u001b[0;34m\u001b[0m\u001b[0;34m\u001b[0m\u001b[0m\n\u001b[0m\u001b[1;32m    781\u001b[0m \u001b[0;34m\u001b[0m\u001b[0m\n\u001b[1;32m    782\u001b[0m       \u001b[0mnew_tracing_count\u001b[0m \u001b[0;34m=\u001b[0m \u001b[0mself\u001b[0m\u001b[0;34m.\u001b[0m\u001b[0m_get_tracing_count\u001b[0m\u001b[0;34m(\u001b[0m\u001b[0;34m)\u001b[0m\u001b[0;34m\u001b[0m\u001b[0;34m\u001b[0m\u001b[0m\n",
      "\u001b[0;32m/usr/local/lib/python3.7/site-packages/tensorflow/python/eager/def_function.py\u001b[0m in \u001b[0;36m_call\u001b[0;34m(self, *args, **kwds)\u001b[0m\n\u001b[1;32m    805\u001b[0m       \u001b[0;31m# In this case we have created variables on the first call, so we run the\u001b[0m\u001b[0;34m\u001b[0m\u001b[0;34m\u001b[0m\u001b[0;34m\u001b[0m\u001b[0m\n\u001b[1;32m    806\u001b[0m       \u001b[0;31m# defunned version which is guaranteed to never create variables.\u001b[0m\u001b[0;34m\u001b[0m\u001b[0;34m\u001b[0m\u001b[0;34m\u001b[0m\u001b[0m\n\u001b[0;32m--> 807\u001b[0;31m       \u001b[0;32mreturn\u001b[0m \u001b[0mself\u001b[0m\u001b[0;34m.\u001b[0m\u001b[0m_stateless_fn\u001b[0m\u001b[0;34m(\u001b[0m\u001b[0;34m*\u001b[0m\u001b[0margs\u001b[0m\u001b[0;34m,\u001b[0m \u001b[0;34m**\u001b[0m\u001b[0mkwds\u001b[0m\u001b[0;34m)\u001b[0m  \u001b[0;31m# pylint: disable=not-callable\u001b[0m\u001b[0;34m\u001b[0m\u001b[0;34m\u001b[0m\u001b[0m\n\u001b[0m\u001b[1;32m    808\u001b[0m     \u001b[0;32melif\u001b[0m \u001b[0mself\u001b[0m\u001b[0;34m.\u001b[0m\u001b[0m_stateful_fn\u001b[0m \u001b[0;32mis\u001b[0m \u001b[0;32mnot\u001b[0m \u001b[0;32mNone\u001b[0m\u001b[0;34m:\u001b[0m\u001b[0;34m\u001b[0m\u001b[0;34m\u001b[0m\u001b[0m\n\u001b[1;32m    809\u001b[0m       \u001b[0;31m# Release the lock early so that multiple threads can perform the call\u001b[0m\u001b[0;34m\u001b[0m\u001b[0;34m\u001b[0m\u001b[0;34m\u001b[0m\u001b[0m\n",
      "\u001b[0;32m/usr/local/lib/python3.7/site-packages/tensorflow/python/eager/function.py\u001b[0m in \u001b[0;36m__call__\u001b[0;34m(self, *args, **kwargs)\u001b[0m\n\u001b[1;32m   2827\u001b[0m     \u001b[0;32mwith\u001b[0m \u001b[0mself\u001b[0m\u001b[0;34m.\u001b[0m\u001b[0m_lock\u001b[0m\u001b[0;34m:\u001b[0m\u001b[0;34m\u001b[0m\u001b[0;34m\u001b[0m\u001b[0m\n\u001b[1;32m   2828\u001b[0m       \u001b[0mgraph_function\u001b[0m\u001b[0;34m,\u001b[0m \u001b[0margs\u001b[0m\u001b[0;34m,\u001b[0m \u001b[0mkwargs\u001b[0m \u001b[0;34m=\u001b[0m \u001b[0mself\u001b[0m\u001b[0;34m.\u001b[0m\u001b[0m_maybe_define_function\u001b[0m\u001b[0;34m(\u001b[0m\u001b[0margs\u001b[0m\u001b[0;34m,\u001b[0m \u001b[0mkwargs\u001b[0m\u001b[0;34m)\u001b[0m\u001b[0;34m\u001b[0m\u001b[0;34m\u001b[0m\u001b[0m\n\u001b[0;32m-> 2829\u001b[0;31m     \u001b[0;32mreturn\u001b[0m \u001b[0mgraph_function\u001b[0m\u001b[0;34m.\u001b[0m\u001b[0m_filtered_call\u001b[0m\u001b[0;34m(\u001b[0m\u001b[0margs\u001b[0m\u001b[0;34m,\u001b[0m \u001b[0mkwargs\u001b[0m\u001b[0;34m)\u001b[0m  \u001b[0;31m# pylint: disable=protected-access\u001b[0m\u001b[0;34m\u001b[0m\u001b[0;34m\u001b[0m\u001b[0m\n\u001b[0m\u001b[1;32m   2830\u001b[0m \u001b[0;34m\u001b[0m\u001b[0m\n\u001b[1;32m   2831\u001b[0m   \u001b[0;34m@\u001b[0m\u001b[0mproperty\u001b[0m\u001b[0;34m\u001b[0m\u001b[0;34m\u001b[0m\u001b[0m\n",
      "\u001b[0;32m/usr/local/lib/python3.7/site-packages/tensorflow/python/eager/function.py\u001b[0m in \u001b[0;36m_filtered_call\u001b[0;34m(self, args, kwargs, cancellation_manager)\u001b[0m\n\u001b[1;32m   1846\u001b[0m                            resource_variable_ops.BaseResourceVariable))],\n\u001b[1;32m   1847\u001b[0m         \u001b[0mcaptured_inputs\u001b[0m\u001b[0;34m=\u001b[0m\u001b[0mself\u001b[0m\u001b[0;34m.\u001b[0m\u001b[0mcaptured_inputs\u001b[0m\u001b[0;34m,\u001b[0m\u001b[0;34m\u001b[0m\u001b[0;34m\u001b[0m\u001b[0m\n\u001b[0;32m-> 1848\u001b[0;31m         cancellation_manager=cancellation_manager)\n\u001b[0m\u001b[1;32m   1849\u001b[0m \u001b[0;34m\u001b[0m\u001b[0m\n\u001b[1;32m   1850\u001b[0m   \u001b[0;32mdef\u001b[0m \u001b[0m_call_flat\u001b[0m\u001b[0;34m(\u001b[0m\u001b[0mself\u001b[0m\u001b[0;34m,\u001b[0m \u001b[0margs\u001b[0m\u001b[0;34m,\u001b[0m \u001b[0mcaptured_inputs\u001b[0m\u001b[0;34m,\u001b[0m \u001b[0mcancellation_manager\u001b[0m\u001b[0;34m=\u001b[0m\u001b[0;32mNone\u001b[0m\u001b[0;34m)\u001b[0m\u001b[0;34m:\u001b[0m\u001b[0;34m\u001b[0m\u001b[0;34m\u001b[0m\u001b[0m\n",
      "\u001b[0;32m/usr/local/lib/python3.7/site-packages/tensorflow/python/eager/function.py\u001b[0m in \u001b[0;36m_call_flat\u001b[0;34m(self, args, captured_inputs, cancellation_manager)\u001b[0m\n\u001b[1;32m   1922\u001b[0m       \u001b[0;31m# No tape is watching; skip to running the function.\u001b[0m\u001b[0;34m\u001b[0m\u001b[0;34m\u001b[0m\u001b[0;34m\u001b[0m\u001b[0m\n\u001b[1;32m   1923\u001b[0m       return self._build_call_outputs(self._inference_function.call(\n\u001b[0;32m-> 1924\u001b[0;31m           ctx, args, cancellation_manager=cancellation_manager))\n\u001b[0m\u001b[1;32m   1925\u001b[0m     forward_backward = self._select_forward_and_backward_functions(\n\u001b[1;32m   1926\u001b[0m         \u001b[0margs\u001b[0m\u001b[0;34m,\u001b[0m\u001b[0;34m\u001b[0m\u001b[0;34m\u001b[0m\u001b[0m\n",
      "\u001b[0;32m/usr/local/lib/python3.7/site-packages/tensorflow/python/eager/function.py\u001b[0m in \u001b[0;36mcall\u001b[0;34m(self, ctx, args, cancellation_manager)\u001b[0m\n\u001b[1;32m    548\u001b[0m               \u001b[0minputs\u001b[0m\u001b[0;34m=\u001b[0m\u001b[0margs\u001b[0m\u001b[0;34m,\u001b[0m\u001b[0;34m\u001b[0m\u001b[0;34m\u001b[0m\u001b[0m\n\u001b[1;32m    549\u001b[0m               \u001b[0mattrs\u001b[0m\u001b[0;34m=\u001b[0m\u001b[0mattrs\u001b[0m\u001b[0;34m,\u001b[0m\u001b[0;34m\u001b[0m\u001b[0;34m\u001b[0m\u001b[0m\n\u001b[0;32m--> 550\u001b[0;31m               ctx=ctx)\n\u001b[0m\u001b[1;32m    551\u001b[0m         \u001b[0;32melse\u001b[0m\u001b[0;34m:\u001b[0m\u001b[0;34m\u001b[0m\u001b[0;34m\u001b[0m\u001b[0m\n\u001b[1;32m    552\u001b[0m           outputs = execute.execute_with_cancellation(\n",
      "\u001b[0;32m/usr/local/lib/python3.7/site-packages/tensorflow/python/eager/execute.py\u001b[0m in \u001b[0;36mquick_execute\u001b[0;34m(op_name, num_outputs, inputs, attrs, ctx, name)\u001b[0m\n\u001b[1;32m     58\u001b[0m     \u001b[0mctx\u001b[0m\u001b[0;34m.\u001b[0m\u001b[0mensure_initialized\u001b[0m\u001b[0;34m(\u001b[0m\u001b[0;34m)\u001b[0m\u001b[0;34m\u001b[0m\u001b[0;34m\u001b[0m\u001b[0m\n\u001b[1;32m     59\u001b[0m     tensors = pywrap_tfe.TFE_Py_Execute(ctx._handle, device_name, op_name,\n\u001b[0;32m---> 60\u001b[0;31m                                         inputs, attrs, num_outputs)\n\u001b[0m\u001b[1;32m     61\u001b[0m   \u001b[0;32mexcept\u001b[0m \u001b[0mcore\u001b[0m\u001b[0;34m.\u001b[0m\u001b[0m_NotOkStatusException\u001b[0m \u001b[0;32mas\u001b[0m \u001b[0me\u001b[0m\u001b[0;34m:\u001b[0m\u001b[0;34m\u001b[0m\u001b[0;34m\u001b[0m\u001b[0m\n\u001b[1;32m     62\u001b[0m     \u001b[0;32mif\u001b[0m \u001b[0mname\u001b[0m \u001b[0;32mis\u001b[0m \u001b[0;32mnot\u001b[0m \u001b[0;32mNone\u001b[0m\u001b[0;34m:\u001b[0m\u001b[0;34m\u001b[0m\u001b[0;34m\u001b[0m\u001b[0m\n",
      "\u001b[0;31mKeyboardInterrupt\u001b[0m: "
     ]
    }
   ],
   "source": [
    "callback = keras.callbacks.EarlyStopping(monitor='val_loss', patience=15, restore_best_weights=True)\n",
    "m.fit_generator(generator=train_generator,epochs=100, validation_data=(xValid /255, yValid), callbacks=[callback])\n"
   ]
  },
  {
   "cell_type": "code",
   "execution_count": 565,
   "metadata": {},
   "outputs": [
    {
     "name": "stdout",
     "output_type": "stream",
     "text": [
      "Epoch 1/100\n",
      "38/38 [==============================] - 3s 83ms/step - loss: 0.5813 - accuracy: 0.7992 - val_loss: 0.7052 - val_accuracy: 0.7817\n",
      "Epoch 2/100\n",
      "38/38 [==============================] - 3s 66ms/step - loss: 0.5238 - accuracy: 0.8050 - val_loss: 0.9033 - val_accuracy: 0.7617\n",
      "Epoch 3/100\n",
      "38/38 [==============================] - 3s 75ms/step - loss: 0.5812 - accuracy: 0.8033 - val_loss: 0.8731 - val_accuracy: 0.7633\n",
      "Epoch 4/100\n",
      "38/38 [==============================] - 3s 72ms/step - loss: 0.5326 - accuracy: 0.8058 - val_loss: 0.7914 - val_accuracy: 0.7850\n",
      "Epoch 5/100\n",
      "38/38 [==============================] - 3s 73ms/step - loss: 0.5536 - accuracy: 0.8000 - val_loss: 0.7891 - val_accuracy: 0.7683\n",
      "Epoch 6/100\n",
      "38/38 [==============================] - 3s 74ms/step - loss: 0.5305 - accuracy: 0.8150 - val_loss: 0.7104 - val_accuracy: 0.7800\n",
      "Epoch 7/100\n",
      "38/38 [==============================] - 3s 74ms/step - loss: 0.5152 - accuracy: 0.8133 - val_loss: 0.7752 - val_accuracy: 0.7867\n",
      "Epoch 8/100\n",
      "38/38 [==============================] - 3s 72ms/step - loss: 0.5197 - accuracy: 0.8183 - val_loss: 0.7379 - val_accuracy: 0.7950\n",
      "Epoch 9/100\n",
      "38/38 [==============================] - 3s 71ms/step - loss: 0.5646 - accuracy: 0.8092 - val_loss: 0.8160 - val_accuracy: 0.7733\n",
      "Epoch 10/100\n",
      "38/38 [==============================] - 3s 73ms/step - loss: 0.5536 - accuracy: 0.8008 - val_loss: 0.7101 - val_accuracy: 0.7917\n",
      "Epoch 11/100\n",
      "38/38 [==============================] - 3s 67ms/step - loss: 0.5521 - accuracy: 0.8008 - val_loss: 0.8061 - val_accuracy: 0.7733\n",
      "Epoch 12/100\n",
      "38/38 [==============================] - 3s 74ms/step - loss: 0.5121 - accuracy: 0.8125 - val_loss: 0.8224 - val_accuracy: 0.7650\n",
      "Epoch 13/100\n",
      "38/38 [==============================] - 3s 74ms/step - loss: 0.5468 - accuracy: 0.8033 - val_loss: 0.7180 - val_accuracy: 0.7883\n",
      "Epoch 14/100\n",
      "38/38 [==============================] - 3s 73ms/step - loss: 0.5272 - accuracy: 0.8125 - val_loss: 0.7159 - val_accuracy: 0.7817\n",
      "Epoch 15/100\n",
      "38/38 [==============================] - 3s 78ms/step - loss: 0.5277 - accuracy: 0.8133 - val_loss: 0.7321 - val_accuracy: 0.7883\n",
      "Epoch 16/100\n",
      "38/38 [==============================] - 3s 72ms/step - loss: 0.5288 - accuracy: 0.8017 - val_loss: 0.6794 - val_accuracy: 0.8017\n",
      "Epoch 17/100\n",
      "38/38 [==============================] - 3s 76ms/step - loss: 0.5470 - accuracy: 0.8100 - val_loss: 0.8035 - val_accuracy: 0.7750\n",
      "Epoch 18/100\n",
      "38/38 [==============================] - 3s 72ms/step - loss: 0.5092 - accuracy: 0.8167 - val_loss: 0.7163 - val_accuracy: 0.7883\n",
      "Epoch 19/100\n",
      "38/38 [==============================] - 3s 77ms/step - loss: 0.5045 - accuracy: 0.8267 - val_loss: 0.8245 - val_accuracy: 0.7700\n",
      "Epoch 20/100\n",
      "38/38 [==============================] - 3s 76ms/step - loss: 0.5051 - accuracy: 0.8175 - val_loss: 0.7745 - val_accuracy: 0.7950\n",
      "Epoch 21/100\n",
      "38/38 [==============================] - 3s 76ms/step - loss: 0.5337 - accuracy: 0.8150 - val_loss: 0.8527 - val_accuracy: 0.7750\n",
      "Epoch 22/100\n",
      "38/38 [==============================] - 3s 80ms/step - loss: 0.4676 - accuracy: 0.8300 - val_loss: 0.8004 - val_accuracy: 0.7783\n",
      "Epoch 23/100\n",
      "38/38 [==============================] - 3s 75ms/step - loss: 0.4889 - accuracy: 0.8167 - val_loss: 0.7726 - val_accuracy: 0.7900\n",
      "Epoch 24/100\n",
      "38/38 [==============================] - 3s 75ms/step - loss: 0.4596 - accuracy: 0.8333 - val_loss: 0.7963 - val_accuracy: 0.7783\n",
      "Epoch 25/100\n",
      "38/38 [==============================] - 3s 75ms/step - loss: 0.5004 - accuracy: 0.8267 - val_loss: 0.8433 - val_accuracy: 0.7767\n",
      "Epoch 26/100\n",
      "38/38 [==============================] - 3s 75ms/step - loss: 0.5009 - accuracy: 0.8225 - val_loss: 0.8645 - val_accuracy: 0.7667\n",
      "Epoch 27/100\n",
      "38/38 [==============================] - 3s 72ms/step - loss: 0.5193 - accuracy: 0.8175 - val_loss: 0.7546 - val_accuracy: 0.7767\n",
      "Epoch 28/100\n",
      "38/38 [==============================] - 3s 75ms/step - loss: 0.4956 - accuracy: 0.8183 - val_loss: 0.7458 - val_accuracy: 0.7850\n",
      "Epoch 29/100\n",
      "24/38 [=================>............] - ETA: 0s - loss: 0.5080 - accuracy: 0.8190"
     ]
    },
    {
     "ename": "KeyboardInterrupt",
     "evalue": "",
     "output_type": "error",
     "traceback": [
      "\u001b[0;31m---------------------------------------------------------------------------\u001b[0m",
      "\u001b[0;31mKeyboardInterrupt\u001b[0m                         Traceback (most recent call last)",
      "\u001b[0;32m<ipython-input-565-5b23079930fa>\u001b[0m in \u001b[0;36m<module>\u001b[0;34m\u001b[0m\n\u001b[1;32m      1\u001b[0m \u001b[0mcallback\u001b[0m \u001b[0;34m=\u001b[0m \u001b[0mkeras\u001b[0m\u001b[0;34m.\u001b[0m\u001b[0mcallbacks\u001b[0m\u001b[0;34m.\u001b[0m\u001b[0mEarlyStopping\u001b[0m\u001b[0;34m(\u001b[0m\u001b[0mmonitor\u001b[0m\u001b[0;34m=\u001b[0m\u001b[0;34m'val_loss'\u001b[0m\u001b[0;34m,\u001b[0m \u001b[0mpatience\u001b[0m\u001b[0;34m=\u001b[0m\u001b[0;36m15\u001b[0m\u001b[0;34m,\u001b[0m \u001b[0mrestore_best_weights\u001b[0m\u001b[0;34m=\u001b[0m\u001b[0;32mTrue\u001b[0m\u001b[0;34m)\u001b[0m\u001b[0;34m\u001b[0m\u001b[0;34m\u001b[0m\u001b[0m\n\u001b[0;32m----> 2\u001b[0;31m \u001b[0mm\u001b[0m\u001b[0;34m.\u001b[0m\u001b[0mfit_generator\u001b[0m\u001b[0;34m(\u001b[0m\u001b[0mgenerator\u001b[0m\u001b[0;34m=\u001b[0m\u001b[0mtrain_generator\u001b[0m\u001b[0;34m,\u001b[0m\u001b[0mepochs\u001b[0m\u001b[0;34m=\u001b[0m\u001b[0;36m100\u001b[0m\u001b[0;34m,\u001b[0m \u001b[0mvalidation_data\u001b[0m\u001b[0;34m=\u001b[0m\u001b[0;34m(\u001b[0m\u001b[0mxValid\u001b[0m \u001b[0;34m/\u001b[0m\u001b[0;36m255\u001b[0m\u001b[0;34m,\u001b[0m \u001b[0myValid\u001b[0m\u001b[0;34m)\u001b[0m\u001b[0;34m,\u001b[0m \u001b[0mcallbacks\u001b[0m\u001b[0;34m=\u001b[0m\u001b[0;34m[\u001b[0m\u001b[0mcallback\u001b[0m\u001b[0;34m]\u001b[0m\u001b[0;34m)\u001b[0m\u001b[0;34m\u001b[0m\u001b[0;34m\u001b[0m\u001b[0m\n\u001b[0m",
      "\u001b[0;32m/usr/local/lib/python3.7/site-packages/tensorflow/python/util/deprecation.py\u001b[0m in \u001b[0;36mnew_func\u001b[0;34m(*args, **kwargs)\u001b[0m\n\u001b[1;32m    322\u001b[0m               \u001b[0;34m'in a future version'\u001b[0m \u001b[0;32mif\u001b[0m \u001b[0mdate\u001b[0m \u001b[0;32mis\u001b[0m \u001b[0;32mNone\u001b[0m \u001b[0;32melse\u001b[0m \u001b[0;34m(\u001b[0m\u001b[0;34m'after %s'\u001b[0m \u001b[0;34m%\u001b[0m \u001b[0mdate\u001b[0m\u001b[0;34m)\u001b[0m\u001b[0;34m,\u001b[0m\u001b[0;34m\u001b[0m\u001b[0;34m\u001b[0m\u001b[0m\n\u001b[1;32m    323\u001b[0m               instructions)\n\u001b[0;32m--> 324\u001b[0;31m       \u001b[0;32mreturn\u001b[0m \u001b[0mfunc\u001b[0m\u001b[0;34m(\u001b[0m\u001b[0;34m*\u001b[0m\u001b[0margs\u001b[0m\u001b[0;34m,\u001b[0m \u001b[0;34m**\u001b[0m\u001b[0mkwargs\u001b[0m\u001b[0;34m)\u001b[0m\u001b[0;34m\u001b[0m\u001b[0;34m\u001b[0m\u001b[0m\n\u001b[0m\u001b[1;32m    325\u001b[0m     return tf_decorator.make_decorator(\n\u001b[1;32m    326\u001b[0m         \u001b[0mfunc\u001b[0m\u001b[0;34m,\u001b[0m \u001b[0mnew_func\u001b[0m\u001b[0;34m,\u001b[0m \u001b[0;34m'deprecated'\u001b[0m\u001b[0;34m,\u001b[0m\u001b[0;34m\u001b[0m\u001b[0;34m\u001b[0m\u001b[0m\n",
      "\u001b[0;32m/usr/local/lib/python3.7/site-packages/tensorflow/python/keras/engine/training.py\u001b[0m in \u001b[0;36mfit_generator\u001b[0;34m(self, generator, steps_per_epoch, epochs, verbose, callbacks, validation_data, validation_steps, validation_freq, class_weight, max_queue_size, workers, use_multiprocessing, shuffle, initial_epoch)\u001b[0m\n\u001b[1;32m   1827\u001b[0m         \u001b[0muse_multiprocessing\u001b[0m\u001b[0;34m=\u001b[0m\u001b[0muse_multiprocessing\u001b[0m\u001b[0;34m,\u001b[0m\u001b[0;34m\u001b[0m\u001b[0;34m\u001b[0m\u001b[0m\n\u001b[1;32m   1828\u001b[0m         \u001b[0mshuffle\u001b[0m\u001b[0;34m=\u001b[0m\u001b[0mshuffle\u001b[0m\u001b[0;34m,\u001b[0m\u001b[0;34m\u001b[0m\u001b[0;34m\u001b[0m\u001b[0m\n\u001b[0;32m-> 1829\u001b[0;31m         initial_epoch=initial_epoch)\n\u001b[0m\u001b[1;32m   1830\u001b[0m \u001b[0;34m\u001b[0m\u001b[0m\n\u001b[1;32m   1831\u001b[0m   @deprecation.deprecated(\n",
      "\u001b[0;32m/usr/local/lib/python3.7/site-packages/tensorflow/python/keras/engine/training.py\u001b[0m in \u001b[0;36m_method_wrapper\u001b[0;34m(self, *args, **kwargs)\u001b[0m\n\u001b[1;32m    106\u001b[0m   \u001b[0;32mdef\u001b[0m \u001b[0m_method_wrapper\u001b[0m\u001b[0;34m(\u001b[0m\u001b[0mself\u001b[0m\u001b[0;34m,\u001b[0m \u001b[0;34m*\u001b[0m\u001b[0margs\u001b[0m\u001b[0;34m,\u001b[0m \u001b[0;34m**\u001b[0m\u001b[0mkwargs\u001b[0m\u001b[0;34m)\u001b[0m\u001b[0;34m:\u001b[0m\u001b[0;34m\u001b[0m\u001b[0;34m\u001b[0m\u001b[0m\n\u001b[1;32m    107\u001b[0m     \u001b[0;32mif\u001b[0m \u001b[0;32mnot\u001b[0m \u001b[0mself\u001b[0m\u001b[0;34m.\u001b[0m\u001b[0m_in_multi_worker_mode\u001b[0m\u001b[0;34m(\u001b[0m\u001b[0;34m)\u001b[0m\u001b[0;34m:\u001b[0m  \u001b[0;31m# pylint: disable=protected-access\u001b[0m\u001b[0;34m\u001b[0m\u001b[0;34m\u001b[0m\u001b[0m\n\u001b[0;32m--> 108\u001b[0;31m       \u001b[0;32mreturn\u001b[0m \u001b[0mmethod\u001b[0m\u001b[0;34m(\u001b[0m\u001b[0mself\u001b[0m\u001b[0;34m,\u001b[0m \u001b[0;34m*\u001b[0m\u001b[0margs\u001b[0m\u001b[0;34m,\u001b[0m \u001b[0;34m**\u001b[0m\u001b[0mkwargs\u001b[0m\u001b[0;34m)\u001b[0m\u001b[0;34m\u001b[0m\u001b[0;34m\u001b[0m\u001b[0m\n\u001b[0m\u001b[1;32m    109\u001b[0m \u001b[0;34m\u001b[0m\u001b[0m\n\u001b[1;32m    110\u001b[0m     \u001b[0;31m# Running inside `run_distribute_coordinator` already.\u001b[0m\u001b[0;34m\u001b[0m\u001b[0;34m\u001b[0m\u001b[0;34m\u001b[0m\u001b[0m\n",
      "\u001b[0;32m/usr/local/lib/python3.7/site-packages/tensorflow/python/keras/engine/training.py\u001b[0m in \u001b[0;36mfit\u001b[0;34m(self, x, y, batch_size, epochs, verbose, callbacks, validation_split, validation_data, shuffle, class_weight, sample_weight, initial_epoch, steps_per_epoch, validation_steps, validation_batch_size, validation_freq, max_queue_size, workers, use_multiprocessing)\u001b[0m\n\u001b[1;32m   1096\u001b[0m                 batch_size=batch_size):\n\u001b[1;32m   1097\u001b[0m               \u001b[0mcallbacks\u001b[0m\u001b[0;34m.\u001b[0m\u001b[0mon_train_batch_begin\u001b[0m\u001b[0;34m(\u001b[0m\u001b[0mstep\u001b[0m\u001b[0;34m)\u001b[0m\u001b[0;34m\u001b[0m\u001b[0;34m\u001b[0m\u001b[0m\n\u001b[0;32m-> 1098\u001b[0;31m               \u001b[0mtmp_logs\u001b[0m \u001b[0;34m=\u001b[0m \u001b[0mtrain_function\u001b[0m\u001b[0;34m(\u001b[0m\u001b[0miterator\u001b[0m\u001b[0;34m)\u001b[0m\u001b[0;34m\u001b[0m\u001b[0;34m\u001b[0m\u001b[0m\n\u001b[0m\u001b[1;32m   1099\u001b[0m               \u001b[0;32mif\u001b[0m \u001b[0mdata_handler\u001b[0m\u001b[0;34m.\u001b[0m\u001b[0mshould_sync\u001b[0m\u001b[0;34m:\u001b[0m\u001b[0;34m\u001b[0m\u001b[0;34m\u001b[0m\u001b[0m\n\u001b[1;32m   1100\u001b[0m                 \u001b[0mcontext\u001b[0m\u001b[0;34m.\u001b[0m\u001b[0masync_wait\u001b[0m\u001b[0;34m(\u001b[0m\u001b[0;34m)\u001b[0m\u001b[0;34m\u001b[0m\u001b[0;34m\u001b[0m\u001b[0m\n",
      "\u001b[0;32m/usr/local/lib/python3.7/site-packages/tensorflow/python/eager/def_function.py\u001b[0m in \u001b[0;36m__call__\u001b[0;34m(self, *args, **kwds)\u001b[0m\n\u001b[1;32m    778\u001b[0m       \u001b[0;32melse\u001b[0m\u001b[0;34m:\u001b[0m\u001b[0;34m\u001b[0m\u001b[0;34m\u001b[0m\u001b[0m\n\u001b[1;32m    779\u001b[0m         \u001b[0mcompiler\u001b[0m \u001b[0;34m=\u001b[0m \u001b[0;34m\"nonXla\"\u001b[0m\u001b[0;34m\u001b[0m\u001b[0;34m\u001b[0m\u001b[0m\n\u001b[0;32m--> 780\u001b[0;31m         \u001b[0mresult\u001b[0m \u001b[0;34m=\u001b[0m \u001b[0mself\u001b[0m\u001b[0;34m.\u001b[0m\u001b[0m_call\u001b[0m\u001b[0;34m(\u001b[0m\u001b[0;34m*\u001b[0m\u001b[0margs\u001b[0m\u001b[0;34m,\u001b[0m \u001b[0;34m**\u001b[0m\u001b[0mkwds\u001b[0m\u001b[0;34m)\u001b[0m\u001b[0;34m\u001b[0m\u001b[0;34m\u001b[0m\u001b[0m\n\u001b[0m\u001b[1;32m    781\u001b[0m \u001b[0;34m\u001b[0m\u001b[0m\n\u001b[1;32m    782\u001b[0m       \u001b[0mnew_tracing_count\u001b[0m \u001b[0;34m=\u001b[0m \u001b[0mself\u001b[0m\u001b[0;34m.\u001b[0m\u001b[0m_get_tracing_count\u001b[0m\u001b[0;34m(\u001b[0m\u001b[0;34m)\u001b[0m\u001b[0;34m\u001b[0m\u001b[0;34m\u001b[0m\u001b[0m\n",
      "\u001b[0;32m/usr/local/lib/python3.7/site-packages/tensorflow/python/eager/def_function.py\u001b[0m in \u001b[0;36m_call\u001b[0;34m(self, *args, **kwds)\u001b[0m\n\u001b[1;32m    805\u001b[0m       \u001b[0;31m# In this case we have created variables on the first call, so we run the\u001b[0m\u001b[0;34m\u001b[0m\u001b[0;34m\u001b[0m\u001b[0;34m\u001b[0m\u001b[0m\n\u001b[1;32m    806\u001b[0m       \u001b[0;31m# defunned version which is guaranteed to never create variables.\u001b[0m\u001b[0;34m\u001b[0m\u001b[0;34m\u001b[0m\u001b[0;34m\u001b[0m\u001b[0m\n\u001b[0;32m--> 807\u001b[0;31m       \u001b[0;32mreturn\u001b[0m \u001b[0mself\u001b[0m\u001b[0;34m.\u001b[0m\u001b[0m_stateless_fn\u001b[0m\u001b[0;34m(\u001b[0m\u001b[0;34m*\u001b[0m\u001b[0margs\u001b[0m\u001b[0;34m,\u001b[0m \u001b[0;34m**\u001b[0m\u001b[0mkwds\u001b[0m\u001b[0;34m)\u001b[0m  \u001b[0;31m# pylint: disable=not-callable\u001b[0m\u001b[0;34m\u001b[0m\u001b[0;34m\u001b[0m\u001b[0m\n\u001b[0m\u001b[1;32m    808\u001b[0m     \u001b[0;32melif\u001b[0m \u001b[0mself\u001b[0m\u001b[0;34m.\u001b[0m\u001b[0m_stateful_fn\u001b[0m \u001b[0;32mis\u001b[0m \u001b[0;32mnot\u001b[0m \u001b[0;32mNone\u001b[0m\u001b[0;34m:\u001b[0m\u001b[0;34m\u001b[0m\u001b[0;34m\u001b[0m\u001b[0m\n\u001b[1;32m    809\u001b[0m       \u001b[0;31m# Release the lock early so that multiple threads can perform the call\u001b[0m\u001b[0;34m\u001b[0m\u001b[0;34m\u001b[0m\u001b[0;34m\u001b[0m\u001b[0m\n",
      "\u001b[0;32m/usr/local/lib/python3.7/site-packages/tensorflow/python/eager/function.py\u001b[0m in \u001b[0;36m__call__\u001b[0;34m(self, *args, **kwargs)\u001b[0m\n\u001b[1;32m   2827\u001b[0m     \u001b[0;32mwith\u001b[0m \u001b[0mself\u001b[0m\u001b[0;34m.\u001b[0m\u001b[0m_lock\u001b[0m\u001b[0;34m:\u001b[0m\u001b[0;34m\u001b[0m\u001b[0;34m\u001b[0m\u001b[0m\n\u001b[1;32m   2828\u001b[0m       \u001b[0mgraph_function\u001b[0m\u001b[0;34m,\u001b[0m \u001b[0margs\u001b[0m\u001b[0;34m,\u001b[0m \u001b[0mkwargs\u001b[0m \u001b[0;34m=\u001b[0m \u001b[0mself\u001b[0m\u001b[0;34m.\u001b[0m\u001b[0m_maybe_define_function\u001b[0m\u001b[0;34m(\u001b[0m\u001b[0margs\u001b[0m\u001b[0;34m,\u001b[0m \u001b[0mkwargs\u001b[0m\u001b[0;34m)\u001b[0m\u001b[0;34m\u001b[0m\u001b[0;34m\u001b[0m\u001b[0m\n\u001b[0;32m-> 2829\u001b[0;31m     \u001b[0;32mreturn\u001b[0m \u001b[0mgraph_function\u001b[0m\u001b[0;34m.\u001b[0m\u001b[0m_filtered_call\u001b[0m\u001b[0;34m(\u001b[0m\u001b[0margs\u001b[0m\u001b[0;34m,\u001b[0m \u001b[0mkwargs\u001b[0m\u001b[0;34m)\u001b[0m  \u001b[0;31m# pylint: disable=protected-access\u001b[0m\u001b[0;34m\u001b[0m\u001b[0;34m\u001b[0m\u001b[0m\n\u001b[0m\u001b[1;32m   2830\u001b[0m \u001b[0;34m\u001b[0m\u001b[0m\n\u001b[1;32m   2831\u001b[0m   \u001b[0;34m@\u001b[0m\u001b[0mproperty\u001b[0m\u001b[0;34m\u001b[0m\u001b[0;34m\u001b[0m\u001b[0m\n",
      "\u001b[0;32m/usr/local/lib/python3.7/site-packages/tensorflow/python/eager/function.py\u001b[0m in \u001b[0;36m_filtered_call\u001b[0;34m(self, args, kwargs, cancellation_manager)\u001b[0m\n\u001b[1;32m   1846\u001b[0m                            resource_variable_ops.BaseResourceVariable))],\n\u001b[1;32m   1847\u001b[0m         \u001b[0mcaptured_inputs\u001b[0m\u001b[0;34m=\u001b[0m\u001b[0mself\u001b[0m\u001b[0;34m.\u001b[0m\u001b[0mcaptured_inputs\u001b[0m\u001b[0;34m,\u001b[0m\u001b[0;34m\u001b[0m\u001b[0;34m\u001b[0m\u001b[0m\n\u001b[0;32m-> 1848\u001b[0;31m         cancellation_manager=cancellation_manager)\n\u001b[0m\u001b[1;32m   1849\u001b[0m \u001b[0;34m\u001b[0m\u001b[0m\n\u001b[1;32m   1850\u001b[0m   \u001b[0;32mdef\u001b[0m \u001b[0m_call_flat\u001b[0m\u001b[0;34m(\u001b[0m\u001b[0mself\u001b[0m\u001b[0;34m,\u001b[0m \u001b[0margs\u001b[0m\u001b[0;34m,\u001b[0m \u001b[0mcaptured_inputs\u001b[0m\u001b[0;34m,\u001b[0m \u001b[0mcancellation_manager\u001b[0m\u001b[0;34m=\u001b[0m\u001b[0;32mNone\u001b[0m\u001b[0;34m)\u001b[0m\u001b[0;34m:\u001b[0m\u001b[0;34m\u001b[0m\u001b[0;34m\u001b[0m\u001b[0m\n",
      "\u001b[0;32m/usr/local/lib/python3.7/site-packages/tensorflow/python/eager/function.py\u001b[0m in \u001b[0;36m_call_flat\u001b[0;34m(self, args, captured_inputs, cancellation_manager)\u001b[0m\n\u001b[1;32m   1922\u001b[0m       \u001b[0;31m# No tape is watching; skip to running the function.\u001b[0m\u001b[0;34m\u001b[0m\u001b[0;34m\u001b[0m\u001b[0;34m\u001b[0m\u001b[0m\n\u001b[1;32m   1923\u001b[0m       return self._build_call_outputs(self._inference_function.call(\n\u001b[0;32m-> 1924\u001b[0;31m           ctx, args, cancellation_manager=cancellation_manager))\n\u001b[0m\u001b[1;32m   1925\u001b[0m     forward_backward = self._select_forward_and_backward_functions(\n\u001b[1;32m   1926\u001b[0m         \u001b[0margs\u001b[0m\u001b[0;34m,\u001b[0m\u001b[0;34m\u001b[0m\u001b[0;34m\u001b[0m\u001b[0m\n",
      "\u001b[0;32m/usr/local/lib/python3.7/site-packages/tensorflow/python/eager/function.py\u001b[0m in \u001b[0;36mcall\u001b[0;34m(self, ctx, args, cancellation_manager)\u001b[0m\n\u001b[1;32m    548\u001b[0m               \u001b[0minputs\u001b[0m\u001b[0;34m=\u001b[0m\u001b[0margs\u001b[0m\u001b[0;34m,\u001b[0m\u001b[0;34m\u001b[0m\u001b[0;34m\u001b[0m\u001b[0m\n\u001b[1;32m    549\u001b[0m               \u001b[0mattrs\u001b[0m\u001b[0;34m=\u001b[0m\u001b[0mattrs\u001b[0m\u001b[0;34m,\u001b[0m\u001b[0;34m\u001b[0m\u001b[0;34m\u001b[0m\u001b[0m\n\u001b[0;32m--> 550\u001b[0;31m               ctx=ctx)\n\u001b[0m\u001b[1;32m    551\u001b[0m         \u001b[0;32melse\u001b[0m\u001b[0;34m:\u001b[0m\u001b[0;34m\u001b[0m\u001b[0;34m\u001b[0m\u001b[0m\n\u001b[1;32m    552\u001b[0m           outputs = execute.execute_with_cancellation(\n",
      "\u001b[0;32m/usr/local/lib/python3.7/site-packages/tensorflow/python/eager/execute.py\u001b[0m in \u001b[0;36mquick_execute\u001b[0;34m(op_name, num_outputs, inputs, attrs, ctx, name)\u001b[0m\n\u001b[1;32m     58\u001b[0m     \u001b[0mctx\u001b[0m\u001b[0;34m.\u001b[0m\u001b[0mensure_initialized\u001b[0m\u001b[0;34m(\u001b[0m\u001b[0;34m)\u001b[0m\u001b[0;34m\u001b[0m\u001b[0;34m\u001b[0m\u001b[0m\n\u001b[1;32m     59\u001b[0m     tensors = pywrap_tfe.TFE_Py_Execute(ctx._handle, device_name, op_name,\n\u001b[0;32m---> 60\u001b[0;31m                                         inputs, attrs, num_outputs)\n\u001b[0m\u001b[1;32m     61\u001b[0m   \u001b[0;32mexcept\u001b[0m \u001b[0mcore\u001b[0m\u001b[0;34m.\u001b[0m\u001b[0m_NotOkStatusException\u001b[0m \u001b[0;32mas\u001b[0m \u001b[0me\u001b[0m\u001b[0;34m:\u001b[0m\u001b[0;34m\u001b[0m\u001b[0;34m\u001b[0m\u001b[0m\n\u001b[1;32m     62\u001b[0m     \u001b[0;32mif\u001b[0m \u001b[0mname\u001b[0m \u001b[0;32mis\u001b[0m \u001b[0;32mnot\u001b[0m \u001b[0;32mNone\u001b[0m\u001b[0;34m:\u001b[0m\u001b[0;34m\u001b[0m\u001b[0;34m\u001b[0m\u001b[0m\n",
      "\u001b[0;31mKeyboardInterrupt\u001b[0m: "
     ]
    }
   ],
   "source": [
    "callback = keras.callbacks.EarlyStopping(monitor='val_loss', patience=15, restore_best_weights=True)\n",
    "m.fit_generator(generator=train_generator,epochs=100, validation_data=(xValid /255, yValid), callbacks=[callback])\n"
   ]
  },
  {
   "cell_type": "code",
   "execution_count": 564,
   "metadata": {},
   "outputs": [],
   "source": [
    "m.compile(loss='categorical_crossentropy', optimizer='adam', metrics=['accuracy'])"
   ]
  },
  {
   "cell_type": "code",
   "execution_count": 546,
   "metadata": {},
   "outputs": [],
   "source": [
    "m.compile(optimizer=keras.optimizers.Adam(1e-5), loss='categorical_crossentropy', metrics=['accuracy'])"
   ]
  },
  {
   "cell_type": "code",
   "execution_count": 561,
   "metadata": {},
   "outputs": [
    {
     "name": "stdout",
     "output_type": "stream",
     "text": [
      "Epoch 1/100\n",
      "38/38 [==============================] - 2s 40ms/step - loss: 0.5116 - accuracy: 0.8092 - val_loss: 0.7589 - val_accuracy: 0.7900\n",
      "Epoch 2/100\n",
      "38/38 [==============================] - 1s 35ms/step - loss: 0.5315 - accuracy: 0.8108 - val_loss: 0.7586 - val_accuracy: 0.7917\n",
      "Epoch 3/100\n",
      "38/38 [==============================] - 2s 40ms/step - loss: 0.5319 - accuracy: 0.7992 - val_loss: 0.7581 - val_accuracy: 0.7900\n",
      "Epoch 4/100\n",
      "38/38 [==============================] - 1s 37ms/step - loss: 0.5352 - accuracy: 0.8108 - val_loss: 0.7575 - val_accuracy: 0.7883\n",
      "Epoch 5/100\n",
      "38/38 [==============================] - 1s 39ms/step - loss: 0.5630 - accuracy: 0.8117 - val_loss: 0.7569 - val_accuracy: 0.7900\n",
      "Epoch 6/100\n",
      "38/38 [==============================] - 1s 37ms/step - loss: 0.5275 - accuracy: 0.8058 - val_loss: 0.7563 - val_accuracy: 0.7900\n",
      "Epoch 7/100\n",
      "38/38 [==============================] - 1s 38ms/step - loss: 0.5299 - accuracy: 0.8117 - val_loss: 0.7555 - val_accuracy: 0.7900\n",
      "Epoch 8/100\n",
      "38/38 [==============================] - 1s 38ms/step - loss: 0.5423 - accuracy: 0.8083 - val_loss: 0.7548 - val_accuracy: 0.7900\n",
      "Epoch 9/100\n",
      "38/38 [==============================] - 2s 41ms/step - loss: 0.5352 - accuracy: 0.8067 - val_loss: 0.7549 - val_accuracy: 0.7900\n",
      "Epoch 10/100\n",
      "38/38 [==============================] - 2s 40ms/step - loss: 0.5113 - accuracy: 0.8233 - val_loss: 0.7551 - val_accuracy: 0.7917\n",
      "Epoch 11/100\n",
      "38/38 [==============================] - 1s 38ms/step - loss: 0.5184 - accuracy: 0.8242 - val_loss: 0.7545 - val_accuracy: 0.7917\n",
      "Epoch 12/100\n",
      "38/38 [==============================] - 1s 39ms/step - loss: 0.5312 - accuracy: 0.8050 - val_loss: 0.7547 - val_accuracy: 0.7917\n",
      "Epoch 13/100\n",
      "38/38 [==============================] - 2s 41ms/step - loss: 0.5602 - accuracy: 0.7950 - val_loss: 0.7541 - val_accuracy: 0.7917\n",
      "Epoch 14/100\n",
      "38/38 [==============================] - 1s 39ms/step - loss: 0.5235 - accuracy: 0.7983 - val_loss: 0.7535 - val_accuracy: 0.7917\n",
      "Epoch 15/100\n",
      "38/38 [==============================] - 1s 38ms/step - loss: 0.5319 - accuracy: 0.8175 - val_loss: 0.7533 - val_accuracy: 0.7883\n",
      "Epoch 16/100\n",
      "38/38 [==============================] - 2s 40ms/step - loss: 0.5150 - accuracy: 0.8083 - val_loss: 0.7530 - val_accuracy: 0.7900\n",
      "Epoch 17/100\n",
      "38/38 [==============================] - 2s 39ms/step - loss: 0.5200 - accuracy: 0.8075 - val_loss: 0.7529 - val_accuracy: 0.7917\n",
      "Epoch 18/100\n",
      "38/38 [==============================] - 1s 39ms/step - loss: 0.5220 - accuracy: 0.8017 - val_loss: 0.7531 - val_accuracy: 0.7950\n",
      "Epoch 19/100\n",
      "38/38 [==============================] - 2s 41ms/step - loss: 0.5043 - accuracy: 0.8125 - val_loss: 0.7529 - val_accuracy: 0.7933\n",
      "Epoch 20/100\n",
      "38/38 [==============================] - 1s 39ms/step - loss: 0.5328 - accuracy: 0.8183 - val_loss: 0.7528 - val_accuracy: 0.7933\n",
      "Epoch 21/100\n",
      "38/38 [==============================] - 2s 40ms/step - loss: 0.4801 - accuracy: 0.8250 - val_loss: 0.7532 - val_accuracy: 0.7933\n",
      "Epoch 22/100\n",
      "38/38 [==============================] - 2s 40ms/step - loss: 0.5211 - accuracy: 0.8125 - val_loss: 0.7526 - val_accuracy: 0.7933\n",
      "Epoch 23/100\n",
      "38/38 [==============================] - 2s 42ms/step - loss: 0.5219 - accuracy: 0.8058 - val_loss: 0.7522 - val_accuracy: 0.7933\n",
      "Epoch 24/100\n",
      "38/38 [==============================] - 1s 39ms/step - loss: 0.5243 - accuracy: 0.8083 - val_loss: 0.7517 - val_accuracy: 0.7917\n",
      "Epoch 25/100\n",
      "38/38 [==============================] - 2s 40ms/step - loss: 0.5530 - accuracy: 0.8117 - val_loss: 0.7518 - val_accuracy: 0.7917\n",
      "Epoch 26/100\n",
      "38/38 [==============================] - 1s 38ms/step - loss: 0.5307 - accuracy: 0.8050 - val_loss: 0.7514 - val_accuracy: 0.7950\n",
      "Epoch 27/100\n",
      "38/38 [==============================] - 2s 40ms/step - loss: 0.4936 - accuracy: 0.8325 - val_loss: 0.7515 - val_accuracy: 0.7950\n",
      "Epoch 28/100\n",
      "38/38 [==============================] - 1s 39ms/step - loss: 0.5168 - accuracy: 0.8108 - val_loss: 0.7515 - val_accuracy: 0.7950\n",
      "Epoch 29/100\n",
      "38/38 [==============================] - 2s 42ms/step - loss: 0.5226 - accuracy: 0.8033 - val_loss: 0.7515 - val_accuracy: 0.7933\n",
      "Epoch 30/100\n",
      "38/38 [==============================] - 2s 41ms/step - loss: 0.5314 - accuracy: 0.8025 - val_loss: 0.7513 - val_accuracy: 0.7933\n",
      "Epoch 31/100\n",
      "38/38 [==============================] - 1s 36ms/step - loss: 0.5192 - accuracy: 0.8225 - val_loss: 0.7516 - val_accuracy: 0.7933\n",
      "Epoch 32/100\n",
      "38/38 [==============================] - 2s 42ms/step - loss: 0.5272 - accuracy: 0.8133 - val_loss: 0.7519 - val_accuracy: 0.7933\n",
      "Epoch 33/100\n",
      "38/38 [==============================] - 2s 40ms/step - loss: 0.5475 - accuracy: 0.8075 - val_loss: 0.7519 - val_accuracy: 0.7933\n",
      "Epoch 34/100\n",
      "38/38 [==============================] - 2s 39ms/step - loss: 0.5263 - accuracy: 0.8158 - val_loss: 0.7518 - val_accuracy: 0.7950\n",
      "Epoch 35/100\n",
      "38/38 [==============================] - 1s 39ms/step - loss: 0.5241 - accuracy: 0.8225 - val_loss: 0.7513 - val_accuracy: 0.7933\n",
      "Epoch 36/100\n",
      "38/38 [==============================] - 2s 43ms/step - loss: 0.5574 - accuracy: 0.8033 - val_loss: 0.7509 - val_accuracy: 0.7950\n",
      "Epoch 37/100\n",
      "38/38 [==============================] - 2s 42ms/step - loss: 0.5105 - accuracy: 0.8233 - val_loss: 0.7507 - val_accuracy: 0.7950\n",
      "Epoch 38/100\n",
      "38/38 [==============================] - 2s 42ms/step - loss: 0.5413 - accuracy: 0.8058 - val_loss: 0.7505 - val_accuracy: 0.7950\n",
      "Epoch 39/100\n",
      "38/38 [==============================] - 1s 39ms/step - loss: 0.4994 - accuracy: 0.8125 - val_loss: 0.7503 - val_accuracy: 0.7950\n",
      "Epoch 40/100\n",
      "38/38 [==============================] - 1s 37ms/step - loss: 0.5442 - accuracy: 0.8125 - val_loss: 0.7504 - val_accuracy: 0.7950\n",
      "Epoch 41/100\n",
      "38/38 [==============================] - 1s 37ms/step - loss: 0.5257 - accuracy: 0.8200 - val_loss: 0.7506 - val_accuracy: 0.7950\n",
      "Epoch 42/100\n",
      "38/38 [==============================] - 2s 42ms/step - loss: 0.5170 - accuracy: 0.8142 - val_loss: 0.7506 - val_accuracy: 0.7950\n",
      "Epoch 43/100\n",
      "38/38 [==============================] - 2s 42ms/step - loss: 0.4894 - accuracy: 0.8217 - val_loss: 0.7513 - val_accuracy: 0.7950\n",
      "Epoch 44/100\n",
      "38/38 [==============================] - 2s 41ms/step - loss: 0.5757 - accuracy: 0.7942 - val_loss: 0.7510 - val_accuracy: 0.7967\n",
      "Epoch 45/100\n",
      "38/38 [==============================] - 2s 41ms/step - loss: 0.5052 - accuracy: 0.8192 - val_loss: 0.7508 - val_accuracy: 0.7967\n",
      "Epoch 46/100\n",
      "38/38 [==============================] - 1s 37ms/step - loss: 0.4906 - accuracy: 0.8375 - val_loss: 0.7509 - val_accuracy: 0.7967\n",
      "Epoch 47/100\n",
      "38/38 [==============================] - 2s 40ms/step - loss: 0.5382 - accuracy: 0.8175 - val_loss: 0.7505 - val_accuracy: 0.7967\n",
      "Epoch 48/100\n",
      "38/38 [==============================] - 2s 40ms/step - loss: 0.5231 - accuracy: 0.7975 - val_loss: 0.7505 - val_accuracy: 0.7950\n",
      "Epoch 49/100\n",
      "38/38 [==============================] - 2s 42ms/step - loss: 0.5440 - accuracy: 0.7992 - val_loss: 0.7501 - val_accuracy: 0.7950\n",
      "Epoch 50/100\n",
      "38/38 [==============================] - 2s 41ms/step - loss: 0.5294 - accuracy: 0.8125 - val_loss: 0.7496 - val_accuracy: 0.7967\n",
      "Epoch 51/100\n",
      "38/38 [==============================] - 2s 42ms/step - loss: 0.5234 - accuracy: 0.8017 - val_loss: 0.7493 - val_accuracy: 0.7967\n",
      "Epoch 52/100\n",
      "38/38 [==============================] - 1s 38ms/step - loss: 0.5131 - accuracy: 0.8183 - val_loss: 0.7491 - val_accuracy: 0.7967\n",
      "Epoch 53/100\n",
      "38/38 [==============================] - 1s 38ms/step - loss: 0.5256 - accuracy: 0.7942 - val_loss: 0.7495 - val_accuracy: 0.7967\n",
      "Epoch 54/100\n",
      "38/38 [==============================] - 2s 40ms/step - loss: 0.5362 - accuracy: 0.8033 - val_loss: 0.7495 - val_accuracy: 0.7967\n",
      "Epoch 55/100\n",
      "38/38 [==============================] - 2s 40ms/step - loss: 0.5173 - accuracy: 0.8117 - val_loss: 0.7501 - val_accuracy: 0.7967\n",
      "Epoch 56/100\n",
      "38/38 [==============================] - 1s 36ms/step - loss: 0.5168 - accuracy: 0.8083 - val_loss: 0.7500 - val_accuracy: 0.7950\n",
      "Epoch 57/100\n",
      "38/38 [==============================] - 1s 39ms/step - loss: 0.5024 - accuracy: 0.8150 - val_loss: 0.7501 - val_accuracy: 0.7950\n",
      "Epoch 58/100\n",
      "38/38 [==============================] - 2s 40ms/step - loss: 0.5402 - accuracy: 0.7958 - val_loss: 0.7493 - val_accuracy: 0.7983\n",
      "Epoch 59/100\n",
      "38/38 [==============================] - 1s 36ms/step - loss: 0.4972 - accuracy: 0.8225 - val_loss: 0.7490 - val_accuracy: 0.7983\n",
      "Epoch 60/100\n",
      "38/38 [==============================] - 1s 39ms/step - loss: 0.5226 - accuracy: 0.8167 - val_loss: 0.7493 - val_accuracy: 0.7983\n",
      "Epoch 61/100\n",
      "38/38 [==============================] - 2s 41ms/step - loss: 0.5110 - accuracy: 0.8183 - val_loss: 0.7490 - val_accuracy: 0.7983\n",
      "Epoch 62/100\n",
      "38/38 [==============================] - 2s 41ms/step - loss: 0.5269 - accuracy: 0.8208 - val_loss: 0.7485 - val_accuracy: 0.7983\n",
      "Epoch 63/100\n",
      "38/38 [==============================] - 2s 40ms/step - loss: 0.5186 - accuracy: 0.8225 - val_loss: 0.7486 - val_accuracy: 0.7983\n",
      "Epoch 64/100\n",
      "38/38 [==============================] - 2s 42ms/step - loss: 0.5491 - accuracy: 0.8025 - val_loss: 0.7488 - val_accuracy: 0.7983\n",
      "Epoch 65/100\n",
      "38/38 [==============================] - 1s 38ms/step - loss: 0.5303 - accuracy: 0.8033 - val_loss: 0.7486 - val_accuracy: 0.7983\n",
      "Epoch 66/100\n",
      "38/38 [==============================] - 2s 40ms/step - loss: 0.5330 - accuracy: 0.8117 - val_loss: 0.7490 - val_accuracy: 0.7983\n",
      "Epoch 67/100\n",
      "38/38 [==============================] - 2s 40ms/step - loss: 0.5223 - accuracy: 0.8033 - val_loss: 0.7491 - val_accuracy: 0.7983\n",
      "Epoch 68/100\n",
      "38/38 [==============================] - 2s 40ms/step - loss: 0.5458 - accuracy: 0.8100 - val_loss: 0.7491 - val_accuracy: 0.7967\n",
      "Epoch 69/100\n",
      "38/38 [==============================] - 2s 41ms/step - loss: 0.5578 - accuracy: 0.7908 - val_loss: 0.7487 - val_accuracy: 0.7967\n",
      "Epoch 70/100\n",
      "38/38 [==============================] - 1s 36ms/step - loss: 0.5235 - accuracy: 0.8092 - val_loss: 0.7486 - val_accuracy: 0.7967\n",
      "Epoch 71/100\n",
      "38/38 [==============================] - 2s 41ms/step - loss: 0.5312 - accuracy: 0.8175 - val_loss: 0.7486 - val_accuracy: 0.7983\n",
      "Epoch 72/100\n",
      "38/38 [==============================] - 2s 41ms/step - loss: 0.5341 - accuracy: 0.8142 - val_loss: 0.7484 - val_accuracy: 0.7983\n",
      "Epoch 73/100\n",
      "38/38 [==============================] - 2s 40ms/step - loss: 0.4895 - accuracy: 0.8158 - val_loss: 0.7487 - val_accuracy: 0.7983\n",
      "Epoch 74/100\n",
      "38/38 [==============================] - 2s 42ms/step - loss: 0.5268 - accuracy: 0.8000 - val_loss: 0.7490 - val_accuracy: 0.7983\n",
      "Epoch 75/100\n",
      "38/38 [==============================] - 2s 42ms/step - loss: 0.5196 - accuracy: 0.8225 - val_loss: 0.7489 - val_accuracy: 0.7983\n",
      "Epoch 76/100\n",
      "38/38 [==============================] - 2s 42ms/step - loss: 0.5147 - accuracy: 0.8150 - val_loss: 0.7486 - val_accuracy: 0.8000\n",
      "Epoch 77/100\n",
      "38/38 [==============================] - 1s 38ms/step - loss: 0.5095 - accuracy: 0.8183 - val_loss: 0.7486 - val_accuracy: 0.8000\n",
      "Epoch 78/100\n",
      "38/38 [==============================] - 2s 40ms/step - loss: 0.5358 - accuracy: 0.8125 - val_loss: 0.7487 - val_accuracy: 0.8000\n",
      "Epoch 79/100\n",
      "38/38 [==============================] - 2s 41ms/step - loss: 0.5150 - accuracy: 0.8150 - val_loss: 0.7488 - val_accuracy: 0.8000\n",
      "Epoch 80/100\n",
      "38/38 [==============================] - 2s 40ms/step - loss: 0.5161 - accuracy: 0.8125 - val_loss: 0.7486 - val_accuracy: 0.8000\n",
      "Epoch 81/100\n",
      "38/38 [==============================] - 2s 41ms/step - loss: 0.5251 - accuracy: 0.8125 - val_loss: 0.7487 - val_accuracy: 0.8000\n",
      "Epoch 82/100\n",
      "38/38 [==============================] - 2s 40ms/step - loss: 0.5259 - accuracy: 0.8083 - val_loss: 0.7486 - val_accuracy: 0.8000\n",
      "Epoch 83/100\n",
      "38/38 [==============================] - 1s 39ms/step - loss: 0.5259 - accuracy: 0.8092 - val_loss: 0.7484 - val_accuracy: 0.8000\n",
      "Epoch 84/100\n",
      "38/38 [==============================] - 2s 41ms/step - loss: 0.5397 - accuracy: 0.8008 - val_loss: 0.7480 - val_accuracy: 0.8000\n",
      "Epoch 85/100\n",
      "38/38 [==============================] - 2s 41ms/step - loss: 0.5344 - accuracy: 0.8167 - val_loss: 0.7478 - val_accuracy: 0.8000\n",
      "Epoch 86/100\n",
      "38/38 [==============================] - 2s 40ms/step - loss: 0.5049 - accuracy: 0.8142 - val_loss: 0.7478 - val_accuracy: 0.8000\n",
      "Epoch 87/100\n",
      "38/38 [==============================] - 2s 40ms/step - loss: 0.5534 - accuracy: 0.8042 - val_loss: 0.7471 - val_accuracy: 0.8000\n",
      "Epoch 88/100\n",
      "38/38 [==============================] - 2s 43ms/step - loss: 0.5255 - accuracy: 0.8133 - val_loss: 0.7470 - val_accuracy: 0.8000\n",
      "Epoch 89/100\n",
      "38/38 [==============================] - 2s 42ms/step - loss: 0.5281 - accuracy: 0.8000 - val_loss: 0.7471 - val_accuracy: 0.8000\n",
      "Epoch 90/100\n",
      "38/38 [==============================] - 2s 42ms/step - loss: 0.5261 - accuracy: 0.8133 - val_loss: 0.7475 - val_accuracy: 0.8000\n",
      "Epoch 91/100\n",
      "38/38 [==============================] - 2s 46ms/step - loss: 0.5394 - accuracy: 0.8083 - val_loss: 0.7474 - val_accuracy: 0.8000\n",
      "Epoch 92/100\n",
      "38/38 [==============================] - 2s 44ms/step - loss: 0.5117 - accuracy: 0.8225 - val_loss: 0.7470 - val_accuracy: 0.8000\n",
      "Epoch 93/100\n",
      "38/38 [==============================] - 2s 44ms/step - loss: 0.5136 - accuracy: 0.8267 - val_loss: 0.7475 - val_accuracy: 0.8000\n",
      "Epoch 94/100\n",
      "38/38 [==============================] - 2s 45ms/step - loss: 0.5532 - accuracy: 0.8042 - val_loss: 0.7476 - val_accuracy: 0.8000\n",
      "Epoch 95/100\n",
      "38/38 [==============================] - 2s 40ms/step - loss: 0.5317 - accuracy: 0.8050 - val_loss: 0.7474 - val_accuracy: 0.8000\n",
      "Epoch 96/100\n",
      "38/38 [==============================] - 2s 42ms/step - loss: 0.4930 - accuracy: 0.8275 - val_loss: 0.7478 - val_accuracy: 0.8000\n",
      "Epoch 97/100\n",
      "38/38 [==============================] - 2s 45ms/step - loss: 0.5314 - accuracy: 0.8075 - val_loss: 0.7476 - val_accuracy: 0.8000\n",
      "Epoch 98/100\n",
      "38/38 [==============================] - 2s 43ms/step - loss: 0.5315 - accuracy: 0.8100 - val_loss: 0.7477 - val_accuracy: 0.8000\n",
      "Epoch 99/100\n",
      "38/38 [==============================] - 2s 41ms/step - loss: 0.5161 - accuracy: 0.7975 - val_loss: 0.7482 - val_accuracy: 0.8000\n",
      "Epoch 100/100\n",
      "38/38 [==============================] - 2s 42ms/step - loss: 0.5451 - accuracy: 0.8058 - val_loss: 0.7484 - val_accuracy: 0.8000\n"
     ]
    },
    {
     "data": {
      "text/plain": [
       "<tensorflow.python.keras.callbacks.History at 0x17773b890>"
      ]
     },
     "execution_count": 561,
     "metadata": {},
     "output_type": "execute_result"
    }
   ],
   "source": [
    "m.fit_generator(generator=train_generator,epochs=100, validation_data=(xValid /255, yValid), callbacks=[])\n"
   ]
  },
  {
   "cell_type": "code",
   "execution_count": 562,
   "metadata": {},
   "outputs": [
    {
     "name": "stdout",
     "output_type": "stream",
     "text": [
      "Epoch 1/100\n",
      "38/38 [==============================] - 2s 44ms/step - loss: 0.5206 - accuracy: 0.8242 - val_loss: 0.7482 - val_accuracy: 0.8000\n",
      "Epoch 2/100\n",
      "38/38 [==============================] - 1s 39ms/step - loss: 0.5441 - accuracy: 0.8108 - val_loss: 0.7487 - val_accuracy: 0.8000\n",
      "Epoch 3/100\n",
      "38/38 [==============================] - 2s 40ms/step - loss: 0.5526 - accuracy: 0.8000 - val_loss: 0.7485 - val_accuracy: 0.8000\n",
      "Epoch 4/100\n",
      "38/38 [==============================] - 1s 39ms/step - loss: 0.5348 - accuracy: 0.8017 - val_loss: 0.7481 - val_accuracy: 0.8000\n",
      "Epoch 5/100\n",
      "38/38 [==============================] - 1s 39ms/step - loss: 0.5068 - accuracy: 0.8192 - val_loss: 0.7483 - val_accuracy: 0.8000\n",
      "Epoch 6/100\n",
      "38/38 [==============================] - 2s 41ms/step - loss: 0.5073 - accuracy: 0.8133 - val_loss: 0.7482 - val_accuracy: 0.8000\n",
      "Epoch 7/100\n",
      "38/38 [==============================] - 2s 43ms/step - loss: 0.5540 - accuracy: 0.8175 - val_loss: 0.7480 - val_accuracy: 0.8000\n",
      "Epoch 8/100\n",
      "38/38 [==============================] - 1s 39ms/step - loss: 0.5188 - accuracy: 0.8125 - val_loss: 0.7475 - val_accuracy: 0.8000\n",
      "Epoch 9/100\n",
      "38/38 [==============================] - 2s 47ms/step - loss: 0.5446 - accuracy: 0.8033 - val_loss: 0.7477 - val_accuracy: 0.8000\n",
      "Epoch 10/100\n",
      "38/38 [==============================] - 2s 43ms/step - loss: 0.5384 - accuracy: 0.8033 - val_loss: 0.7482 - val_accuracy: 0.8000\n",
      "Epoch 11/100\n",
      "38/38 [==============================] - 2s 40ms/step - loss: 0.5276 - accuracy: 0.8050 - val_loss: 0.7485 - val_accuracy: 0.8000\n",
      "Epoch 12/100\n",
      "38/38 [==============================] - 2s 42ms/step - loss: 0.5047 - accuracy: 0.8208 - val_loss: 0.7484 - val_accuracy: 0.8000\n",
      "Epoch 13/100\n",
      "38/38 [==============================] - 1s 39ms/step - loss: 0.5289 - accuracy: 0.8092 - val_loss: 0.7484 - val_accuracy: 0.8000\n",
      "Epoch 14/100\n",
      "38/38 [==============================] - 2s 41ms/step - loss: 0.5416 - accuracy: 0.8117 - val_loss: 0.7482 - val_accuracy: 0.8000\n",
      "Epoch 15/100\n",
      "38/38 [==============================] - 2s 40ms/step - loss: 0.5486 - accuracy: 0.8100 - val_loss: 0.7480 - val_accuracy: 0.8000\n",
      "Epoch 16/100\n",
      "38/38 [==============================] - 2s 40ms/step - loss: 0.5168 - accuracy: 0.8092 - val_loss: 0.7483 - val_accuracy: 0.8000\n",
      "Epoch 17/100\n",
      "38/38 [==============================] - 2s 45ms/step - loss: 0.5406 - accuracy: 0.8100 - val_loss: 0.7482 - val_accuracy: 0.7983\n",
      "Epoch 18/100\n",
      "38/38 [==============================] - 2s 44ms/step - loss: 0.5263 - accuracy: 0.8242 - val_loss: 0.7481 - val_accuracy: 0.7983\n",
      "Epoch 19/100\n",
      "38/38 [==============================] - 2s 40ms/step - loss: 0.5298 - accuracy: 0.8250 - val_loss: 0.7480 - val_accuracy: 0.7983\n",
      "Epoch 20/100\n",
      "38/38 [==============================] - 2s 42ms/step - loss: 0.5321 - accuracy: 0.8075 - val_loss: 0.7479 - val_accuracy: 0.7967\n",
      "Epoch 21/100\n",
      "38/38 [==============================] - 1s 38ms/step - loss: 0.5240 - accuracy: 0.8025 - val_loss: 0.7476 - val_accuracy: 0.7967\n",
      "Epoch 22/100\n",
      "38/38 [==============================] - 2s 43ms/step - loss: 0.5321 - accuracy: 0.8142 - val_loss: 0.7472 - val_accuracy: 0.7983\n",
      "Epoch 23/100\n",
      "38/38 [==============================] - 1s 39ms/step - loss: 0.4991 - accuracy: 0.8275 - val_loss: 0.7475 - val_accuracy: 0.7967\n",
      "Epoch 24/100\n",
      "38/38 [==============================] - 1s 39ms/step - loss: 0.5606 - accuracy: 0.8033 - val_loss: 0.7473 - val_accuracy: 0.7983\n",
      "Epoch 25/100\n",
      "38/38 [==============================] - 1s 39ms/step - loss: 0.4993 - accuracy: 0.8150 - val_loss: 0.7469 - val_accuracy: 0.7983\n",
      "Epoch 26/100\n",
      "38/38 [==============================] - 2s 44ms/step - loss: 0.5607 - accuracy: 0.8000 - val_loss: 0.7467 - val_accuracy: 0.8000\n",
      "Epoch 27/100\n",
      "38/38 [==============================] - 2s 42ms/step - loss: 0.5349 - accuracy: 0.8008 - val_loss: 0.7467 - val_accuracy: 0.8000\n",
      "Epoch 28/100\n",
      "38/38 [==============================] - 1s 39ms/step - loss: 0.5577 - accuracy: 0.8033 - val_loss: 0.7469 - val_accuracy: 0.8017\n",
      "Epoch 29/100\n",
      "38/38 [==============================] - 1s 38ms/step - loss: 0.5137 - accuracy: 0.8142 - val_loss: 0.7470 - val_accuracy: 0.8017\n",
      "Epoch 30/100\n",
      "38/38 [==============================] - 2s 40ms/step - loss: 0.5091 - accuracy: 0.8050 - val_loss: 0.7468 - val_accuracy: 0.8017\n",
      "Epoch 31/100\n",
      "38/38 [==============================] - 2s 42ms/step - loss: 0.5063 - accuracy: 0.8108 - val_loss: 0.7471 - val_accuracy: 0.8017\n",
      "Epoch 32/100\n",
      "38/38 [==============================] - 2s 40ms/step - loss: 0.5408 - accuracy: 0.8108 - val_loss: 0.7469 - val_accuracy: 0.8017\n",
      "Epoch 33/100\n",
      "38/38 [==============================] - 2s 44ms/step - loss: 0.5110 - accuracy: 0.8225 - val_loss: 0.7472 - val_accuracy: 0.8000\n",
      "Epoch 34/100\n",
      "38/38 [==============================] - 2s 40ms/step - loss: 0.5305 - accuracy: 0.8125 - val_loss: 0.7473 - val_accuracy: 0.8000\n",
      "Epoch 35/100\n",
      "38/38 [==============================] - 2s 48ms/step - loss: 0.5166 - accuracy: 0.8133 - val_loss: 0.7469 - val_accuracy: 0.8017\n",
      "Epoch 36/100\n",
      "38/38 [==============================] - 2s 45ms/step - loss: 0.4972 - accuracy: 0.8233 - val_loss: 0.7471 - val_accuracy: 0.8017\n",
      "Epoch 37/100\n",
      "38/38 [==============================] - 2s 49ms/step - loss: 0.5447 - accuracy: 0.8075 - val_loss: 0.7469 - val_accuracy: 0.8017\n",
      "Epoch 38/100\n",
      "38/38 [==============================] - 2s 44ms/step - loss: 0.5294 - accuracy: 0.8083 - val_loss: 0.7468 - val_accuracy: 0.8000\n",
      "Epoch 39/100\n",
      "38/38 [==============================] - 2s 43ms/step - loss: 0.5156 - accuracy: 0.8150 - val_loss: 0.7473 - val_accuracy: 0.7983\n",
      "Epoch 40/100\n",
      "38/38 [==============================] - 2s 40ms/step - loss: 0.5427 - accuracy: 0.8033 - val_loss: 0.7478 - val_accuracy: 0.8000\n",
      "Epoch 41/100\n",
      "38/38 [==============================] - 2s 42ms/step - loss: 0.5200 - accuracy: 0.8125 - val_loss: 0.7476 - val_accuracy: 0.8017\n",
      "Epoch 42/100\n",
      "38/38 [==============================] - 2s 40ms/step - loss: 0.4992 - accuracy: 0.8300 - val_loss: 0.7474 - val_accuracy: 0.7983\n",
      "Epoch 43/100\n",
      "38/38 [==============================] - 1s 39ms/step - loss: 0.5399 - accuracy: 0.7975 - val_loss: 0.7473 - val_accuracy: 0.7983\n",
      "Epoch 44/100\n",
      "38/38 [==============================] - 2s 41ms/step - loss: 0.5216 - accuracy: 0.8258 - val_loss: 0.7475 - val_accuracy: 0.7983\n",
      "Epoch 45/100\n",
      "38/38 [==============================] - 2s 40ms/step - loss: 0.5079 - accuracy: 0.8275 - val_loss: 0.7473 - val_accuracy: 0.7967\n",
      "Epoch 46/100\n",
      "38/38 [==============================] - 1s 36ms/step - loss: 0.5117 - accuracy: 0.8250 - val_loss: 0.7471 - val_accuracy: 0.7967\n",
      "Epoch 47/100\n",
      "38/38 [==============================] - 2s 42ms/step - loss: 0.5086 - accuracy: 0.8075 - val_loss: 0.7471 - val_accuracy: 0.7967\n",
      "Epoch 48/100\n",
      "38/38 [==============================] - 2s 41ms/step - loss: 0.5463 - accuracy: 0.8008 - val_loss: 0.7470 - val_accuracy: 0.7983\n",
      "Epoch 49/100\n",
      "38/38 [==============================] - 2s 41ms/step - loss: 0.5452 - accuracy: 0.7942 - val_loss: 0.7467 - val_accuracy: 0.7983\n",
      "Epoch 50/100\n",
      "38/38 [==============================] - 2s 42ms/step - loss: 0.5458 - accuracy: 0.7950 - val_loss: 0.7464 - val_accuracy: 0.8000\n",
      "Epoch 51/100\n",
      "38/38 [==============================] - 2s 42ms/step - loss: 0.5525 - accuracy: 0.7975 - val_loss: 0.7463 - val_accuracy: 0.8000\n",
      "Epoch 52/100\n",
      "38/38 [==============================] - 2s 40ms/step - loss: 0.5164 - accuracy: 0.8233 - val_loss: 0.7468 - val_accuracy: 0.8000\n",
      "Epoch 53/100\n",
      "38/38 [==============================] - 2s 39ms/step - loss: 0.5357 - accuracy: 0.8017 - val_loss: 0.7465 - val_accuracy: 0.8000\n",
      "Epoch 54/100\n",
      "38/38 [==============================] - 2s 42ms/step - loss: 0.5261 - accuracy: 0.8167 - val_loss: 0.7464 - val_accuracy: 0.8000\n",
      "Epoch 55/100\n",
      "38/38 [==============================] - 2s 42ms/step - loss: 0.5266 - accuracy: 0.8208 - val_loss: 0.7463 - val_accuracy: 0.8000\n",
      "Epoch 56/100\n",
      "38/38 [==============================] - 2s 40ms/step - loss: 0.5321 - accuracy: 0.8167 - val_loss: 0.7459 - val_accuracy: 0.8000\n",
      "Epoch 57/100\n",
      "38/38 [==============================] - 2s 41ms/step - loss: 0.4986 - accuracy: 0.8233 - val_loss: 0.7458 - val_accuracy: 0.8000\n",
      "Epoch 58/100\n",
      "38/38 [==============================] - 2s 40ms/step - loss: 0.5108 - accuracy: 0.8092 - val_loss: 0.7459 - val_accuracy: 0.8000\n",
      "Epoch 59/100\n",
      "38/38 [==============================] - 2s 40ms/step - loss: 0.5270 - accuracy: 0.8100 - val_loss: 0.7459 - val_accuracy: 0.8000\n",
      "Epoch 60/100\n",
      "38/38 [==============================] - 2s 40ms/step - loss: 0.5075 - accuracy: 0.8175 - val_loss: 0.7462 - val_accuracy: 0.8000\n",
      "Epoch 61/100\n",
      "38/38 [==============================] - 2s 42ms/step - loss: 0.4972 - accuracy: 0.8067 - val_loss: 0.7465 - val_accuracy: 0.8000\n",
      "Epoch 62/100\n",
      "38/38 [==============================] - 2s 40ms/step - loss: 0.5228 - accuracy: 0.8067 - val_loss: 0.7465 - val_accuracy: 0.8017\n",
      "Epoch 63/100\n",
      "38/38 [==============================] - 2s 41ms/step - loss: 0.4861 - accuracy: 0.8258 - val_loss: 0.7463 - val_accuracy: 0.8000\n",
      "Epoch 64/100\n",
      "38/38 [==============================] - 2s 40ms/step - loss: 0.5023 - accuracy: 0.8267 - val_loss: 0.7464 - val_accuracy: 0.8000\n",
      "Epoch 65/100\n",
      "38/38 [==============================] - 2s 40ms/step - loss: 0.5403 - accuracy: 0.8125 - val_loss: 0.7462 - val_accuracy: 0.8000\n",
      "Epoch 66/100\n",
      "38/38 [==============================] - 2s 41ms/step - loss: 0.5501 - accuracy: 0.7983 - val_loss: 0.7465 - val_accuracy: 0.8000\n",
      "Epoch 67/100\n",
      "38/38 [==============================] - 1s 37ms/step - loss: 0.5243 - accuracy: 0.8133 - val_loss: 0.7468 - val_accuracy: 0.8000\n",
      "Epoch 68/100\n",
      "38/38 [==============================] - 2s 45ms/step - loss: 0.4799 - accuracy: 0.8308 - val_loss: 0.7466 - val_accuracy: 0.8017\n",
      "Epoch 69/100\n",
      "38/38 [==============================] - 2s 42ms/step - loss: 0.5139 - accuracy: 0.8208 - val_loss: 0.7462 - val_accuracy: 0.8017\n",
      "Epoch 70/100\n",
      "38/38 [==============================] - 2s 43ms/step - loss: 0.5364 - accuracy: 0.8158 - val_loss: 0.7458 - val_accuracy: 0.8017\n",
      "Epoch 71/100\n",
      "38/38 [==============================] - 2s 40ms/step - loss: 0.5106 - accuracy: 0.8267 - val_loss: 0.7452 - val_accuracy: 0.8000\n",
      "Epoch 72/100\n",
      "38/38 [==============================] - 2s 42ms/step - loss: 0.5339 - accuracy: 0.8225 - val_loss: 0.7446 - val_accuracy: 0.7983\n",
      "Epoch 73/100\n",
      "38/38 [==============================] - 2s 40ms/step - loss: 0.5150 - accuracy: 0.8083 - val_loss: 0.7441 - val_accuracy: 0.7983\n",
      "Epoch 74/100\n",
      "38/38 [==============================] - 2s 42ms/step - loss: 0.5193 - accuracy: 0.8192 - val_loss: 0.7442 - val_accuracy: 0.7950\n",
      "Epoch 75/100\n",
      "38/38 [==============================] - 2s 41ms/step - loss: 0.5344 - accuracy: 0.8050 - val_loss: 0.7437 - val_accuracy: 0.7950\n",
      "Epoch 76/100\n",
      "38/38 [==============================] - 2s 44ms/step - loss: 0.5311 - accuracy: 0.8217 - val_loss: 0.7436 - val_accuracy: 0.7967\n",
      "Epoch 77/100\n",
      "38/38 [==============================] - 2s 40ms/step - loss: 0.5410 - accuracy: 0.8042 - val_loss: 0.7438 - val_accuracy: 0.7967\n",
      "Epoch 78/100\n",
      "38/38 [==============================] - 2s 40ms/step - loss: 0.5642 - accuracy: 0.7967 - val_loss: 0.7434 - val_accuracy: 0.7967\n",
      "Epoch 79/100\n",
      "38/38 [==============================] - 2s 42ms/step - loss: 0.5234 - accuracy: 0.8142 - val_loss: 0.7431 - val_accuracy: 0.7950\n",
      "Epoch 80/100\n",
      "38/38 [==============================] - 2s 40ms/step - loss: 0.5005 - accuracy: 0.8125 - val_loss: 0.7431 - val_accuracy: 0.7967\n",
      "Epoch 81/100\n",
      "38/38 [==============================] - 1s 37ms/step - loss: 0.4802 - accuracy: 0.8317 - val_loss: 0.7429 - val_accuracy: 0.7983\n",
      "Epoch 82/100\n",
      "38/38 [==============================] - 2s 41ms/step - loss: 0.4869 - accuracy: 0.8042 - val_loss: 0.7427 - val_accuracy: 0.7983\n",
      "Epoch 83/100\n",
      "38/38 [==============================] - 2s 42ms/step - loss: 0.5103 - accuracy: 0.8217 - val_loss: 0.7432 - val_accuracy: 0.7933\n",
      "Epoch 84/100\n",
      "38/38 [==============================] - 2s 40ms/step - loss: 0.4861 - accuracy: 0.8333 - val_loss: 0.7431 - val_accuracy: 0.7967\n",
      "Epoch 85/100\n",
      "38/38 [==============================] - 2s 41ms/step - loss: 0.4837 - accuracy: 0.8342 - val_loss: 0.7431 - val_accuracy: 0.7983\n",
      "Epoch 86/100\n",
      "38/38 [==============================] - 2s 42ms/step - loss: 0.5183 - accuracy: 0.8042 - val_loss: 0.7435 - val_accuracy: 0.7967\n",
      "Epoch 87/100\n",
      "38/38 [==============================] - 2s 41ms/step - loss: 0.5196 - accuracy: 0.8058 - val_loss: 0.7435 - val_accuracy: 0.7967\n",
      "Epoch 88/100\n",
      "38/38 [==============================] - 1s 38ms/step - loss: 0.5040 - accuracy: 0.8208 - val_loss: 0.7437 - val_accuracy: 0.7950\n",
      "Epoch 89/100\n",
      "38/38 [==============================] - 2s 40ms/step - loss: 0.5461 - accuracy: 0.8025 - val_loss: 0.7434 - val_accuracy: 0.7967\n",
      "Epoch 90/100\n",
      "38/38 [==============================] - 2s 41ms/step - loss: 0.5314 - accuracy: 0.8067 - val_loss: 0.7436 - val_accuracy: 0.7967\n",
      "Epoch 91/100\n",
      "38/38 [==============================] - 1s 38ms/step - loss: 0.5213 - accuracy: 0.8208 - val_loss: 0.7438 - val_accuracy: 0.7967\n",
      "Epoch 92/100\n",
      "38/38 [==============================] - 2s 42ms/step - loss: 0.4976 - accuracy: 0.8242 - val_loss: 0.7442 - val_accuracy: 0.7967\n",
      "Epoch 93/100\n",
      "38/38 [==============================] - 2s 43ms/step - loss: 0.5236 - accuracy: 0.8125 - val_loss: 0.7440 - val_accuracy: 0.7967\n",
      "Epoch 94/100\n",
      "38/38 [==============================] - 2s 42ms/step - loss: 0.5236 - accuracy: 0.8192 - val_loss: 0.7439 - val_accuracy: 0.7967\n",
      "Epoch 95/100\n",
      "38/38 [==============================] - 2s 43ms/step - loss: 0.5334 - accuracy: 0.8167 - val_loss: 0.7429 - val_accuracy: 0.7967\n",
      "Epoch 96/100\n",
      "38/38 [==============================] - 2s 41ms/step - loss: 0.5126 - accuracy: 0.8083 - val_loss: 0.7431 - val_accuracy: 0.7950\n",
      "Epoch 97/100\n",
      "38/38 [==============================] - 2s 40ms/step - loss: 0.5409 - accuracy: 0.8142 - val_loss: 0.7434 - val_accuracy: 0.7950\n",
      "Epoch 98/100\n",
      "38/38 [==============================] - 2s 40ms/step - loss: 0.4943 - accuracy: 0.8250 - val_loss: 0.7438 - val_accuracy: 0.7950\n",
      "Epoch 99/100\n",
      "38/38 [==============================] - 2s 41ms/step - loss: 0.5195 - accuracy: 0.8125 - val_loss: 0.7436 - val_accuracy: 0.7967\n",
      "Epoch 100/100\n",
      "38/38 [==============================] - 2s 42ms/step - loss: 0.5124 - accuracy: 0.8133 - val_loss: 0.7431 - val_accuracy: 0.7967\n"
     ]
    },
    {
     "data": {
      "text/plain": [
       "<tensorflow.python.keras.callbacks.History at 0x175e655d0>"
      ]
     },
     "execution_count": 562,
     "metadata": {},
     "output_type": "execute_result"
    }
   ],
   "source": [
    "m.fit_generator(generator=train_generator,epochs=100, validation_data=(xValid /255, yValid), callbacks=[])\n"
   ]
  },
  {
   "cell_type": "code",
   "execution_count": 550,
   "metadata": {},
   "outputs": [],
   "source": [
    "m.trainable = True\n",
    "for (idx, l) in enumerate(m.layers):  \n",
    "\n",
    "    if idx > 0:\n",
    "        l.trainable = True"
   ]
  },
  {
   "cell_type": "code",
   "execution_count": 551,
   "metadata": {},
   "outputs": [
    {
     "name": "stdout",
     "output_type": "stream",
     "text": [
      "Model: \"sequential_28\"\n",
      "_________________________________________________________________\n",
      "Layer (type)                 Output Shape              Param #   \n",
      "=================================================================\n",
      "conv2d_20 (Conv2D)           (None, 26, 26, 128)       3584      \n",
      "_________________________________________________________________\n",
      "max_pooling2d_16 (MaxPooling (None, 13, 13, 128)       0         \n",
      "_________________________________________________________________\n",
      "conv2d_21 (Conv2D)           (None, 10, 10, 128)       262272    \n",
      "_________________________________________________________________\n",
      "max_pooling2d_17 (MaxPooling (None, 5, 5, 128)         0         \n",
      "_________________________________________________________________\n",
      "flatten_7 (Flatten)          (None, 3200)              0         \n",
      "_________________________________________________________________\n",
      "dense_61 (Dense)             (None, 128)               409728    \n",
      "_________________________________________________________________\n",
      "dropout_30 (Dropout)         (None, 128)               0         \n",
      "_________________________________________________________________\n",
      "dense_62 (Dense)             (None, 32)                4128      \n",
      "_________________________________________________________________\n",
      "dense_63 (Dense)             (None, 6)                 198       \n",
      "=================================================================\n",
      "Total params: 679,910\n",
      "Trainable params: 679,910\n",
      "Non-trainable params: 0\n",
      "_________________________________________________________________\n"
     ]
    }
   ],
   "source": [
    "m.summary()"
   ]
  },
  {
   "cell_type": "code",
   "execution_count": 518,
   "metadata": {},
   "outputs": [
    {
     "name": "stdout",
     "output_type": "stream",
     "text": [
      "Epoch 1/10\n",
      "38/38 [==============================] - 2s 40ms/step - loss: 0.6724 - accuracy: 0.7583 - val_loss: 0.6507 - val_accuracy: 0.7983\n",
      "Epoch 2/10\n",
      "38/38 [==============================] - 1s 35ms/step - loss: 0.6775 - accuracy: 0.7558 - val_loss: 0.6510 - val_accuracy: 0.7983\n",
      "Epoch 3/10\n",
      "38/38 [==============================] - 1s 34ms/step - loss: 0.7032 - accuracy: 0.7375 - val_loss: 0.6513 - val_accuracy: 0.7983\n",
      "Epoch 4/10\n",
      "38/38 [==============================] - 1s 31ms/step - loss: 0.6677 - accuracy: 0.7533 - val_loss: 0.6510 - val_accuracy: 0.7983\n",
      "Epoch 5/10\n",
      "38/38 [==============================] - 1s 36ms/step - loss: 0.6757 - accuracy: 0.7542 - val_loss: 0.6511 - val_accuracy: 0.7967\n",
      "Epoch 6/10\n",
      "38/38 [==============================] - 1s 36ms/step - loss: 0.6888 - accuracy: 0.7433 - val_loss: 0.6509 - val_accuracy: 0.7967\n",
      "Epoch 7/10\n",
      "38/38 [==============================] - 1s 37ms/step - loss: 0.6728 - accuracy: 0.7575 - val_loss: 0.6504 - val_accuracy: 0.7967\n",
      "Epoch 8/10\n",
      "38/38 [==============================] - 1s 35ms/step - loss: 0.6621 - accuracy: 0.7633 - val_loss: 0.6503 - val_accuracy: 0.7967\n",
      "Epoch 9/10\n",
      "38/38 [==============================] - 1s 34ms/step - loss: 0.6599 - accuracy: 0.7483 - val_loss: 0.6505 - val_accuracy: 0.7967\n",
      "Epoch 10/10\n",
      "38/38 [==============================] - 1s 35ms/step - loss: 0.6812 - accuracy: 0.7575 - val_loss: 0.6508 - val_accuracy: 0.7950\n"
     ]
    },
    {
     "data": {
      "text/plain": [
       "<tensorflow.python.keras.callbacks.History at 0x1778c8810>"
      ]
     },
     "execution_count": 518,
     "metadata": {},
     "output_type": "execute_result"
    }
   ],
   "source": [
    "m.fit_generator(generator=train_generator,epochs=10, validation_data=(xValid /255, yValid), callbacks=[])\n"
   ]
  },
  {
   "cell_type": "code",
   "execution_count": 522,
   "metadata": {},
   "outputs": [
    {
     "name": "stdout",
     "output_type": "stream",
     "text": [
      "Epoch 1/10\n",
      "38/38 [==============================] - 2s 45ms/step - loss: 0.6221 - accuracy: 0.7808 - val_loss: 0.6763 - val_accuracy: 0.7833\n",
      "Epoch 2/10\n",
      "38/38 [==============================] - 2s 45ms/step - loss: 0.6128 - accuracy: 0.7717 - val_loss: 0.6826 - val_accuracy: 0.7767\n",
      "Epoch 3/10\n",
      "38/38 [==============================] - 2s 49ms/step - loss: 0.6177 - accuracy: 0.7808 - val_loss: 0.6904 - val_accuracy: 0.7783\n",
      "Epoch 4/10\n",
      "38/38 [==============================] - 2s 49ms/step - loss: 0.6454 - accuracy: 0.7567 - val_loss: 0.6807 - val_accuracy: 0.7817\n",
      "Epoch 5/10\n",
      "38/38 [==============================] - 2s 48ms/step - loss: 0.6240 - accuracy: 0.7733 - val_loss: 0.6773 - val_accuracy: 0.7750\n",
      "Epoch 6/10\n",
      "38/38 [==============================] - 2s 47ms/step - loss: 0.6261 - accuracy: 0.7867 - val_loss: 0.6849 - val_accuracy: 0.7817\n",
      "Epoch 7/10\n",
      "38/38 [==============================] - 2s 46ms/step - loss: 0.6161 - accuracy: 0.7825 - val_loss: 0.6808 - val_accuracy: 0.7817\n",
      "Epoch 8/10\n",
      "38/38 [==============================] - 2s 50ms/step - loss: 0.5958 - accuracy: 0.7842 - val_loss: 0.6751 - val_accuracy: 0.7850\n",
      "Epoch 9/10\n",
      "38/38 [==============================] - 2s 48ms/step - loss: 0.6180 - accuracy: 0.7842 - val_loss: 0.6705 - val_accuracy: 0.7833\n",
      "Epoch 10/10\n",
      "38/38 [==============================] - 2s 48ms/step - loss: 0.5961 - accuracy: 0.7800 - val_loss: 0.6838 - val_accuracy: 0.7867\n"
     ]
    },
    {
     "data": {
      "text/plain": [
       "<tensorflow.python.keras.callbacks.History at 0x177774e50>"
      ]
     },
     "execution_count": 522,
     "metadata": {},
     "output_type": "execute_result"
    }
   ],
   "source": [
    "m.fit_generator(generator=train_generator,epochs=10, validation_data=(xValid /255, yValid), callbacks=[])\n"
   ]
  },
  {
   "cell_type": "code",
   "execution_count": 520,
   "metadata": {},
   "outputs": [],
   "source": [
    "m.compile(optimizer=keras.optimizers.Adam(1e-4), loss='categorical_crossentropy', metrics=['accuracy'])"
   ]
  },
  {
   "cell_type": "markdown",
   "metadata": {},
   "source": [
    "### Resnet Model"
   ]
  },
  {
   "cell_type": "code",
   "execution_count": 290,
   "metadata": {},
   "outputs": [],
   "source": [
    "from keras.applications.xception import Xception"
   ]
  },
  {
   "cell_type": "code",
   "execution_count": 300,
   "metadata": {},
   "outputs": [],
   "source": [
    "xValid = keras.applications.xception.preprocess_input(xValid)"
   ]
  },
  {
   "cell_type": "code",
   "execution_count": 292,
   "metadata": {},
   "outputs": [
    {
     "name": "stdout",
     "output_type": "stream",
     "text": [
      "Found 1200 images belonging to 6 classes.\n"
     ]
    }
   ],
   "source": [
    "from keras.applications.resnet50 import preprocess_input\n",
    "import tensorflow as tf\n",
    "\n",
    "train_datagen=tf.keras.preprocessing.image.ImageDataGenerator(preprocessing_function=keras.applications.xception.preprocess_input, horizontal_flip=True, width_shift_range=0.1, zoom_range=0.1,\n",
    "    height_shift_range=0.1, shear_range=0.01, rotation_range=15, fill_mode=\"constant\", validation_split=0.00)\n",
    "train_generator = train_datagen.flow_from_directory('./train1200A/classes', class_mode='categorical', target_size=(128,128), subset='training')\n",
    "#valid_generator = train_datagen.flow_from_directory('./train1200A/classes', class_mode='categorical', target_size=(128,128), subset='validation')"
   ]
  },
  {
   "cell_type": "code",
   "execution_count": 293,
   "metadata": {},
   "outputs": [
    {
     "name": "stdout",
     "output_type": "stream",
     "text": [
      "Downloading data from https://storage.googleapis.com/tensorflow/keras-applications/xception/xception_weights_tf_dim_ordering_tf_kernels_notop.h5\n",
      "83689472/83683744 [==============================] - 15s 0us/step\n"
     ]
    }
   ],
   "source": [
    "resNetModel = Sequential()\n",
    "resNetModel.add(Xception(input_shape=(128,128, 3), include_top = False, pooling = 'avg', weights = 'imagenet'))\n",
    "resNetModel.add(Dropout(0.2))\n",
    "resNetModel.add(Dense(126, activation='relu'))\n",
    "\n",
    "\n",
    "# 2nd layer as Dense for 2-class classification, i.e., dog or cat using SoftMax activation\n",
    "resNetModel.add(Dense(6, activation = 'softmax'))\n",
    "\n",
    "# Say not to train first layer (ResNet) model as it is already trained\n",
    "resNetModel.layers[0].trainable = False"
   ]
  },
  {
   "cell_type": "code",
   "execution_count": 294,
   "metadata": {},
   "outputs": [
    {
     "name": "stdout",
     "output_type": "stream",
     "text": [
      "Model: \"sequential_18\"\n",
      "_________________________________________________________________\n",
      "Layer (type)                 Output Shape              Param #   \n",
      "=================================================================\n",
      "xception (Functional)        (None, 2048)              20861480  \n",
      "_________________________________________________________________\n",
      "dropout_21 (Dropout)         (None, 2048)              0         \n",
      "_________________________________________________________________\n",
      "dense_36 (Dense)             (None, 126)               258174    \n",
      "_________________________________________________________________\n",
      "dense_37 (Dense)             (None, 6)                 762       \n",
      "=================================================================\n",
      "Total params: 21,120,416\n",
      "Trainable params: 258,936\n",
      "Non-trainable params: 20,861,480\n",
      "_________________________________________________________________\n"
     ]
    }
   ],
   "source": [
    "resNetModel.summary()"
   ]
  },
  {
   "cell_type": "code",
   "execution_count": 295,
   "metadata": {},
   "outputs": [],
   "source": [
    "resNetModel.compile(optimizer='Adam', loss='categorical_crossentropy', metrics=['accuracy'])"
   ]
  },
  {
   "cell_type": "code",
   "execution_count": 301,
   "metadata": {},
   "outputs": [
    {
     "name": "stdout",
     "output_type": "stream",
     "text": [
      "Epoch 1/100\n",
      "38/38 [==============================] - 45s 1s/step - loss: 0.9354 - accuracy: 0.6567 - val_loss: 3.8978 - val_accuracy: 0.1950\n",
      "Epoch 2/100\n",
      "38/38 [==============================] - 45s 1s/step - loss: 0.9232 - accuracy: 0.6600 - val_loss: 3.3918 - val_accuracy: 0.1700\n",
      "Epoch 3/100\n",
      "38/38 [==============================] - ETA: 0s - loss: 0.9424 - accuracy: 0.6467"
     ]
    },
    {
     "ename": "KeyboardInterrupt",
     "evalue": "",
     "output_type": "error",
     "traceback": [
      "\u001b[0;31m---------------------------------------------------------------------------\u001b[0m",
      "\u001b[0;31mKeyboardInterrupt\u001b[0m                         Traceback (most recent call last)",
      "\u001b[0;32m<ipython-input-301-eed762d2981e>\u001b[0m in \u001b[0;36m<module>\u001b[0;34m\u001b[0m\n\u001b[1;32m      1\u001b[0m \u001b[0mcallback\u001b[0m \u001b[0;34m=\u001b[0m \u001b[0mkeras\u001b[0m\u001b[0;34m.\u001b[0m\u001b[0mcallbacks\u001b[0m\u001b[0;34m.\u001b[0m\u001b[0mEarlyStopping\u001b[0m\u001b[0;34m(\u001b[0m\u001b[0mmonitor\u001b[0m\u001b[0;34m=\u001b[0m\u001b[0;34m'val_accuracy'\u001b[0m\u001b[0;34m,\u001b[0m \u001b[0mpatience\u001b[0m\u001b[0;34m=\u001b[0m\u001b[0;36m15\u001b[0m\u001b[0;34m,\u001b[0m \u001b[0mrestore_best_weights\u001b[0m\u001b[0;34m=\u001b[0m\u001b[0;32mTrue\u001b[0m\u001b[0;34m)\u001b[0m\u001b[0;34m\u001b[0m\u001b[0;34m\u001b[0m\u001b[0m\n\u001b[1;32m      2\u001b[0m \u001b[0;34m\u001b[0m\u001b[0m\n\u001b[0;32m----> 3\u001b[0;31m \u001b[0mresNetModel\u001b[0m\u001b[0;34m.\u001b[0m\u001b[0mfit_generator\u001b[0m\u001b[0;34m(\u001b[0m\u001b[0mgenerator\u001b[0m\u001b[0;34m=\u001b[0m\u001b[0mtrain_generator\u001b[0m\u001b[0;34m,\u001b[0m\u001b[0mepochs\u001b[0m\u001b[0;34m=\u001b[0m\u001b[0;36m100\u001b[0m\u001b[0;34m,\u001b[0m\u001b[0mvalidation_data\u001b[0m\u001b[0;34m=\u001b[0m\u001b[0;34m(\u001b[0m\u001b[0mxValid\u001b[0m\u001b[0;34m,\u001b[0m \u001b[0myValid\u001b[0m\u001b[0;34m)\u001b[0m\u001b[0;34m,\u001b[0m \u001b[0mcallbacks\u001b[0m\u001b[0;34m=\u001b[0m\u001b[0;34m[\u001b[0m\u001b[0mcallback\u001b[0m\u001b[0;34m]\u001b[0m\u001b[0;34m)\u001b[0m\u001b[0;34m\u001b[0m\u001b[0;34m\u001b[0m\u001b[0m\n\u001b[0m\u001b[1;32m      4\u001b[0m \u001b[0;34m\u001b[0m\u001b[0m\n",
      "\u001b[0;32m/usr/local/lib/python3.7/site-packages/tensorflow/python/util/deprecation.py\u001b[0m in \u001b[0;36mnew_func\u001b[0;34m(*args, **kwargs)\u001b[0m\n\u001b[1;32m    322\u001b[0m               \u001b[0;34m'in a future version'\u001b[0m \u001b[0;32mif\u001b[0m \u001b[0mdate\u001b[0m \u001b[0;32mis\u001b[0m \u001b[0;32mNone\u001b[0m \u001b[0;32melse\u001b[0m \u001b[0;34m(\u001b[0m\u001b[0;34m'after %s'\u001b[0m \u001b[0;34m%\u001b[0m \u001b[0mdate\u001b[0m\u001b[0;34m)\u001b[0m\u001b[0;34m,\u001b[0m\u001b[0;34m\u001b[0m\u001b[0;34m\u001b[0m\u001b[0m\n\u001b[1;32m    323\u001b[0m               instructions)\n\u001b[0;32m--> 324\u001b[0;31m       \u001b[0;32mreturn\u001b[0m \u001b[0mfunc\u001b[0m\u001b[0;34m(\u001b[0m\u001b[0;34m*\u001b[0m\u001b[0margs\u001b[0m\u001b[0;34m,\u001b[0m \u001b[0;34m**\u001b[0m\u001b[0mkwargs\u001b[0m\u001b[0;34m)\u001b[0m\u001b[0;34m\u001b[0m\u001b[0;34m\u001b[0m\u001b[0m\n\u001b[0m\u001b[1;32m    325\u001b[0m     return tf_decorator.make_decorator(\n\u001b[1;32m    326\u001b[0m         \u001b[0mfunc\u001b[0m\u001b[0;34m,\u001b[0m \u001b[0mnew_func\u001b[0m\u001b[0;34m,\u001b[0m \u001b[0;34m'deprecated'\u001b[0m\u001b[0;34m,\u001b[0m\u001b[0;34m\u001b[0m\u001b[0;34m\u001b[0m\u001b[0m\n",
      "\u001b[0;32m/usr/local/lib/python3.7/site-packages/tensorflow/python/keras/engine/training.py\u001b[0m in \u001b[0;36mfit_generator\u001b[0;34m(self, generator, steps_per_epoch, epochs, verbose, callbacks, validation_data, validation_steps, validation_freq, class_weight, max_queue_size, workers, use_multiprocessing, shuffle, initial_epoch)\u001b[0m\n\u001b[1;32m   1827\u001b[0m         \u001b[0muse_multiprocessing\u001b[0m\u001b[0;34m=\u001b[0m\u001b[0muse_multiprocessing\u001b[0m\u001b[0;34m,\u001b[0m\u001b[0;34m\u001b[0m\u001b[0;34m\u001b[0m\u001b[0m\n\u001b[1;32m   1828\u001b[0m         \u001b[0mshuffle\u001b[0m\u001b[0;34m=\u001b[0m\u001b[0mshuffle\u001b[0m\u001b[0;34m,\u001b[0m\u001b[0;34m\u001b[0m\u001b[0;34m\u001b[0m\u001b[0m\n\u001b[0;32m-> 1829\u001b[0;31m         initial_epoch=initial_epoch)\n\u001b[0m\u001b[1;32m   1830\u001b[0m \u001b[0;34m\u001b[0m\u001b[0m\n\u001b[1;32m   1831\u001b[0m   @deprecation.deprecated(\n",
      "\u001b[0;32m/usr/local/lib/python3.7/site-packages/tensorflow/python/keras/engine/training.py\u001b[0m in \u001b[0;36m_method_wrapper\u001b[0;34m(self, *args, **kwargs)\u001b[0m\n\u001b[1;32m    106\u001b[0m   \u001b[0;32mdef\u001b[0m \u001b[0m_method_wrapper\u001b[0m\u001b[0;34m(\u001b[0m\u001b[0mself\u001b[0m\u001b[0;34m,\u001b[0m \u001b[0;34m*\u001b[0m\u001b[0margs\u001b[0m\u001b[0;34m,\u001b[0m \u001b[0;34m**\u001b[0m\u001b[0mkwargs\u001b[0m\u001b[0;34m)\u001b[0m\u001b[0;34m:\u001b[0m\u001b[0;34m\u001b[0m\u001b[0;34m\u001b[0m\u001b[0m\n\u001b[1;32m    107\u001b[0m     \u001b[0;32mif\u001b[0m \u001b[0;32mnot\u001b[0m \u001b[0mself\u001b[0m\u001b[0;34m.\u001b[0m\u001b[0m_in_multi_worker_mode\u001b[0m\u001b[0;34m(\u001b[0m\u001b[0;34m)\u001b[0m\u001b[0;34m:\u001b[0m  \u001b[0;31m# pylint: disable=protected-access\u001b[0m\u001b[0;34m\u001b[0m\u001b[0;34m\u001b[0m\u001b[0m\n\u001b[0;32m--> 108\u001b[0;31m       \u001b[0;32mreturn\u001b[0m \u001b[0mmethod\u001b[0m\u001b[0;34m(\u001b[0m\u001b[0mself\u001b[0m\u001b[0;34m,\u001b[0m \u001b[0;34m*\u001b[0m\u001b[0margs\u001b[0m\u001b[0;34m,\u001b[0m \u001b[0;34m**\u001b[0m\u001b[0mkwargs\u001b[0m\u001b[0;34m)\u001b[0m\u001b[0;34m\u001b[0m\u001b[0;34m\u001b[0m\u001b[0m\n\u001b[0m\u001b[1;32m    109\u001b[0m \u001b[0;34m\u001b[0m\u001b[0m\n\u001b[1;32m    110\u001b[0m     \u001b[0;31m# Running inside `run_distribute_coordinator` already.\u001b[0m\u001b[0;34m\u001b[0m\u001b[0;34m\u001b[0m\u001b[0;34m\u001b[0m\u001b[0m\n",
      "\u001b[0;32m/usr/local/lib/python3.7/site-packages/tensorflow/python/keras/engine/training.py\u001b[0m in \u001b[0;36mfit\u001b[0;34m(self, x, y, batch_size, epochs, verbose, callbacks, validation_split, validation_data, shuffle, class_weight, sample_weight, initial_epoch, steps_per_epoch, validation_steps, validation_batch_size, validation_freq, max_queue_size, workers, use_multiprocessing)\u001b[0m\n\u001b[1;32m   1131\u001b[0m               \u001b[0mworkers\u001b[0m\u001b[0;34m=\u001b[0m\u001b[0mworkers\u001b[0m\u001b[0;34m,\u001b[0m\u001b[0;34m\u001b[0m\u001b[0;34m\u001b[0m\u001b[0m\n\u001b[1;32m   1132\u001b[0m               \u001b[0muse_multiprocessing\u001b[0m\u001b[0;34m=\u001b[0m\u001b[0muse_multiprocessing\u001b[0m\u001b[0;34m,\u001b[0m\u001b[0;34m\u001b[0m\u001b[0;34m\u001b[0m\u001b[0m\n\u001b[0;32m-> 1133\u001b[0;31m               return_dict=True)\n\u001b[0m\u001b[1;32m   1134\u001b[0m           \u001b[0mval_logs\u001b[0m \u001b[0;34m=\u001b[0m \u001b[0;34m{\u001b[0m\u001b[0;34m'val_'\u001b[0m \u001b[0;34m+\u001b[0m \u001b[0mname\u001b[0m\u001b[0;34m:\u001b[0m \u001b[0mval\u001b[0m \u001b[0;32mfor\u001b[0m \u001b[0mname\u001b[0m\u001b[0;34m,\u001b[0m \u001b[0mval\u001b[0m \u001b[0;32min\u001b[0m \u001b[0mval_logs\u001b[0m\u001b[0;34m.\u001b[0m\u001b[0mitems\u001b[0m\u001b[0;34m(\u001b[0m\u001b[0;34m)\u001b[0m\u001b[0;34m}\u001b[0m\u001b[0;34m\u001b[0m\u001b[0;34m\u001b[0m\u001b[0m\n\u001b[1;32m   1135\u001b[0m           \u001b[0mepoch_logs\u001b[0m\u001b[0;34m.\u001b[0m\u001b[0mupdate\u001b[0m\u001b[0;34m(\u001b[0m\u001b[0mval_logs\u001b[0m\u001b[0;34m)\u001b[0m\u001b[0;34m\u001b[0m\u001b[0;34m\u001b[0m\u001b[0m\n",
      "\u001b[0;32m/usr/local/lib/python3.7/site-packages/tensorflow/python/keras/engine/training.py\u001b[0m in \u001b[0;36m_method_wrapper\u001b[0;34m(self, *args, **kwargs)\u001b[0m\n\u001b[1;32m    106\u001b[0m   \u001b[0;32mdef\u001b[0m \u001b[0m_method_wrapper\u001b[0m\u001b[0;34m(\u001b[0m\u001b[0mself\u001b[0m\u001b[0;34m,\u001b[0m \u001b[0;34m*\u001b[0m\u001b[0margs\u001b[0m\u001b[0;34m,\u001b[0m \u001b[0;34m**\u001b[0m\u001b[0mkwargs\u001b[0m\u001b[0;34m)\u001b[0m\u001b[0;34m:\u001b[0m\u001b[0;34m\u001b[0m\u001b[0;34m\u001b[0m\u001b[0m\n\u001b[1;32m    107\u001b[0m     \u001b[0;32mif\u001b[0m \u001b[0;32mnot\u001b[0m \u001b[0mself\u001b[0m\u001b[0;34m.\u001b[0m\u001b[0m_in_multi_worker_mode\u001b[0m\u001b[0;34m(\u001b[0m\u001b[0;34m)\u001b[0m\u001b[0;34m:\u001b[0m  \u001b[0;31m# pylint: disable=protected-access\u001b[0m\u001b[0;34m\u001b[0m\u001b[0;34m\u001b[0m\u001b[0m\n\u001b[0;32m--> 108\u001b[0;31m       \u001b[0;32mreturn\u001b[0m \u001b[0mmethod\u001b[0m\u001b[0;34m(\u001b[0m\u001b[0mself\u001b[0m\u001b[0;34m,\u001b[0m \u001b[0;34m*\u001b[0m\u001b[0margs\u001b[0m\u001b[0;34m,\u001b[0m \u001b[0;34m**\u001b[0m\u001b[0mkwargs\u001b[0m\u001b[0;34m)\u001b[0m\u001b[0;34m\u001b[0m\u001b[0;34m\u001b[0m\u001b[0m\n\u001b[0m\u001b[1;32m    109\u001b[0m \u001b[0;34m\u001b[0m\u001b[0m\n\u001b[1;32m    110\u001b[0m     \u001b[0;31m# Running inside `run_distribute_coordinator` already.\u001b[0m\u001b[0;34m\u001b[0m\u001b[0;34m\u001b[0m\u001b[0;34m\u001b[0m\u001b[0m\n",
      "\u001b[0;32m/usr/local/lib/python3.7/site-packages/tensorflow/python/keras/engine/training.py\u001b[0m in \u001b[0;36mevaluate\u001b[0;34m(self, x, y, batch_size, verbose, sample_weight, steps, callbacks, max_queue_size, workers, use_multiprocessing, return_dict)\u001b[0m\n\u001b[1;32m   1377\u001b[0m             \u001b[0;32mwith\u001b[0m \u001b[0mtrace\u001b[0m\u001b[0;34m.\u001b[0m\u001b[0mTrace\u001b[0m\u001b[0;34m(\u001b[0m\u001b[0;34m'TraceContext'\u001b[0m\u001b[0;34m,\u001b[0m \u001b[0mgraph_type\u001b[0m\u001b[0;34m=\u001b[0m\u001b[0;34m'test'\u001b[0m\u001b[0;34m,\u001b[0m \u001b[0mstep_num\u001b[0m\u001b[0;34m=\u001b[0m\u001b[0mstep\u001b[0m\u001b[0;34m)\u001b[0m\u001b[0;34m:\u001b[0m\u001b[0;34m\u001b[0m\u001b[0;34m\u001b[0m\u001b[0m\n\u001b[1;32m   1378\u001b[0m               \u001b[0mcallbacks\u001b[0m\u001b[0;34m.\u001b[0m\u001b[0mon_test_batch_begin\u001b[0m\u001b[0;34m(\u001b[0m\u001b[0mstep\u001b[0m\u001b[0;34m)\u001b[0m\u001b[0;34m\u001b[0m\u001b[0;34m\u001b[0m\u001b[0m\n\u001b[0;32m-> 1379\u001b[0;31m               \u001b[0mtmp_logs\u001b[0m \u001b[0;34m=\u001b[0m \u001b[0mtest_function\u001b[0m\u001b[0;34m(\u001b[0m\u001b[0miterator\u001b[0m\u001b[0;34m)\u001b[0m\u001b[0;34m\u001b[0m\u001b[0;34m\u001b[0m\u001b[0m\n\u001b[0m\u001b[1;32m   1380\u001b[0m               \u001b[0;32mif\u001b[0m \u001b[0mdata_handler\u001b[0m\u001b[0;34m.\u001b[0m\u001b[0mshould_sync\u001b[0m\u001b[0;34m:\u001b[0m\u001b[0;34m\u001b[0m\u001b[0;34m\u001b[0m\u001b[0m\n\u001b[1;32m   1381\u001b[0m                 \u001b[0mcontext\u001b[0m\u001b[0;34m.\u001b[0m\u001b[0masync_wait\u001b[0m\u001b[0;34m(\u001b[0m\u001b[0;34m)\u001b[0m\u001b[0;34m\u001b[0m\u001b[0;34m\u001b[0m\u001b[0m\n",
      "\u001b[0;32m/usr/local/lib/python3.7/site-packages/tensorflow/python/eager/def_function.py\u001b[0m in \u001b[0;36m__call__\u001b[0;34m(self, *args, **kwds)\u001b[0m\n\u001b[1;32m    778\u001b[0m       \u001b[0;32melse\u001b[0m\u001b[0;34m:\u001b[0m\u001b[0;34m\u001b[0m\u001b[0;34m\u001b[0m\u001b[0m\n\u001b[1;32m    779\u001b[0m         \u001b[0mcompiler\u001b[0m \u001b[0;34m=\u001b[0m \u001b[0;34m\"nonXla\"\u001b[0m\u001b[0;34m\u001b[0m\u001b[0;34m\u001b[0m\u001b[0m\n\u001b[0;32m--> 780\u001b[0;31m         \u001b[0mresult\u001b[0m \u001b[0;34m=\u001b[0m \u001b[0mself\u001b[0m\u001b[0;34m.\u001b[0m\u001b[0m_call\u001b[0m\u001b[0;34m(\u001b[0m\u001b[0;34m*\u001b[0m\u001b[0margs\u001b[0m\u001b[0;34m,\u001b[0m \u001b[0;34m**\u001b[0m\u001b[0mkwds\u001b[0m\u001b[0;34m)\u001b[0m\u001b[0;34m\u001b[0m\u001b[0;34m\u001b[0m\u001b[0m\n\u001b[0m\u001b[1;32m    781\u001b[0m \u001b[0;34m\u001b[0m\u001b[0m\n\u001b[1;32m    782\u001b[0m       \u001b[0mnew_tracing_count\u001b[0m \u001b[0;34m=\u001b[0m \u001b[0mself\u001b[0m\u001b[0;34m.\u001b[0m\u001b[0m_get_tracing_count\u001b[0m\u001b[0;34m(\u001b[0m\u001b[0;34m)\u001b[0m\u001b[0;34m\u001b[0m\u001b[0;34m\u001b[0m\u001b[0m\n",
      "\u001b[0;32m/usr/local/lib/python3.7/site-packages/tensorflow/python/eager/def_function.py\u001b[0m in \u001b[0;36m_call\u001b[0;34m(self, *args, **kwds)\u001b[0m\n\u001b[1;32m    812\u001b[0m       \u001b[0;31m# In this case we have not created variables on the first call. So we can\u001b[0m\u001b[0;34m\u001b[0m\u001b[0;34m\u001b[0m\u001b[0;34m\u001b[0m\u001b[0m\n\u001b[1;32m    813\u001b[0m       \u001b[0;31m# run the first trace but we should fail if variables are created.\u001b[0m\u001b[0;34m\u001b[0m\u001b[0;34m\u001b[0m\u001b[0;34m\u001b[0m\u001b[0m\n\u001b[0;32m--> 814\u001b[0;31m       \u001b[0mresults\u001b[0m \u001b[0;34m=\u001b[0m \u001b[0mself\u001b[0m\u001b[0;34m.\u001b[0m\u001b[0m_stateful_fn\u001b[0m\u001b[0;34m(\u001b[0m\u001b[0;34m*\u001b[0m\u001b[0margs\u001b[0m\u001b[0;34m,\u001b[0m \u001b[0;34m**\u001b[0m\u001b[0mkwds\u001b[0m\u001b[0;34m)\u001b[0m\u001b[0;34m\u001b[0m\u001b[0;34m\u001b[0m\u001b[0m\n\u001b[0m\u001b[1;32m    815\u001b[0m       \u001b[0;32mif\u001b[0m \u001b[0mself\u001b[0m\u001b[0;34m.\u001b[0m\u001b[0m_created_variables\u001b[0m\u001b[0;34m:\u001b[0m\u001b[0;34m\u001b[0m\u001b[0;34m\u001b[0m\u001b[0m\n\u001b[1;32m    816\u001b[0m         raise ValueError(\"Creating variables on a non-first call to a function\"\n",
      "\u001b[0;32m/usr/local/lib/python3.7/site-packages/tensorflow/python/eager/function.py\u001b[0m in \u001b[0;36m__call__\u001b[0;34m(self, *args, **kwargs)\u001b[0m\n\u001b[1;32m   2827\u001b[0m     \u001b[0;32mwith\u001b[0m \u001b[0mself\u001b[0m\u001b[0;34m.\u001b[0m\u001b[0m_lock\u001b[0m\u001b[0;34m:\u001b[0m\u001b[0;34m\u001b[0m\u001b[0;34m\u001b[0m\u001b[0m\n\u001b[1;32m   2828\u001b[0m       \u001b[0mgraph_function\u001b[0m\u001b[0;34m,\u001b[0m \u001b[0margs\u001b[0m\u001b[0;34m,\u001b[0m \u001b[0mkwargs\u001b[0m \u001b[0;34m=\u001b[0m \u001b[0mself\u001b[0m\u001b[0;34m.\u001b[0m\u001b[0m_maybe_define_function\u001b[0m\u001b[0;34m(\u001b[0m\u001b[0margs\u001b[0m\u001b[0;34m,\u001b[0m \u001b[0mkwargs\u001b[0m\u001b[0;34m)\u001b[0m\u001b[0;34m\u001b[0m\u001b[0;34m\u001b[0m\u001b[0m\n\u001b[0;32m-> 2829\u001b[0;31m     \u001b[0;32mreturn\u001b[0m \u001b[0mgraph_function\u001b[0m\u001b[0;34m.\u001b[0m\u001b[0m_filtered_call\u001b[0m\u001b[0;34m(\u001b[0m\u001b[0margs\u001b[0m\u001b[0;34m,\u001b[0m \u001b[0mkwargs\u001b[0m\u001b[0;34m)\u001b[0m  \u001b[0;31m# pylint: disable=protected-access\u001b[0m\u001b[0;34m\u001b[0m\u001b[0;34m\u001b[0m\u001b[0m\n\u001b[0m\u001b[1;32m   2830\u001b[0m \u001b[0;34m\u001b[0m\u001b[0m\n\u001b[1;32m   2831\u001b[0m   \u001b[0;34m@\u001b[0m\u001b[0mproperty\u001b[0m\u001b[0;34m\u001b[0m\u001b[0;34m\u001b[0m\u001b[0m\n",
      "\u001b[0;32m/usr/local/lib/python3.7/site-packages/tensorflow/python/eager/function.py\u001b[0m in \u001b[0;36m_filtered_call\u001b[0;34m(self, args, kwargs, cancellation_manager)\u001b[0m\n\u001b[1;32m   1846\u001b[0m                            resource_variable_ops.BaseResourceVariable))],\n\u001b[1;32m   1847\u001b[0m         \u001b[0mcaptured_inputs\u001b[0m\u001b[0;34m=\u001b[0m\u001b[0mself\u001b[0m\u001b[0;34m.\u001b[0m\u001b[0mcaptured_inputs\u001b[0m\u001b[0;34m,\u001b[0m\u001b[0;34m\u001b[0m\u001b[0;34m\u001b[0m\u001b[0m\n\u001b[0;32m-> 1848\u001b[0;31m         cancellation_manager=cancellation_manager)\n\u001b[0m\u001b[1;32m   1849\u001b[0m \u001b[0;34m\u001b[0m\u001b[0m\n\u001b[1;32m   1850\u001b[0m   \u001b[0;32mdef\u001b[0m \u001b[0m_call_flat\u001b[0m\u001b[0;34m(\u001b[0m\u001b[0mself\u001b[0m\u001b[0;34m,\u001b[0m \u001b[0margs\u001b[0m\u001b[0;34m,\u001b[0m \u001b[0mcaptured_inputs\u001b[0m\u001b[0;34m,\u001b[0m \u001b[0mcancellation_manager\u001b[0m\u001b[0;34m=\u001b[0m\u001b[0;32mNone\u001b[0m\u001b[0;34m)\u001b[0m\u001b[0;34m:\u001b[0m\u001b[0;34m\u001b[0m\u001b[0;34m\u001b[0m\u001b[0m\n",
      "\u001b[0;32m/usr/local/lib/python3.7/site-packages/tensorflow/python/eager/function.py\u001b[0m in \u001b[0;36m_call_flat\u001b[0;34m(self, args, captured_inputs, cancellation_manager)\u001b[0m\n\u001b[1;32m   1922\u001b[0m       \u001b[0;31m# No tape is watching; skip to running the function.\u001b[0m\u001b[0;34m\u001b[0m\u001b[0;34m\u001b[0m\u001b[0;34m\u001b[0m\u001b[0m\n\u001b[1;32m   1923\u001b[0m       return self._build_call_outputs(self._inference_function.call(\n\u001b[0;32m-> 1924\u001b[0;31m           ctx, args, cancellation_manager=cancellation_manager))\n\u001b[0m\u001b[1;32m   1925\u001b[0m     forward_backward = self._select_forward_and_backward_functions(\n\u001b[1;32m   1926\u001b[0m         \u001b[0margs\u001b[0m\u001b[0;34m,\u001b[0m\u001b[0;34m\u001b[0m\u001b[0;34m\u001b[0m\u001b[0m\n",
      "\u001b[0;32m/usr/local/lib/python3.7/site-packages/tensorflow/python/eager/function.py\u001b[0m in \u001b[0;36mcall\u001b[0;34m(self, ctx, args, cancellation_manager)\u001b[0m\n\u001b[1;32m    548\u001b[0m               \u001b[0minputs\u001b[0m\u001b[0;34m=\u001b[0m\u001b[0margs\u001b[0m\u001b[0;34m,\u001b[0m\u001b[0;34m\u001b[0m\u001b[0;34m\u001b[0m\u001b[0m\n\u001b[1;32m    549\u001b[0m               \u001b[0mattrs\u001b[0m\u001b[0;34m=\u001b[0m\u001b[0mattrs\u001b[0m\u001b[0;34m,\u001b[0m\u001b[0;34m\u001b[0m\u001b[0;34m\u001b[0m\u001b[0m\n\u001b[0;32m--> 550\u001b[0;31m               ctx=ctx)\n\u001b[0m\u001b[1;32m    551\u001b[0m         \u001b[0;32melse\u001b[0m\u001b[0;34m:\u001b[0m\u001b[0;34m\u001b[0m\u001b[0;34m\u001b[0m\u001b[0m\n\u001b[1;32m    552\u001b[0m           outputs = execute.execute_with_cancellation(\n",
      "\u001b[0;32m/usr/local/lib/python3.7/site-packages/tensorflow/python/eager/execute.py\u001b[0m in \u001b[0;36mquick_execute\u001b[0;34m(op_name, num_outputs, inputs, attrs, ctx, name)\u001b[0m\n\u001b[1;32m     58\u001b[0m     \u001b[0mctx\u001b[0m\u001b[0;34m.\u001b[0m\u001b[0mensure_initialized\u001b[0m\u001b[0;34m(\u001b[0m\u001b[0;34m)\u001b[0m\u001b[0;34m\u001b[0m\u001b[0;34m\u001b[0m\u001b[0m\n\u001b[1;32m     59\u001b[0m     tensors = pywrap_tfe.TFE_Py_Execute(ctx._handle, device_name, op_name,\n\u001b[0;32m---> 60\u001b[0;31m                                         inputs, attrs, num_outputs)\n\u001b[0m\u001b[1;32m     61\u001b[0m   \u001b[0;32mexcept\u001b[0m \u001b[0mcore\u001b[0m\u001b[0;34m.\u001b[0m\u001b[0m_NotOkStatusException\u001b[0m \u001b[0;32mas\u001b[0m \u001b[0me\u001b[0m\u001b[0;34m:\u001b[0m\u001b[0;34m\u001b[0m\u001b[0;34m\u001b[0m\u001b[0m\n\u001b[1;32m     62\u001b[0m     \u001b[0;32mif\u001b[0m \u001b[0mname\u001b[0m \u001b[0;32mis\u001b[0m \u001b[0;32mnot\u001b[0m \u001b[0;32mNone\u001b[0m\u001b[0;34m:\u001b[0m\u001b[0;34m\u001b[0m\u001b[0;34m\u001b[0m\u001b[0m\n",
      "\u001b[0;31mKeyboardInterrupt\u001b[0m: "
     ]
    }
   ],
   "source": [
    "\n",
    "callback = keras.callbacks.EarlyStopping(monitor='val_accuracy', patience=15, restore_best_weights=True)\n",
    "\n",
    "resNetModel.fit_generator(generator=train_generator,epochs=100,validation_data=(xValid, yValid), callbacks=[callback])\n",
    "\n"
   ]
  },
  {
   "cell_type": "code",
   "execution_count": null,
   "metadata": {},
   "outputs": [],
   "source": []
  },
  {
   "cell_type": "code",
   "execution_count": 24,
   "metadata": {},
   "outputs": [
    {
     "data": {
      "text/html": [
       "<div>\n",
       "<style scoped>\n",
       "    .dataframe tbody tr th:only-of-type {\n",
       "        vertical-align: middle;\n",
       "    }\n",
       "\n",
       "    .dataframe tbody tr th {\n",
       "        vertical-align: top;\n",
       "    }\n",
       "\n",
       "    .dataframe thead th {\n",
       "        text-align: right;\n",
       "    }\n",
       "</style>\n",
       "<table border=\"1\" class=\"dataframe\">\n",
       "  <thead>\n",
       "    <tr style=\"text-align: right;\">\n",
       "      <th></th>\n",
       "      <th>Category</th>\n",
       "    </tr>\n",
       "    <tr>\n",
       "      <th>Id</th>\n",
       "      <th></th>\n",
       "    </tr>\n",
       "  </thead>\n",
       "  <tbody>\n",
       "    <tr>\n",
       "      <th>0</th>\n",
       "      <td>2</td>\n",
       "    </tr>\n",
       "    <tr>\n",
       "      <th>1</th>\n",
       "      <td>2</td>\n",
       "    </tr>\n",
       "    <tr>\n",
       "      <th>2</th>\n",
       "      <td>4</td>\n",
       "    </tr>\n",
       "    <tr>\n",
       "      <th>3</th>\n",
       "      <td>0</td>\n",
       "    </tr>\n",
       "    <tr>\n",
       "      <th>4</th>\n",
       "      <td>1</td>\n",
       "    </tr>\n",
       "    <tr>\n",
       "      <th>5</th>\n",
       "      <td>4</td>\n",
       "    </tr>\n",
       "    <tr>\n",
       "      <th>6</th>\n",
       "      <td>2</td>\n",
       "    </tr>\n",
       "    <tr>\n",
       "      <th>7</th>\n",
       "      <td>4</td>\n",
       "    </tr>\n",
       "    <tr>\n",
       "      <th>8</th>\n",
       "      <td>5</td>\n",
       "    </tr>\n",
       "    <tr>\n",
       "      <th>9</th>\n",
       "      <td>5</td>\n",
       "    </tr>\n",
       "    <tr>\n",
       "      <th>10</th>\n",
       "      <td>4</td>\n",
       "    </tr>\n",
       "    <tr>\n",
       "      <th>11</th>\n",
       "      <td>1</td>\n",
       "    </tr>\n",
       "    <tr>\n",
       "      <th>12</th>\n",
       "      <td>1</td>\n",
       "    </tr>\n",
       "    <tr>\n",
       "      <th>13</th>\n",
       "      <td>1</td>\n",
       "    </tr>\n",
       "    <tr>\n",
       "      <th>14</th>\n",
       "      <td>4</td>\n",
       "    </tr>\n",
       "    <tr>\n",
       "      <th>15</th>\n",
       "      <td>5</td>\n",
       "    </tr>\n",
       "    <tr>\n",
       "      <th>16</th>\n",
       "      <td>2</td>\n",
       "    </tr>\n",
       "    <tr>\n",
       "      <th>17</th>\n",
       "      <td>3</td>\n",
       "    </tr>\n",
       "    <tr>\n",
       "      <th>18</th>\n",
       "      <td>0</td>\n",
       "    </tr>\n",
       "    <tr>\n",
       "      <th>19</th>\n",
       "      <td>3</td>\n",
       "    </tr>\n",
       "  </tbody>\n",
       "</table>\n",
       "</div>"
      ],
      "text/plain": [
       "    Category\n",
       "Id          \n",
       "0          2\n",
       "1          2\n",
       "2          4\n",
       "3          0\n",
       "4          1\n",
       "5          4\n",
       "6          2\n",
       "7          4\n",
       "8          5\n",
       "9          5\n",
       "10         4\n",
       "11         1\n",
       "12         1\n",
       "13         1\n",
       "14         4\n",
       "15         5\n",
       "16         2\n",
       "17         3\n",
       "18         0\n",
       "19         3"
      ]
     },
     "execution_count": 24,
     "metadata": {},
     "output_type": "execute_result"
    }
   ],
   "source": [
    "pred[:20]"
   ]
  },
  {
   "cell_type": "code",
   "execution_count": 89,
   "metadata": {},
   "outputs": [],
   "source": [
    "pred.to_csv('mobileNetTransferPredictions.csv')"
   ]
  },
  {
   "cell_type": "code",
   "execution_count": 24,
   "metadata": {},
   "outputs": [],
   "source": [
    "reshaped = keras.applications.mobilenet.preprocess_input(testReshapedX)"
   ]
  },
  {
   "cell_type": "code",
   "execution_count": null,
   "metadata": {},
   "outputs": [],
   "source": []
  }
 ],
 "metadata": {
  "kernelspec": {
   "display_name": "Python 3",
   "language": "python",
   "name": "python3"
  },
  "language_info": {
   "codemirror_mode": {
    "name": "ipython",
    "version": 3
   },
   "file_extension": ".py",
   "mimetype": "text/x-python",
   "name": "python",
   "nbconvert_exporter": "python",
   "pygments_lexer": "ipython3",
   "version": "3.7.3"
  }
 },
 "nbformat": 4,
 "nbformat_minor": 4
}
